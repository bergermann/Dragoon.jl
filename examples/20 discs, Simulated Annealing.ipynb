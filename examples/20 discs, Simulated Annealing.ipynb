{
 "cells": [
  {
   "cell_type": "markdown",
   "metadata": {},
   "source": [
    "### Setup"
   ]
  },
  {
   "cell_type": "code",
   "execution_count": 1,
   "metadata": {},
   "outputs": [
    {
     "name": "stderr",
     "output_type": "stream",
     "text": [
      "\u001b[32m\u001b[1m    Updating\u001b[22m\u001b[39m registry at `C:\\Users\\domin\\.julia\\registries\\General`\n",
      "┌ Info: The General registry is installed via git. Consider reinstalling it via\n",
      "│ the newer faster direct from tarball format by running:\n",
      "│   pkg> registry rm General; registry add General\n",
      "│ \n",
      "└ @ Pkg.Registry C:\\Users\\domin\\.julia\\juliaup\\julia-1.11.3+0.x64.w64.mingw32\\share\\julia\\stdlib\\v1.11\\Pkg\\src\\Registry\\Registry.jl:478\n",
      "\u001b[32m\u001b[1m    Updating\u001b[22m\u001b[39m git-repo `https://github.com/JuliaRegistries/General.git`\n",
      "\u001b[32m\u001b[1m    Updating\u001b[22m\u001b[39m git-repo `https://github.com/mppmu/BoostFractor.jl.git`\n",
      "\u001b[32m\u001b[1m    Updating\u001b[22m\u001b[39m git-repo `https://github.com/bergermann/Dragoon.jl.git`\n",
      "\u001b[32m\u001b[1m   Installed\u001b[22m\u001b[39m ArrayInterface ──── v7.19.0\n",
      "\u001b[32m\u001b[1m   Installed\u001b[22m\u001b[39m ImageSegmentation ─ v1.9.0\n",
      "\u001b[32m\u001b[1m   Installed\u001b[22m\u001b[39m libpng_jll ──────── v1.6.48+0\n",
      "\u001b[32m\u001b[1m   Installed\u001b[22m\u001b[39m Unitful ─────────── v1.22.1\n",
      "\u001b[32m\u001b[1m    Updating\u001b[22m\u001b[39m `C:\\Users\\domin\\.julia\\environments\\v1.11\\Project.toml`\n",
      "  \u001b[90m[2528b1d8] \u001b[39m\u001b[93m~ Dragoon v0.5.0 `https://github.com/bergermann/Dragoon.jl.git#main` ⇒ v0.5.0 `https://github.com/bergermann/Dragoon.jl.git#main`\u001b[39m\n",
      "\u001b[32m\u001b[1m    Updating\u001b[22m\u001b[39m `C:\\Users\\domin\\.julia\\environments\\v1.11\\Manifest.toml`\n",
      "  \u001b[90m[4fba245c] \u001b[39m\u001b[93m↑ ArrayInterface v7.18.1 ⇒ v7.19.0\u001b[39m\n",
      "  \u001b[90m[2528b1d8] \u001b[39m\u001b[93m~ Dragoon v0.5.0 `https://github.com/bergermann/Dragoon.jl.git#main` ⇒ v0.5.0 `https://github.com/bergermann/Dragoon.jl.git#main`\u001b[39m\n",
      "  \u001b[90m[80713f31] \u001b[39m\u001b[93m↑ ImageSegmentation v1.8.4 ⇒ v1.9.0\u001b[39m\n",
      "  \u001b[90m[1986cc42] \u001b[39m\u001b[93m↑ Unitful v1.22.0 ⇒ v1.22.1\u001b[39m\n",
      "  \u001b[90m[b53b4c65] \u001b[39m\u001b[93m↑ libpng_jll v1.6.47+0 ⇒ v1.6.48+0\u001b[39m\n",
      "\u001b[92m\u001b[1mPrecompiling\u001b[22m\u001b[39m project...\n",
      "   7849.9 ms\u001b[32m  ✓ \u001b[39m\u001b[90mArrayInterface\u001b[39m\n",
      "   3619.6 ms\u001b[32m  ✓ \u001b[39m\u001b[90mlibpng_jll\u001b[39m\n",
      "    392.8 ms\u001b[32m  ✓ \u001b[39m\u001b[90mArrayInterface → ArrayInterfaceStaticArraysCoreExt\u001b[39m\n",
      "    517.3 ms\u001b[32m  ✓ \u001b[39m\u001b[90mArrayInterface → ArrayInterfaceSparseArraysExt\u001b[39m\n",
      "    655.6 ms\u001b[32m  ✓ \u001b[39m\u001b[90mArrayInterface → ArrayInterfaceChainRulesCoreExt\u001b[39m\n",
      "    698.4 ms\u001b[32m  ✓ \u001b[39m\u001b[90mlibsixel_jll\u001b[39m\n",
      "    788.0 ms\u001b[32m  ✓ \u001b[39m\u001b[90mCairo_jll\u001b[39m\n",
      "    840.6 ms\u001b[32m  ✓ \u001b[39m\u001b[90mOpenJpeg_jll\u001b[39m\n",
      "    854.2 ms\u001b[32m  ✓ \u001b[39m\u001b[90mlibwebp_jll\u001b[39m\n",
      "   1336.9 ms\u001b[32m  ✓ \u001b[39m\u001b[90mStaticArrayInterface\u001b[39m\n",
      "    722.4 ms\u001b[32m  ✓ \u001b[39m\u001b[90mHarfBuzz_jll\u001b[39m\n",
      "    793.9 ms\u001b[32m  ✓ \u001b[39m\u001b[90mImageMagick_jll\u001b[39m\n",
      "    708.4 ms\u001b[32m  ✓ \u001b[39m\u001b[90mCloseOpenIntervals\u001b[39m\n",
      "    811.1 ms\u001b[32m  ✓ \u001b[39m\u001b[90mStaticArrayInterface → StaticArrayInterfaceOffsetArraysExt\u001b[39m\n",
      "    925.2 ms\u001b[32m  ✓ \u001b[39m\u001b[90mStaticArrayInterface → StaticArrayInterfaceStaticArraysExt\u001b[39m\n",
      "    848.8 ms\u001b[32m  ✓ \u001b[39m\u001b[90mLayoutPointers\u001b[39m\n",
      "   1225.8 ms\u001b[32m  ✓ \u001b[39m\u001b[90mlibass_jll\u001b[39m\n",
      "   1187.9 ms\u001b[32m  ✓ \u001b[39m\u001b[90mPango_jll\u001b[39m\n",
      "    756.9 ms\u001b[32m  ✓ \u001b[39m\u001b[90mTiledIteration\u001b[39m\n",
      "   3095.2 ms\u001b[32m  ✓ \u001b[39m\u001b[90mPNGFiles\u001b[39m\n",
      "   2679.6 ms\u001b[32m  ✓ \u001b[39m\u001b[90mSixel\u001b[39m\n",
      "   2529.6 ms\u001b[32m  ✓ \u001b[39m\u001b[90mWebP\u001b[39m\n",
      "    783.9 ms\u001b[32m  ✓ \u001b[39m\u001b[90mFFMPEG_jll\u001b[39m\n",
      "    570.3 ms\u001b[32m  ✓ \u001b[39m\u001b[90mFFMPEG\u001b[39m\n",
      "   1159.3 ms\u001b[32m  ✓ \u001b[39m\u001b[90mGR_jll\u001b[39m\n",
      "   3809.8 ms\u001b[32m  ✓ \u001b[39m\u001b[90mImageMagick\u001b[39m\n",
      "   4617.4 ms\u001b[32m  ✓ \u001b[39m\u001b[90mVectorizationBase\u001b[39m\n",
      "   2924.8 ms\u001b[32m  ✓ \u001b[39m\u001b[90mGR\u001b[39m\n",
      "    936.9 ms\u001b[32m  ✓ \u001b[39m\u001b[90mSLEEFPirates\u001b[39m\n",
      "  14311.5 ms\u001b[32m  ✓ \u001b[39m\u001b[90mUnitful\u001b[39m\n",
      "    799.1 ms\u001b[32m  ✓ \u001b[39m\u001b[90mUnitful → ConstructionBaseUnitfulExt\u001b[39m\n",
      "    843.0 ms\u001b[32m  ✓ \u001b[39m\u001b[90mUnitful → InverseFunctionsUnitfulExt\u001b[39m\n",
      "    695.8 ms\u001b[32m  ✓ \u001b[39m\u001b[90mAccessors → UnitfulExt\u001b[39m\n",
      "    990.9 ms\u001b[32m  ✓ \u001b[39m\u001b[90mInterpolations → InterpolationsUnitfulExt\u001b[39m\n",
      "   1320.1 ms\u001b[32m  ✓ \u001b[39m\u001b[90mUnitfulLatexify\u001b[39m\n",
      "  12344.7 ms\u001b[32m  ✓ \u001b[39m\u001b[90mLoopVectorization\u001b[39m\n",
      "   1280.6 ms\u001b[32m  ✓ \u001b[39m\u001b[90mLoopVectorization → SpecialFunctionsExt\u001b[39m\n",
      "   1353.3 ms\u001b[32m  ✓ \u001b[39m\u001b[90mLoopVectorization → ForwardDiffExt\u001b[39m\n",
      "   2475.8 ms\u001b[32m  ✓ \u001b[39m\u001b[90mImageMorphology\u001b[39m\n",
      "   1434.1 ms\u001b[32m  ✓ \u001b[39m\u001b[90mImageDistances\u001b[39m\n",
      "  26909.7 ms\u001b[32m  ✓ \u001b[39m\u001b[90mImageFiltering\u001b[39m\n",
      "   3028.9 ms\u001b[32m  ✓ \u001b[39m\u001b[90mImageSegmentation\u001b[39m\n",
      "   5308.2 ms\u001b[32m  ✓ \u001b[39m\u001b[90mImageCorners\u001b[39m\n",
      "   6927.6 ms\u001b[32m  ✓ \u001b[39m\u001b[90mImageQualityIndexes\u001b[39m\n",
      "   3613.6 ms\u001b[32m  ✓ \u001b[39mImages\n",
      "  34824.5 ms\u001b[32m  ✓ \u001b[39mPlots\n",
      "   2626.7 ms\u001b[32m  ✓ \u001b[39mPlots → FileIOExt\n",
      "   2991.3 ms\u001b[32m  ✓ \u001b[39mPlots → UnitfulExt\n",
      "   3591.7 ms\u001b[32m  ✓ \u001b[39mDragoon\n",
      "  49 dependencies successfully precompiled in 78 seconds. 329 already precompiled.\n",
      "\u001b[36m\u001b[1m        Info\u001b[22m\u001b[39m We haven't cleaned this depot up for a bit, running Pkg.gc()...\n",
      "\u001b[32m\u001b[1m      Active\u001b[22m\u001b[39m manifest files: 6 found\n",
      "\u001b[32m\u001b[1m      Active\u001b[22m\u001b[39m artifact files: 298 found\n",
      "\u001b[32m\u001b[1m      Active\u001b[22m\u001b[39m scratchspaces: 3 found\n",
      "\u001b[32m\u001b[1m     Deleted\u001b[22m\u001b[39m 4 package installations (178.948 MiB)\n",
      "\u001b[32m\u001b[1m     Deleted\u001b[22m\u001b[39m 1 repo (24.321 MiB)\n",
      "\u001b[32m\u001b[1m     Deleted\u001b[22m\u001b[39m 13 artifact installations (220.394 MiB)\n"
     ]
    }
   ],
   "source": [
    "# install if not yet done\n",
    "using Pkg\n",
    "\n",
    "# Pkg.add(url=\"https://github.com/mppmu/BoostFractor.jl.git\")\n",
    "# Pkg.add(url=\"https://github.com/bergermann/Dragoon.jl.git\")\n",
    "Pkg.update()"
   ]
  },
  {
   "cell_type": "code",
   "execution_count": 2,
   "metadata": {},
   "outputs": [],
   "source": [
    "using Dragoon, Plots #, Dates"
   ]
  },
  {
   "cell_type": "code",
   "execution_count": 28,
   "metadata": {},
   "outputs": [
    {
     "data": {
      "text/plain": [
       "10000-element Vector{State}:\n",
       " State([0.007209715011297336, 0.01541943002259467, 0.023629145033892004, 0.03183886004518934, 0.04004857505648668, 0.04825829006778401, 0.05646800507908135, 0.06467772009037868, 0.07288743510167603, 0.08109715011297336, 0.08930686512427068, 0.097516580135568, 0.10572629514686534, 0.11393601015816267, 0.12214572516946, 0.13035544018075734, 0.13856515519205465, 0.14677487020335206, 0.15498458521464936, 0.1631943002259467], -243.30220712543468, Dates.DateTime(\"0000-01-01T00:00:00\"))\n",
       " State([0.0, 0.0, 0.0, 0.0, 0.0, 0.0, 0.0, 0.0, 0.0, 0.0, 0.0, 0.0, 0.0, 0.0, 0.0, 0.0, 0.0, 0.0, 0.0, 0.0], 0.0, Dates.DateTime(\"0000-01-01T00:00:00\"))\n",
       " State([0.0, 0.0, 0.0, 0.0, 0.0, 0.0, 0.0, 0.0, 0.0, 0.0, 0.0, 0.0, 0.0, 0.0, 0.0, 0.0, 0.0, 0.0, 0.0, 0.0], 0.0, Dates.DateTime(\"0000-01-01T00:00:00\"))\n",
       " State([0.0, 0.0, 0.0, 0.0, 0.0, 0.0, 0.0, 0.0, 0.0, 0.0, 0.0, 0.0, 0.0, 0.0, 0.0, 0.0, 0.0, 0.0, 0.0, 0.0], 0.0, Dates.DateTime(\"0000-01-01T00:00:00\"))\n",
       " State([0.0, 0.0, 0.0, 0.0, 0.0, 0.0, 0.0, 0.0, 0.0, 0.0, 0.0, 0.0, 0.0, 0.0, 0.0, 0.0, 0.0, 0.0, 0.0, 0.0], 0.0, Dates.DateTime(\"0000-01-01T00:00:00\"))\n",
       " State([0.0, 0.0, 0.0, 0.0, 0.0, 0.0, 0.0, 0.0, 0.0, 0.0, 0.0, 0.0, 0.0, 0.0, 0.0, 0.0, 0.0, 0.0, 0.0, 0.0], 0.0, Dates.DateTime(\"0000-01-01T00:00:00\"))\n",
       " State([0.0, 0.0, 0.0, 0.0, 0.0, 0.0, 0.0, 0.0, 0.0, 0.0, 0.0, 0.0, 0.0, 0.0, 0.0, 0.0, 0.0, 0.0, 0.0, 0.0], 0.0, Dates.DateTime(\"0000-01-01T00:00:00\"))\n",
       " State([0.0, 0.0, 0.0, 0.0, 0.0, 0.0, 0.0, 0.0, 0.0, 0.0, 0.0, 0.0, 0.0, 0.0, 0.0, 0.0, 0.0, 0.0, 0.0, 0.0], 0.0, Dates.DateTime(\"0000-01-01T00:00:00\"))\n",
       " State([0.0, 0.0, 0.0, 0.0, 0.0, 0.0, 0.0, 0.0, 0.0, 0.0, 0.0, 0.0, 0.0, 0.0, 0.0, 0.0, 0.0, 0.0, 0.0, 0.0], 0.0, Dates.DateTime(\"0000-01-01T00:00:00\"))\n",
       " State([0.0, 0.0, 0.0, 0.0, 0.0, 0.0, 0.0, 0.0, 0.0, 0.0, 0.0, 0.0, 0.0, 0.0, 0.0, 0.0, 0.0, 0.0, 0.0, 0.0], 0.0, Dates.DateTime(\"0000-01-01T00:00:00\"))\n",
       " ⋮\n",
       " State([0.0, 0.0, 0.0, 0.0, 0.0, 0.0, 0.0, 0.0, 0.0, 0.0, 0.0, 0.0, 0.0, 0.0, 0.0, 0.0, 0.0, 0.0, 0.0, 0.0], 0.0, Dates.DateTime(\"0000-01-01T00:00:00\"))\n",
       " State([0.0, 0.0, 0.0, 0.0, 0.0, 0.0, 0.0, 0.0, 0.0, 0.0, 0.0, 0.0, 0.0, 0.0, 0.0, 0.0, 0.0, 0.0, 0.0, 0.0], 0.0, Dates.DateTime(\"0000-01-01T00:00:00\"))\n",
       " State([0.0, 0.0, 0.0, 0.0, 0.0, 0.0, 0.0, 0.0, 0.0, 0.0, 0.0, 0.0, 0.0, 0.0, 0.0, 0.0, 0.0, 0.0, 0.0, 0.0], 0.0, Dates.DateTime(\"0000-01-01T00:00:00\"))\n",
       " State([0.0, 0.0, 0.0, 0.0, 0.0, 0.0, 0.0, 0.0, 0.0, 0.0, 0.0, 0.0, 0.0, 0.0, 0.0, 0.0, 0.0, 0.0, 0.0, 0.0], 0.0, Dates.DateTime(\"0000-01-01T00:00:00\"))\n",
       " State([0.0, 0.0, 0.0, 0.0, 0.0, 0.0, 0.0, 0.0, 0.0, 0.0, 0.0, 0.0, 0.0, 0.0, 0.0, 0.0, 0.0, 0.0, 0.0, 0.0], 0.0, Dates.DateTime(\"0000-01-01T00:00:00\"))\n",
       " State([0.0, 0.0, 0.0, 0.0, 0.0, 0.0, 0.0, 0.0, 0.0, 0.0, 0.0, 0.0, 0.0, 0.0, 0.0, 0.0, 0.0, 0.0, 0.0, 0.0], 0.0, Dates.DateTime(\"0000-01-01T00:00:00\"))\n",
       " State([0.0, 0.0, 0.0, 0.0, 0.0, 0.0, 0.0, 0.0, 0.0, 0.0, 0.0, 0.0, 0.0, 0.0, 0.0, 0.0, 0.0, 0.0, 0.0, 0.0], 0.0, Dates.DateTime(\"0000-01-01T00:00:00\"))\n",
       " State([0.0, 0.0, 0.0, 0.0, 0.0, 0.0, 0.0, 0.0, 0.0, 0.0, 0.0, 0.0, 0.0, 0.0, 0.0, 0.0, 0.0, 0.0, 0.0, 0.0], 0.0, Dates.DateTime(\"0000-01-01T00:00:00\"))\n",
       " State([0.0, 0.0, 0.0, 0.0, 0.0, 0.0, 0.0, 0.0, 0.0, 0.0, 0.0, 0.0, 0.0, 0.0, 0.0, 0.0, 0.0, 0.0, 0.0, 0.0], 0.0, Dates.DateTime(\"0000-01-01T00:00:00\"))"
      ]
     },
     "metadata": {},
     "output_type": "display_data"
    }
   ],
   "source": [
    "n = 20 # number of discs in the booster\n",
    "\n",
    "initdist = findpeak1d(22.025e9,n) # initial disc configuration\n",
    "\n",
    "freqs = genFreqs(22.025e9,50e6; n=10) # optimize on these frequencies\n",
    "freqsplot = genFreqs(22.025e9,150e6; n=1000) # plot with these frequencies\n",
    "\n",
    "booster = AnalyticalBooster(initdist; ndisk=n)  # physical properties of the booster\n",
    "\n",
    "hist = initHist(booster,10000,freqs,ObjAnalytical); # stores measurements\n",
    "#                           ^ length, should be at least n"
   ]
  },
  {
   "cell_type": "markdown",
   "metadata": {},
   "source": [
    "### Optimizer"
   ]
  },
  {
   "cell_type": "code",
   "execution_count": 29,
   "metadata": {},
   "outputs": [
    {
     "name": "stdout",
     "output_type": "stream",
     "text": [
      "Iter: 1000, timestamp: 5 minutes, 12 seconds\n",
      "Iter finished. Objective value current:  -14530.654\n",
      "               Objective value solution: -14530.654\n",
      "               Temperature:              90.001\n",
      "\n",
      "Iter: 2000, timestamp: 10 minutes, 30 seconds\n",
      "Iter finished. Objective value current:  -14393.708\n",
      "               Objective value solution: -14674.593\n",
      "               Temperature:              80.002\n",
      "\n",
      "Resetting to best solution.\n",
      "Resetting to best solution.\n",
      "Iter: 3000, timestamp: 15 minutes, 55 seconds\n",
      "Iter finished. Objective value current:  -14621.093\n",
      "               Objective value solution: -14694.233\n",
      "               Temperature:              70.003\n",
      "\n",
      "Resetting to best solution.\n",
      "Resetting to best solution.\n",
      "Iter: 4000, timestamp: 21 minutes, 19 seconds\n",
      "Iter finished. Objective value current:  -14521.899\n",
      "               Objective value solution: -14694.233\n",
      "               Temperature:              60.004\n",
      "\n",
      "Resetting to best solution.\n",
      "Resetting to best solution.\n",
      "Iter: 5000, timestamp: 26 minutes, 43 seconds\n",
      "Iter finished. Objective value current:  -14496.158\n",
      "               Objective value solution: -14694.233\n",
      "               Temperature:              50.005\n",
      "\n",
      "Resetting to best solution.\n",
      "Resetting to best solution.\n",
      "Iter: 6000, timestamp: 32 minutes, 7 seconds\n",
      "Iter finished. Objective value current:  -14569.768\n",
      "               Objective value solution: -14694.233\n",
      "               Temperature:              40.006\n",
      "\n",
      "Resetting to best solution.\n",
      "Resetting to best solution.\n",
      "Iter: 7000, timestamp: 37 minutes, 27 seconds\n",
      "Iter finished. Objective value current:  -14639.002\n",
      "               Objective value solution: -14694.233\n",
      "               Temperature:              30.007\n",
      "\n",
      "Resetting to best solution.\n",
      "10 times resetted. Unstucking.\n",
      "No unstucking tried. Terminating.\n",
      "Terminated. 7476 Iterations.\n",
      "Final objective value: -14694.233\n",
      "Elapsed movement time:  39 minutes, 57 seconds\n",
      "Summed distance:   2.124\n",
      "Elapsed computing time: 150 milliseconds\n"
     ]
    }
   ],
   "source": [
    "trace = simulatedAnnealing(booster,hist,freqs,\n",
    "        100e-6,\n",
    "        TempLinear(100,10001),\n",
    "        ObjAnalytical,\n",
    "        UnstuckDont;\n",
    "        maxiter=Int(10001),\n",
    "        nreset=500,\n",
    "        nresetterm=10,\n",
    "        showtrace=true,\n",
    "        showevery=1000,\n",
    "        unstuckisiter=true,\n",
    "        traceevery=100);"
   ]
  },
  {
   "cell_type": "code",
   "execution_count": null,
   "metadata": {},
   "outputs": [],
   "source": [
    "#obtain result, booster is now in optimized position\n",
    "#pos2dist(booster.pos)     #in distance space\n",
    "booster.pos               #in position space"
   ]
  },
  {
   "cell_type": "code",
   "execution_count": null,
   "metadata": {},
   "outputs": [],
   "source": [
    "#get handy output\n",
    "analyse(hist,trace[1:end-1],freqsplot; freqs=freqs,div=20,scale=1e9,ylim=[-0.05e4,3e4])\n",
    "\n",
    "#savefig(plt[i],\"cool_epic_result_wow.svg\")"
   ]
  },
  {
   "cell_type": "code",
   "execution_count": null,
   "metadata": {},
   "outputs": [],
   "source": [
    "booster.timestamp"
   ]
  }
 ],
 "metadata": {
  "@webio": {
   "lastCommId": null,
   "lastKernelId": null
  },
  "kernelspec": {
   "display_name": "Julia 1.11.3",
   "language": "julia",
   "name": "julia-1.11"
  },
  "language_info": {
   "file_extension": ".jl",
   "mimetype": "application/julia",
   "name": "julia",
   "version": "1.11.3"
  }
 },
 "nbformat": 4,
 "nbformat_minor": 2
}
