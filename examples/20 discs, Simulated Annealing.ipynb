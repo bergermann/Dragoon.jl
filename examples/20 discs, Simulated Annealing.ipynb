{
 "cells": [
  {
   "cell_type": "markdown",
   "metadata": {},
   "source": [
    "### Setup"
   ]
  },
  {
   "cell_type": "code",
   "execution_count": 1,
   "metadata": {},
   "outputs": [
    {
     "name": "stderr",
     "output_type": "stream",
     "text": [
      "\u001b[32m\u001b[1m    Updating\u001b[22m\u001b[39m registry at `C:\\Users\\bergermann\\.julia\\registries\\General.toml`\n"
     ]
    },
    {
     "name": "stderr",
     "output_type": "stream",
     "text": [
      "\u001b[32m\u001b[1m    Updating\u001b[22m\u001b[39m git-repo `https://github.com/mppmu/BoostFractor.jl.git`\n"
     ]
    },
    {
     "name": "stderr",
     "output_type": "stream",
     "text": [
      "\u001b[32m\u001b[1m    Updating\u001b[22m\u001b[39m git-repo `https://github.com/bergermann/Dragoon.jl.git`\n"
     ]
    },
    {
     "name": "stderr",
     "output_type": "stream",
     "text": [
      "\u001b[32m\u001b[1m  No Changes\u001b[22m\u001b[39m to `C:\\Users\\bergermann\\.julia\\environments\\v1.9\\Project.toml`\n",
      "\u001b[32m\u001b[1m  No Changes\u001b[22m\u001b[39m to `C:\\Users\\bergermann\\.julia\\environments\\v1.9\\Manifest.toml`\n"
     ]
    }
   ],
   "source": [
    "using Pkg\n",
    "\n",
    "# Pkg.add(url=\"https://github.com/mppmu/BoostFractor.jl.git\")\n",
    "# Pkg.add(url=\"https://github.com/bergermann/Dragoon.jl.git\")\n",
    "Pkg.update()"
   ]
  },
  {
   "cell_type": "code",
   "execution_count": 2,
   "metadata": {},
   "outputs": [],
   "source": [
    "using Dragoon\n",
    "using Plots\n",
    "# using Dates"
   ]
  },
  {
   "cell_type": "code",
   "execution_count": 3,
   "metadata": {},
   "outputs": [
    {
     "name": "stdout",
     "output_type": "stream",
     "text": [
      "Objective Value: -243.3, Timestamp: 0000-01-01T00:00:00\n"
     ]
    }
   ],
   "source": [
    "#number of discs in the booster\n",
    "n = 20\n",
    "\n",
    "#initial disc configuration\n",
    "#findpeak tries to find an equidistant configuration with a peak at f\n",
    "initdist = findpeak(22.025e9,n)\n",
    "\n",
    "#generate frequencies for calculation and for plotting\n",
    "freqs = genFreqs(22.025e9,50e6; length=10) #optimize on these frequencies\n",
    "freqsplot = genFreqs(22.025e9,150e6; length=1000)\n",
    "\n",
    "#initialize physical properties of the booster\n",
    "booster = AnalyticalBooster(initdist)\n",
    "# booster.timestamp = DateTime(0)\n",
    "#=\n",
    "Booster(\n",
    "    pos,              disc positions\n",
    "    ndisk,            disc number\n",
    "    thickness,        disc thickness\n",
    "    epsilon,          disc epsilon\n",
    "    vmotor,           motor speed\n",
    "    maxlength,        maximum allowed booster length (not implemented yet)\n",
    "    timestamp,        booster operation time\n",
    "    summedtraveltime, summed motor operation time\n",
    "    codetimestamp     code runtime\n",
    ")\n",
    "=#\n",
    "\n",
    "#initialize storage of measurements\n",
    "hist = initHist(booster,10000,freqs,ObjAnalytical)\n",
    "#                           ^ length, should be at least the larger of (n^2, search steps)\n",
    ";"
   ]
  },
  {
   "cell_type": "markdown",
   "metadata": {},
   "source": [
    "### Optimizer"
   ]
  },
  {
   "cell_type": "code",
   "execution_count": 4,
   "metadata": {},
   "outputs": [],
   "source": [
    "#=\n",
    "how to use\n",
    "\n",
    "T = collect(range(100; length=1001,stop=0))\n",
    "\n",
    "trace = simulatedAnnealing(booster,hist,freqs,\n",
    "            T,100e-6,\n",
    "            ObjAnalytical,\n",
    "            UnstuckDont;\n",
    "            maxiter=Int(1e6),\n",
    "            showtrace=true,\n",
    "            showevery=100,\n",
    "            unstuckisiter=true,\n",
    "            traceevery=100,\n",
    "            resettimer=true)\n",
    "\n",
    "returns trace, access with\n",
    "trace[iteration].x      disc position\n",
    "                .obj    objective value\n",
    "                .g      gradient\n",
    "                .h      hessian\n",
    "                .t      timestamp\n",
    "                .T      summed travel time\n",
    "=#"
   ]
  },
  {
   "cell_type": "code",
   "execution_count": 5,
   "metadata": {},
   "outputs": [
    {
     "ename": "BoundsError",
     "evalue": "BoundsError: attempt to access 1001-element Vector{Float64} at index [0]",
     "output_type": "error",
     "traceback": [
      "BoundsError: attempt to access 1001-element Vector{Float64} at index [0]\n",
      "\n",
      "Stacktrace:\n",
      " [1] getindex\n",
      "   @ .\\essentials.jl:13 [inlined]\n",
      " [2] simulatedAnnealing(booster::AnalyticalBooster, hist::Vector{State}, freqs::Vector{Float64}, τ::Vector{Float64}, rmax::Float64, objFunction::Callback, unstuckinator::Callback; maxiter::Int64, showtrace::Bool, showevery::Int64, unstuckisiter::Bool, traceevery::Int64, resettimer::Bool)\n",
      "   @ Dragoon C:\\Users\\bergermann\\.julia\\packages\\Dragoon\\NTUEc\\src\\optimizers.jl:312\n",
      " [3] top-level scope\n",
      "   @ \\\\inst3\\data\\Benutzer\\bergermann\\Desktop\\Julia Files\\Dragoon.jl\\examples\\20 discs, Simulated Annealing.ipynb:3"
     ]
    }
   ],
   "source": [
    "T = collect(range(100; length=1001,stop=0))\n",
    "\n",
    "trace = simulatedAnnealing(booster,hist,freqs,\n",
    "            T,100e-6,\n",
    "            ObjAnalytical,\n",
    "            UnstuckDont;\n",
    "            maxiter=Int(1e6),\n",
    "            showtrace=true,\n",
    "            showevery=100,\n",
    "            unstuckisiter=true,\n",
    "            traceevery=1,\n",
    "            resettimer=true)\n",
    ";"
   ]
  },
  {
   "cell_type": "code",
   "execution_count": 6,
   "metadata": {},
   "outputs": [
    {
     "data": {
      "text/plain": [
       "20-element Vector{Float64}:\n",
       " 0.007209715011297336\n",
       " 0.01541943002259467\n",
       " 0.023629145033892004\n",
       " 0.03183886004518934\n",
       " 0.04004857505648668\n",
       " 0.04825829006778401\n",
       " 0.05646800507908135\n",
       " 0.06467772009037868\n",
       " 0.07288743510167603\n",
       " 0.08109715011297336\n",
       " 0.08930686512427068\n",
       " 0.097516580135568\n",
       " 0.10572629514686534\n",
       " 0.11393601015816267\n",
       " 0.12214572516946\n",
       " 0.13035544018075734\n",
       " 0.13856515519205465\n",
       " 0.14677487020335206\n",
       " 0.15498458521464936\n",
       " 0.1631943002259467"
      ]
     },
     "metadata": {},
     "output_type": "display_data"
    }
   ],
   "source": [
    "#obtain result, booster is now in optimized position\n",
    "#pos2dist(booster.pos)     #in distance space\n",
    "booster.pos               #in position space"
   ]
  },
  {
   "cell_type": "code",
   "execution_count": 7,
   "metadata": {},
   "outputs": [
    {
     "ename": "UndefVarError",
     "evalue": "UndefVarError: `trace` not defined",
     "output_type": "error",
     "traceback": [
      "UndefVarError: `trace` not defined\n",
      "\n",
      "Stacktrace:\n",
      " [1] top-level scope\n",
      "   @ \\\\inst3\\data\\Benutzer\\bergermann\\Desktop\\Julia Files\\Dragoon.jl\\examples\\20 discs, Simulated Annealing.ipynb:2"
     ]
    }
   ],
   "source": [
    "#get handy output\n",
    "analyse(hist,trace[1:end],freqsplot; freqs=freqs,div=5,scale=1e9,ylim=[-0.05e4,3e4])\n",
    "\n",
    "#savefig(plt[i],\"cool_epic_result_wow.svg\")"
   ]
  },
  {
   "cell_type": "code",
   "execution_count": null,
   "metadata": {},
   "outputs": [],
   "source": []
  }
 ],
 "metadata": {
  "@webio": {
   "lastCommId": null,
   "lastKernelId": null
  },
  "kernelspec": {
   "display_name": "Julia 1.9.0",
   "language": "julia",
   "name": "julia-1.9"
  },
  "language_info": {
   "file_extension": ".jl",
   "mimetype": "application/julia",
   "name": "julia",
   "version": "1.9.0"
  }
 },
 "nbformat": 4,
 "nbformat_minor": 2
}
