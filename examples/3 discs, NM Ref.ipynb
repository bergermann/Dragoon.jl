{
 "cells": [
  {
   "cell_type": "markdown",
   "metadata": {},
   "source": [
    "### Setup"
   ]
  },
  {
   "cell_type": "code",
   "execution_count": 1,
   "metadata": {},
   "outputs": [
    {
     "name": "stderr",
     "output_type": "stream",
     "text": [
      "\u001b[32m\u001b[1m    Updating\u001b[22m\u001b[39m registry at `C:\\Users\\domin\\.julia\\registries\\General`\n",
      "┌ Info: The General registry is installed via git. Consider reinstalling it via\n",
      "│ the newer faster direct from tarball format by running:\n",
      "│   pkg> registry rm General; registry add General\n",
      "│ \n",
      "└ @ Pkg.Registry C:\\Users\\domin\\.julia\\juliaup\\julia-1.11.3+0.x64.w64.mingw32\\share\\julia\\stdlib\\v1.11\\Pkg\\src\\Registry\\Registry.jl:478\n",
      "\u001b[32m\u001b[1m    Updating\u001b[22m\u001b[39m git-repo `https://github.com/JuliaRegistries/General.git`\n",
      "\u001b[32m\u001b[1m    Updating\u001b[22m\u001b[39m git-repo `https://github.com/mppmu/BoostFractor.jl.git`\n",
      "\u001b[32m\u001b[1m    Updating\u001b[22m\u001b[39m git-repo `https://github.com/bergermann/Dragoon.jl.git`\n",
      "\u001b[32m\u001b[1m   Installed\u001b[22m\u001b[39m Static ─────────────────── v1.3.0\n",
      "\u001b[32m\u001b[1m   Installed\u001b[22m\u001b[39m SciMLPublic ────────────── v1.0.0\n",
      "\u001b[32m\u001b[1m   Installed\u001b[22m\u001b[39m SIMD ───────────────────── v3.7.2\n",
      "\u001b[32m\u001b[1m   Installed\u001b[22m\u001b[39m LoggingExtras ──────────── v1.2.0\n",
      "\u001b[32m\u001b[1m   Installed\u001b[22m\u001b[39m Libmount_jll ───────────── v2.41.2+0\n",
      "\u001b[32m\u001b[1m   Installed\u001b[22m\u001b[39m HTTP ───────────────────── v1.10.19\n",
      "\u001b[32m\u001b[1m   Installed\u001b[22m\u001b[39m FileIO ─────────────────── v1.17.1\n",
      "\u001b[32m\u001b[1m   Installed\u001b[22m\u001b[39m DataFrames ─────────────── v1.8.1\n",
      "\u001b[32m\u001b[1m   Installed\u001b[22m\u001b[39m IrrationalConstants ────── v0.2.6\n",
      "\u001b[32m\u001b[1m   Installed\u001b[22m\u001b[39m FunctionZeros ──────────── v1.1.0\n",
      "\u001b[32m\u001b[1m   Installed\u001b[22m\u001b[39m EzXML ──────────────────── v1.2.3\n",
      "\u001b[32m\u001b[1m   Installed\u001b[22m\u001b[39m SpecialFunctions ───────── v2.6.1\n",
      "\u001b[32m\u001b[1m   Installed\u001b[22m\u001b[39m JSON ───────────────────── v1.2.0\n",
      "\u001b[32m\u001b[1m   Installed\u001b[22m\u001b[39m BenchmarkTools ─────────── v1.6.2\n",
      "\u001b[32m\u001b[1m   Installed\u001b[22m\u001b[39m Compat ─────────────────── v4.18.1\n",
      "\u001b[32m\u001b[1m   Installed\u001b[22m\u001b[39m libaom_jll ─────────────── v3.13.1+0\n",
      "\u001b[32m\u001b[1m   Installed\u001b[22m\u001b[39m oneTBB_jll ─────────────── v2022.0.0+1\n",
      "\u001b[32m\u001b[1m   Installed\u001b[22m\u001b[39m Libtiff_jll ────────────── v4.7.2+0\n",
      "\u001b[32m\u001b[1m   Installed\u001b[22m\u001b[39m Libuuid_jll ────────────── v2.41.2+0\n",
      "\u001b[32m\u001b[1m   Installed\u001b[22m\u001b[39m Xorg_xcb_util_cursor_jll ─ v0.1.6+0\n",
      "\u001b[32m\u001b[1m   Installed\u001b[22m\u001b[39m ArrayInterface ─────────── v7.21.0\n",
      "\u001b[32m\u001b[1m   Installed\u001b[22m\u001b[39m LoopVectorization ──────── v0.12.173\n",
      "\u001b[32m\u001b[1m   Installed\u001b[22m\u001b[39m Adapt ──────────────────── v4.4.0\n",
      "\u001b[32m\u001b[1m   Installed\u001b[22m\u001b[39m PrettyTables ───────────── v3.1.0\n",
      "\u001b[32m\u001b[1m   Installed\u001b[22m\u001b[39m Plots ──────────────────── v1.41.1\n",
      "\u001b[32m\u001b[1m   Installed\u001b[22m\u001b[39m XML2_jll ───────────────── v2.15.0+0\n",
      "\u001b[32m\u001b[1m   Installed\u001b[22m\u001b[39m OpenSSL_jll ────────────── v3.5.4+0\n",
      "\u001b[32m\u001b[1m   Installed\u001b[22m\u001b[39m Xorg_libXfixes_jll ─────── v6.0.2+0\n",
      "\u001b[32m\u001b[1m   Installed\u001b[22m\u001b[39m Qt6Wayland_jll ─────────── v6.8.2+2\n",
      "\u001b[32m\u001b[1m   Installed\u001b[22m\u001b[39m Qt6Base_jll ────────────── v6.8.2+2\n",
      "\u001b[32m\u001b[1m   Installed\u001b[22m\u001b[39m ForwardDiff ────────────── v1.2.2\n",
      "\u001b[32m\u001b[1m   Installed\u001b[22m\u001b[39m Peaks ──────────────────── v0.6.0\n",
      "\u001b[32m\u001b[1m   Installed\u001b[22m\u001b[39m StructUtils ────────────── v2.5.1\n",
      "\u001b[32m\u001b[1m   Installed\u001b[22m\u001b[39m Distributions ──────────── v0.25.122\n",
      "\u001b[32m\u001b[1m    Updating\u001b[22m\u001b[39m `C:\\Users\\domin\\.julia\\environments\\v1.11\\Project.toml`\n",
      "  \u001b[90m[6e4b80f9] \u001b[39m\u001b[93m↑ BenchmarkTools v1.6.0 ⇒ v1.6.2\u001b[39m\n",
      "  \u001b[90m[31c24e10] \u001b[39m\u001b[93m↑ Distributions v0.25.120 ⇒ v0.25.122\u001b[39m\n",
      "  \u001b[90m[2528b1d8] \u001b[39m\u001b[93m~ Dragoon v0.5.0 `https://github.com/bergermann/Dragoon.jl.git#main` ⇒ v0.5.0 `https://github.com/bergermann/Dragoon.jl.git#main`\u001b[39m\n",
      "  \u001b[90m[b21f74c0] \u001b[39m\u001b[93m↑ FunctionZeros v1.0.0 ⇒ v1.1.0\u001b[39m\n",
      "  \u001b[90m[91a5bcdd] \u001b[39m\u001b[93m↑ Plots v1.40.20 ⇒ v1.41.1\u001b[39m\n",
      "  \u001b[90m[276daf66] \u001b[39m\u001b[93m↑ SpecialFunctions v2.5.1 ⇒ v2.6.1\u001b[39m\n",
      "\u001b[32m\u001b[1m    Updating\u001b[22m\u001b[39m `C:\\Users\\domin\\.julia\\environments\\v1.11\\Manifest.toml`\n",
      "  \u001b[90m[79e6a3ab] \u001b[39m\u001b[93m↑ Adapt v4.3.0 ⇒ v4.4.0\u001b[39m\n",
      "  \u001b[90m[4fba245c] \u001b[39m\u001b[93m↑ ArrayInterface v7.20.0 ⇒ v7.21.0\u001b[39m\n",
      "  \u001b[90m[6e4b80f9] \u001b[39m\u001b[93m↑ BenchmarkTools v1.6.0 ⇒ v1.6.2\u001b[39m\n",
      "  \u001b[90m[34da2185] \u001b[39m\u001b[93m↑ Compat v4.18.0 ⇒ v4.18.1\u001b[39m\n",
      "  \u001b[90m[a93c6f00] \u001b[39m\u001b[93m↑ DataFrames v1.8.0 ⇒ v1.8.1\u001b[39m\n",
      "  \u001b[90m[31c24e10] \u001b[39m\u001b[93m↑ Distributions v0.25.120 ⇒ v0.25.122\u001b[39m\n",
      "  \u001b[90m[2528b1d8] \u001b[39m\u001b[93m~ Dragoon v0.5.0 `https://github.com/bergermann/Dragoon.jl.git#main` ⇒ v0.5.0 `https://github.com/bergermann/Dragoon.jl.git#main`\u001b[39m\n",
      "  \u001b[90m[8f5d6c58] \u001b[39m\u001b[93m↑ EzXML v1.2.2 ⇒ v1.2.3\u001b[39m\n",
      "  \u001b[90m[5789e2e9] \u001b[39m\u001b[93m↑ FileIO v1.17.0 ⇒ v1.17.1\u001b[39m\n",
      "  \u001b[90m[f6369f11] \u001b[39m\u001b[93m↑ ForwardDiff v1.2.1 ⇒ v1.2.2\u001b[39m\n",
      "  \u001b[90m[b21f74c0] \u001b[39m\u001b[93m↑ FunctionZeros v1.0.0 ⇒ v1.1.0\u001b[39m\n",
      "  \u001b[90m[cd3eb016] \u001b[39m\u001b[93m↑ HTTP v1.10.17 ⇒ v1.10.19\u001b[39m\n",
      "  \u001b[90m[92d709cd] \u001b[39m\u001b[93m↑ IrrationalConstants v0.2.4 ⇒ v0.2.6\u001b[39m\n",
      "  \u001b[90m[682c06a0] \u001b[39m\u001b[93m↑ JSON v0.21.4 ⇒ v1.2.0\u001b[39m\n",
      "  \u001b[90m[e6f89c97] \u001b[39m\u001b[93m↑ LoggingExtras v1.1.0 ⇒ v1.2.0\u001b[39m\n",
      "  \u001b[90m[bdcacae8] \u001b[39m\u001b[93m↑ LoopVectorization v0.12.172 ⇒ v0.12.173\u001b[39m\n",
      "  \u001b[90m[18e31ff7] \u001b[39m\u001b[93m↑ Peaks v0.5.3 ⇒ v0.6.0\u001b[39m\n",
      "  \u001b[90m[91a5bcdd] \u001b[39m\u001b[93m↑ Plots v1.40.20 ⇒ v1.41.1\u001b[39m\n",
      "  \u001b[90m[08abe8d2] \u001b[39m\u001b[93m↑ PrettyTables v3.0.10 ⇒ v3.1.0\u001b[39m\n",
      "  \u001b[90m[fdea26ae] \u001b[39m\u001b[93m↑ SIMD v3.7.1 ⇒ v3.7.2\u001b[39m\n",
      "  \u001b[90m[431bcebd] \u001b[39m\u001b[92m+ SciMLPublic v1.0.0\u001b[39m\n",
      "  \u001b[90m[276daf66] \u001b[39m\u001b[93m↑ SpecialFunctions v2.5.1 ⇒ v2.6.1\u001b[39m\n",
      "  \u001b[90m[aedffcd0] \u001b[39m\u001b[93m↑ Static v1.2.0 ⇒ v1.3.0\u001b[39m\n",
      "  \u001b[90m[ec057cc2] \u001b[39m\u001b[92m+ StructUtils v2.5.1\u001b[39m\n",
      "  \u001b[90m[1986cc42] \u001b[39m\u001b[91m- Unitful v1.24.0\u001b[39m\n",
      "  \u001b[90m[45397f5d] \u001b[39m\u001b[91m- UnitfulLatexify v1.7.0\u001b[39m\n",
      "  \u001b[90m[4b2f31a3] \u001b[39m\u001b[93m↑ Libmount_jll v2.41.1+0 ⇒ v2.41.2+0\u001b[39m\n",
      "  \u001b[90m[89763e89] \u001b[39m\u001b[93m↑ Libtiff_jll v4.7.1+0 ⇒ v4.7.2+0\u001b[39m\n",
      "  \u001b[90m[38a345b3] \u001b[39m\u001b[93m↑ Libuuid_jll v2.41.1+0 ⇒ v2.41.2+0\u001b[39m\n",
      "  \u001b[90m[458c3c95] \u001b[39m\u001b[93m↑ OpenSSL_jll v3.5.2+0 ⇒ v3.5.4+0\u001b[39m\n",
      "  \u001b[90m[c0090381] \u001b[39m\u001b[93m↑ Qt6Base_jll v6.8.2+1 ⇒ v6.8.2+2\u001b[39m\n",
      "  \u001b[90m[e99dba38] \u001b[39m\u001b[93m↑ Qt6Wayland_jll v6.8.2+1 ⇒ v6.8.2+2\u001b[39m\n",
      "  \u001b[90m[02c8fc9c] \u001b[39m\u001b[93m↑ XML2_jll v2.14.4+0 ⇒ v2.15.0+0\u001b[39m\n",
      "  \u001b[90m[d091e8ba] \u001b[39m\u001b[93m↑ Xorg_libXfixes_jll v6.0.1+0 ⇒ v6.0.2+0\u001b[39m\n",
      "  \u001b[90m[e920d4aa] \u001b[39m\u001b[93m↑ Xorg_xcb_util_cursor_jll v0.1.5+0 ⇒ v0.1.6+0\u001b[39m\n",
      "  \u001b[90m[a4ae2306] \u001b[39m\u001b[93m↑ libaom_jll v3.12.1+0 ⇒ v3.13.1+0\u001b[39m\n",
      "  \u001b[90m[1317d2d5] \u001b[39m\u001b[93m↑ oneTBB_jll v2022.0.0+0 ⇒ v2022.0.0+1\u001b[39m\n",
      "\u001b[92m\u001b[1mPrecompiling\u001b[22m\u001b[39m project...\n",
      "   6091.2 ms\u001b[32m  ✓ \u001b[39m\u001b[90mSciMLPublic\u001b[39m\n",
      "   6026.7 ms\u001b[32m  ✓ \u001b[39m\u001b[90mOpenSSL_jll\u001b[39m\n",
      "   5965.0 ms\u001b[32m  ✓ \u001b[39m\u001b[90mLibuuid_jll\u001b[39m\n",
      "   5618.1 ms\u001b[32m  ✓ \u001b[39m\u001b[90mXML2_jll\u001b[39m\n",
      "   5420.6 ms\u001b[32m  ✓ \u001b[39m\u001b[90mlibaom_jll\u001b[39m\n",
      "   5163.4 ms\u001b[32m  ✓ \u001b[39m\u001b[90mLibmount_jll\u001b[39m\n",
      "   3786.0 ms\u001b[32m  ✓ \u001b[39m\u001b[90mIrrationalConstants\u001b[39m\n",
      "   3782.4 ms\u001b[32m  ✓ \u001b[39m\u001b[90mAdapt\u001b[39m\n",
      "   3778.8 ms\u001b[32m  ✓ \u001b[39m\u001b[90mStructUtils\u001b[39m\n",
      "   3775.3 ms\u001b[32m  ✓ \u001b[39m\u001b[90mLoggingExtras\u001b[39m\n",
      "   3771.3 ms\u001b[32m  ✓ \u001b[39m\u001b[90mCompat\u001b[39m\n",
      "    541.8 ms\u001b[32m  ✓ \u001b[39m\u001b[90mXorg_libXfixes_jll\u001b[39m\n",
      "    537.8 ms\u001b[32m  ✓ \u001b[39m\u001b[90mXorg_xcb_util_cursor_jll\u001b[39m\n",
      "    763.0 ms\u001b[32m  ✓ \u001b[39m\u001b[90mStatic\u001b[39m\n",
      "   1066.7 ms\u001b[32m  ✓ \u001b[39m\u001b[90mLibtiff_jll\u001b[39m\n",
      "   1031.3 ms\u001b[32m  ✓ \u001b[39m\u001b[90mFontconfig_jll\u001b[39m\n",
      "    649.0 ms\u001b[32m  ✓ \u001b[39m\u001b[90mLogExpFunctions\u001b[39m\n",
      "   1341.3 ms\u001b[32m  ✓ \u001b[39m\u001b[90moneTBB_jll\u001b[39m\n",
      "   1462.3 ms\u001b[32m  ✓ \u001b[39m\u001b[90mOpenSSL\u001b[39m\n",
      "    895.9 ms\u001b[32m  ✓ \u001b[39m\u001b[90mEzXML\u001b[39m\n",
      "    484.0 ms\u001b[32m  ✓ \u001b[39mOffsetArrays → OffsetArraysAdaptExt\n",
      "    927.6 ms\u001b[32m  ✓ \u001b[39m\u001b[90mAdapt → AdaptStaticArraysExt\u001b[39m\n",
      "    605.8 ms\u001b[32m  ✓ \u001b[39m\u001b[90mAdapt → AdaptSparseArraysExt\u001b[39m\n",
      "    605.7 ms\u001b[32m  ✓ \u001b[39m\u001b[90mArrayInterface\u001b[39m\n",
      "    507.9 ms\u001b[32m  ✓ \u001b[39m\u001b[90mStructUtils → StructUtilsTablesExt\u001b[39m\n",
      "    444.6 ms\u001b[32m  ✓ \u001b[39m\u001b[90mCompat → CompatLinearAlgebraExt\u001b[39m\n",
      "   2449.9 ms\u001b[32m  ✓ \u001b[39m\u001b[90mHDF5_jll\u001b[39m\n",
      "   1328.1 ms\u001b[32m  ✓ \u001b[39m\u001b[90mBitTwiddlingConvenienceFunctions\u001b[39m\n",
      "   1201.7 ms\u001b[32m  ✓ \u001b[39m\u001b[90mLittleCMS_jll\u001b[39m\n",
      "   1415.7 ms\u001b[32m  ✓ \u001b[39m\u001b[90mCPUSummary\u001b[39m\n",
      "   1271.7 ms\u001b[32m  ✓ \u001b[39m\u001b[90mlibwebp_jll\u001b[39m\n",
      "   3230.1 ms\u001b[32m  ✓ \u001b[39m\u001b[90mFileIO\u001b[39m\n",
      "    746.6 ms\u001b[32m  ✓ \u001b[39m\u001b[90mLogExpFunctions → LogExpFunctionsInverseFunctionsExt\u001b[39m\n",
      "   2561.8 ms\u001b[32m  ✓ \u001b[39m\u001b[90mCairo_jll\u001b[39m\n",
      "   2642.5 ms\u001b[32m  ✓ \u001b[39m\u001b[90mQt6Base_jll\u001b[39m\n",
      "   3016.9 ms\u001b[32m  ✓ \u001b[39m\u001b[90mJSON\u001b[39m\n",
      "    414.8 ms\u001b[32m  ✓ \u001b[39m\u001b[90mArrayInterface → ArrayInterfaceStaticArraysCoreExt\u001b[39m\n",
      "    536.1 ms\u001b[32m  ✓ \u001b[39m\u001b[90mArrayInterface → ArrayInterfaceSparseArraysExt\u001b[39m\n",
      "    590.4 ms\u001b[32m  ✓ \u001b[39mXMLDict\n",
      "   2425.6 ms\u001b[32m  ✓ \u001b[39mSpecialFunctions\n",
      "   5818.7 ms\u001b[32m  ✓ \u001b[39m\u001b[90mSIMD\u001b[39m\n",
      "   1022.0 ms\u001b[32m  ✓ \u001b[39m\u001b[90mHostCPUFeatures\u001b[39m\n",
      "   1031.1 ms\u001b[32m  ✓ \u001b[39m\u001b[90mOpenJpeg_jll\u001b[39m\n",
      "   1484.6 ms\u001b[32m  ✓ \u001b[39m\u001b[90mChainRulesCore\u001b[39m\n",
      "    992.0 ms\u001b[32m  ✓ \u001b[39m\u001b[90mPolyesterWeave\u001b[39m\n",
      "   3235.9 ms\u001b[32m  ✓ \u001b[39m\u001b[90mMKL_jll\u001b[39m\n",
      "   1933.0 ms\u001b[32m  ✓ \u001b[39m\u001b[90mDataStructures\u001b[39m\n",
      "   1923.7 ms\u001b[32m  ✓ \u001b[39m\u001b[90mStaticArrayInterface\u001b[39m\n",
      "   3621.6 ms\u001b[32m  ✓ \u001b[39m\u001b[90mNetpbm\u001b[39m\n",
      "   3324.2 ms\u001b[32m  ✓ \u001b[39m\u001b[90mQOI\u001b[39m\n",
      "   3403.1 ms\u001b[32m  ✓ \u001b[39m\u001b[90mSixel\u001b[39m\n",
      "   3462.0 ms\u001b[32m  ✓ \u001b[39m\u001b[90mJpegTurbo\u001b[39m\n",
      "    901.3 ms\u001b[32m  ✓ \u001b[39m\u001b[90mHarfBuzz_jll\u001b[39m\n",
      "    896.1 ms\u001b[32m  ✓ \u001b[39m\u001b[90mQt6ShaderTools_jll\u001b[39m\n",
      "   1047.0 ms\u001b[32m  ✓ \u001b[39m\u001b[90mHypergeometricFunctions\u001b[39m\n",
      "   5805.1 ms\u001b[32m  ✓ \u001b[39mHDF5\n",
      "   1472.8 ms\u001b[32m  ✓ \u001b[39mBenchmarkTools\n",
      "    665.9 ms\u001b[32m  ✓ \u001b[39m\u001b[90mColorVectorSpace → SpecialFunctionsExt\u001b[39m\n",
      "    640.7 ms\u001b[32m  ✓ \u001b[39m\u001b[90mDiffRules\u001b[39m\n",
      "   2071.0 ms\u001b[32m  ✓ \u001b[39m\u001b[90mImageShow\u001b[39m\n",
      "   2143.5 ms\u001b[32m  ✓ \u001b[39m\u001b[90mOpenEXR\u001b[39m\n",
      "    756.3 ms\u001b[32m  ✓ \u001b[39m\u001b[90mPeaks\u001b[39m\n",
      "   2709.2 ms\u001b[32m  ✓ \u001b[39m\u001b[90mWebP\u001b[39m\n",
      "    644.0 ms\u001b[32m  ✓ \u001b[39m\u001b[90mAbstractFFTs → AbstractFFTsChainRulesCoreExt\u001b[39m\n",
      "    666.1 ms\u001b[32m  ✓ \u001b[39m\u001b[90mDistances → DistancesChainRulesCoreExt\u001b[39m\n",
      "    770.3 ms\u001b[32m  ✓ \u001b[39m\u001b[90mChainRulesCore → ChainRulesCoreSparseArraysExt\u001b[39m\n",
      "    688.3 ms\u001b[32m  ✓ \u001b[39m\u001b[90mRoots → RootsChainRulesCoreExt\u001b[39m\n",
      "    840.2 ms\u001b[32m  ✓ \u001b[39mStaticArrays → StaticArraysChainRulesCoreExt\n",
      "   1317.7 ms\u001b[32m  ✓ \u001b[39m\u001b[90mImageMagick_jll\u001b[39m\n",
      "    808.1 ms\u001b[32m  ✓ \u001b[39m\u001b[90mArrayInterface → ArrayInterfaceChainRulesCoreExt\u001b[39m\n",
      "   1137.5 ms\u001b[32m  ✓ \u001b[39m\u001b[90mPolynomials → PolynomialsChainRulesCoreExt\u001b[39m\n",
      "    600.3 ms\u001b[32m  ✓ \u001b[39m\u001b[90mSortingAlgorithms\u001b[39m\n",
      "   1311.1 ms\u001b[32m  ✓ \u001b[39m\u001b[90mLogExpFunctions → LogExpFunctionsChainRulesCoreExt\u001b[39m\n",
      "   1634.3 ms\u001b[32m  ✓ \u001b[39mSpecialFunctions → SpecialFunctionsChainRulesCoreExt\n",
      "   1055.3 ms\u001b[32m  ✓ \u001b[39m\u001b[90mQuadGK\u001b[39m\n",
      "   1082.9 ms\u001b[32m  ✓ \u001b[39m\u001b[90mParallelUtilities\u001b[39m\n",
      "   3462.8 ms\u001b[32m  ✓ \u001b[39mFunctionZeros\n",
      "    818.2 ms\u001b[32m  ✓ \u001b[39m\u001b[90mStaticArrayInterface → StaticArrayInterfaceOffsetArraysExt\u001b[39m\n",
      "    730.2 ms\u001b[32m  ✓ \u001b[39m\u001b[90mCloseOpenIntervals\u001b[39m\n",
      "    941.2 ms\u001b[32m  ✓ \u001b[39m\u001b[90mStaticArrayInterface → StaticArrayInterfaceStaticArraysExt\u001b[39m\n",
      "    813.5 ms\u001b[32m  ✓ \u001b[39m\u001b[90mLayoutPointers\u001b[39m\n",
      "   2222.8 ms\u001b[32m  ✓ \u001b[39m\u001b[90mlibass_jll\u001b[39m\n",
      "   4501.2 ms\u001b[32m  ✓ \u001b[39mDSP\n",
      "   2422.0 ms\u001b[32m  ✓ \u001b[39m\u001b[90mPango_jll\u001b[39m\n",
      "  12256.5 ms\u001b[32m  ✓ \u001b[39m\u001b[90mHTTP\u001b[39m\n",
      "   2377.0 ms\u001b[32m  ✓ \u001b[39m\u001b[90mStatsFuns\u001b[39m\n",
      "   2553.5 ms\u001b[32m  ✓ \u001b[39m\u001b[90mQt6Declarative_jll\u001b[39m\n",
      "   1222.2 ms\u001b[32m  ✓ \u001b[39m\u001b[90mPeaks → PlotsExt\u001b[39m\n",
      "   4521.9 ms\u001b[32m  ✓ \u001b[39m\u001b[90mGraphs\u001b[39m\n",
      "   1015.7 ms\u001b[32m  ✓ \u001b[39m\u001b[90mTiledIteration\u001b[39m\n",
      "   1534.3 ms\u001b[32m  ✓ \u001b[39mBoostFractor\n",
      "  18717.8 ms\u001b[32m  ✓ \u001b[39m\u001b[90mPrettyTables\u001b[39m\n",
      "   1142.1 ms\u001b[32m  ✓ \u001b[39m\u001b[90mFFMPEG_jll\u001b[39m\n",
      "   2446.2 ms\u001b[32m  ✓ \u001b[39mInterpolations\n",
      "   2425.7 ms\u001b[32m  ✓ \u001b[39m\u001b[90mStatsBase\u001b[39m\n",
      "    731.9 ms\u001b[32m  ✓ \u001b[39m\u001b[90mStatsFuns → StatsFunsInverseFunctionsExt\u001b[39m\n",
      "   4895.8 ms\u001b[32m  ✓ \u001b[39m\u001b[90mForwardDiff\u001b[39m\n",
      "    598.4 ms\u001b[32m  ✓ \u001b[39m\u001b[90mQt6Wayland_jll\u001b[39m\n",
      "   1590.8 ms\u001b[32m  ✓ \u001b[39mDSP → OffsetArraysExt\n",
      "   1722.5 ms\u001b[32m  ✓ \u001b[39m\u001b[90mFileIO → HTTPExt\u001b[39m\n",
      "    809.1 ms\u001b[32m  ✓ \u001b[39m\u001b[90mFFMPEG\u001b[39m\n",
      "   1526.1 ms\u001b[32m  ✓ \u001b[39m\u001b[90mStatsFuns → StatsFunsChainRulesCoreExt\u001b[39m\n",
      "   1435.5 ms\u001b[32m  ✓ \u001b[39m\u001b[90mSimpleWeightedGraphs\u001b[39m\n",
      "    998.8 ms\u001b[32m  ✓ \u001b[39m\u001b[90mGR_jll\u001b[39m\n",
      "   4609.2 ms\u001b[32m  ✓ \u001b[39m\u001b[90mImageMagick\u001b[39m\n",
      "    880.4 ms\u001b[32m  ✓ \u001b[39m\u001b[90mRoots → RootsForwardDiffExt\u001b[39m\n",
      "    982.5 ms\u001b[32m  ✓ \u001b[39m\u001b[90mForwardDiff → ForwardDiffStaticArraysExt\u001b[39m\n",
      "   1679.5 ms\u001b[32m  ✓ \u001b[39m\u001b[90mClustering\u001b[39m\n",
      "   1894.0 ms\u001b[32m  ✓ \u001b[39m\u001b[90mImageTransformations\u001b[39m\n",
      "   1287.8 ms\u001b[32m  ✓ \u001b[39mInterpolations → InterpolationsForwardDiffExt\n",
      "   5984.2 ms\u001b[32m  ✓ \u001b[39m\u001b[90mVectorizationBase\u001b[39m\n",
      "   3994.6 ms\u001b[32m  ✓ \u001b[39mDistributions\n",
      "   3011.0 ms\u001b[32m  ✓ \u001b[39m\u001b[90mGR\u001b[39m\n",
      "   1152.4 ms\u001b[32m  ✓ \u001b[39m\u001b[90mSLEEFPirates\u001b[39m\n",
      "   2392.7 ms\u001b[32m  ✓ \u001b[39m\u001b[90mImageContrastAdjustment\u001b[39m\n",
      "   1199.6 ms\u001b[32m  ✓ \u001b[39mDistributions → DistributionsChainRulesCoreExt\n",
      "   1214.4 ms\u001b[32m  ✓ \u001b[39mDistributions → DistributionsTestExt\n",
      "  22120.2 ms\u001b[32m  ✓ \u001b[39mJLD2\n",
      "   1253.2 ms\u001b[32m  ✓ \u001b[39mJLD2 → UnPackExt\n",
      "   1991.1 ms\u001b[32m  ✓ \u001b[39m\u001b[90mMetaGraphs\u001b[39m\n",
      "  24134.2 ms\u001b[32m  ✓ \u001b[39m\u001b[90mTiffImages\u001b[39m\n",
      "   1333.5 ms\u001b[32m  ✓ \u001b[39m\u001b[90mImageIO\u001b[39m\n",
      "  14087.6 ms\u001b[32m  ✓ \u001b[39m\u001b[90mLoopVectorization\u001b[39m\n",
      "   1102.7 ms\u001b[32m  ✓ \u001b[39m\u001b[90mLoopVectorization → SpecialFunctionsExt\u001b[39m\n",
      "   1239.4 ms\u001b[32m  ✓ \u001b[39m\u001b[90mLoopVectorization → ForwardDiffExt\u001b[39m\n",
      "   2459.8 ms\u001b[32m  ✓ \u001b[39m\u001b[90mImageMorphology\u001b[39m\n",
      "   1656.6 ms\u001b[32m  ✓ \u001b[39m\u001b[90mImageDistances\u001b[39m\n",
      "  25870.6 ms\u001b[32m  ✓ \u001b[39m\u001b[90mDataFrames\u001b[39m\n",
      "   1406.5 ms\u001b[32m  ✓ \u001b[39m\u001b[90mLatexify → DataFramesExt\u001b[39m\n",
      "  30730.6 ms\u001b[32m  ✓ \u001b[39m\u001b[90mImageFiltering\u001b[39m\n",
      "   3099.1 ms\u001b[32m  ✓ \u001b[39m\u001b[90mImageSegmentation\u001b[39m\n",
      "   5280.9 ms\u001b[32m  ✓ \u001b[39m\u001b[90mImageCorners\u001b[39m\n",
      "   6825.6 ms\u001b[32m  ✓ \u001b[39m\u001b[90mImageQualityIndexes\u001b[39m\n",
      "   4049.3 ms\u001b[32m  ✓ \u001b[39mImages\n",
      "  39176.3 ms\u001b[32m  ✓ \u001b[39mPlots\n",
      "   2368.9 ms\u001b[32m  ✓ \u001b[39mPlots → FileIOExt\n",
      "   3134.0 ms\u001b[32m  ✓ \u001b[39mDragoon\n",
      "  137 dependencies successfully precompiled in 88 seconds. 281 already precompiled.\n",
      "  \u001b[33m2\u001b[39m dependencies had output during precompilation:\u001b[33m\n",
      "┌ \u001b[39mVectorizationBase\u001b[33m\n",
      "│  \u001b[39mWARNING: using Static.static_first in module VectorizationBase conflicts with an existing identifier.\u001b[33m\n",
      "│  \u001b[39mWARNING: using Static.static_last in module VectorizationBase conflicts with an existing identifier.\u001b[33m\n",
      "└  \u001b[39m\u001b[33m\n",
      "┌ \u001b[39mMKL_jll\u001b[33m\n",
      "│  \u001b[39m\u001b[32m\u001b[1m Downloading\u001b[22m\u001b[39m artifact: oneTBB\u001b[33m\n",
      "└  \u001b[39m\n",
      "\u001b[36m\u001b[1m        Info\u001b[22m\u001b[39m We haven't cleaned this depot up for a bit, running Pkg.gc()...\n",
      "\u001b[32m\u001b[1m      Active\u001b[22m\u001b[39m manifest files: 7 found\n",
      "\u001b[32m\u001b[1m      Active\u001b[22m\u001b[39m artifact files: 370 found\n",
      "\u001b[32m\u001b[1m      Active\u001b[22m\u001b[39m scratchspaces: 3 found\n",
      "\u001b[32m\u001b[1m     Deleted\u001b[22m\u001b[39m 50 package installations (173.148 MiB)\n"
     ]
    }
   ],
   "source": [
    "# install if not yet done\n",
    "using Pkg\n",
    "\n",
    "# Pkg.add(url=\"https://github.com/mppmu/BoostFractor.jl.git\")\n",
    "# Pkg.add(url=\"https://github.com/bergermann/Dragoon.jl.git\")\n",
    "Pkg.update()"
   ]
  },
  {
   "cell_type": "code",
   "execution_count": 2,
   "metadata": {},
   "outputs": [],
   "source": [
    "using Dragoon"
   ]
  },
  {
   "cell_type": "code",
   "execution_count": 45,
   "metadata": {},
   "outputs": [
    {
     "data": {
      "text/plain": [
       "0.014159999999999994"
      ]
     },
     "metadata": {},
     "output_type": "display_data"
    }
   ],
   "source": [
    "D1 = [6.89,7.55,7.55]*1e-3  # 18.5\n",
    "D2 = [5.63,6.18,6.18]*1e-3  # 21.0\n",
    "D3 = [4.71,5.01,5.01]*1e-3  # 23.5\n",
    "\n",
    "p1 = dist2pos(D1)\n",
    "p2 = dist2pos(D2)\n",
    "p3 = dist2pos(D3)\n",
    "\n",
    "dp = sum(p1-p3)"
   ]
  },
  {
   "cell_type": "code",
   "execution_count": 81,
   "metadata": {},
   "outputs": [
    {
     "data": {
      "text/plain": [
       "0.0007"
      ]
     },
     "metadata": {},
     "output_type": "display_data"
    }
   ],
   "source": [
    "dp = 0.7e-3"
   ]
  },
  {
   "cell_type": "code",
   "execution_count": 82,
   "metadata": {},
   "outputs": [
    {
     "data": {
      "text/plain": [
       "1.1666666666666667"
      ]
     },
     "metadata": {},
     "output_type": "display_data"
    }
   ],
   "source": [
    "(dp/10e-6)/60"
   ]
  },
  {
   "cell_type": "code",
   "execution_count": 83,
   "metadata": {},
   "outputs": [
    {
     "data": {
      "text/plain": [
       "5.833333333333333"
      ]
     },
     "metadata": {},
     "output_type": "display_data"
    }
   ],
   "source": [
    "(dp/2e-6)/60"
   ]
  },
  {
   "cell_type": "code",
   "execution_count": 54,
   "metadata": {},
   "outputs": [
    {
     "data": {
      "text/plain": [
       "10000-element Vector{State}:\n",
       " State([0.006889999999999999, 0.015439999999999999, 0.023989999999999997], 0.0, Dates.DateTime(\"0000-01-01T00:00:00\"))\n",
       " State([0.0, 0.0, 0.0], 0.0, Dates.DateTime(\"0000-01-01T00:00:00\"))\n",
       " State([0.0, 0.0, 0.0], 0.0, Dates.DateTime(\"0000-01-01T00:00:00\"))\n",
       " State([0.0, 0.0, 0.0], 0.0, Dates.DateTime(\"0000-01-01T00:00:00\"))\n",
       " State([0.0, 0.0, 0.0], 0.0, Dates.DateTime(\"0000-01-01T00:00:00\"))\n",
       " State([0.0, 0.0, 0.0], 0.0, Dates.DateTime(\"0000-01-01T00:00:00\"))\n",
       " State([0.0, 0.0, 0.0], 0.0, Dates.DateTime(\"0000-01-01T00:00:00\"))\n",
       " State([0.0, 0.0, 0.0], 0.0, Dates.DateTime(\"0000-01-01T00:00:00\"))\n",
       " State([0.0, 0.0, 0.0], 0.0, Dates.DateTime(\"0000-01-01T00:00:00\"))\n",
       " State([0.0, 0.0, 0.0], 0.0, Dates.DateTime(\"0000-01-01T00:00:00\"))\n",
       " ⋮\n",
       " State([0.0, 0.0, 0.0], 0.0, Dates.DateTime(\"0000-01-01T00:00:00\"))\n",
       " State([0.0, 0.0, 0.0], 0.0, Dates.DateTime(\"0000-01-01T00:00:00\"))\n",
       " State([0.0, 0.0, 0.0], 0.0, Dates.DateTime(\"0000-01-01T00:00:00\"))\n",
       " State([0.0, 0.0, 0.0], 0.0, Dates.DateTime(\"0000-01-01T00:00:00\"))\n",
       " State([0.0, 0.0, 0.0], 0.0, Dates.DateTime(\"0000-01-01T00:00:00\"))\n",
       " State([0.0, 0.0, 0.0], 0.0, Dates.DateTime(\"0000-01-01T00:00:00\"))\n",
       " State([0.0, 0.0, 0.0], 0.0, Dates.DateTime(\"0000-01-01T00:00:00\"))\n",
       " State([0.0, 0.0, 0.0], 0.0, Dates.DateTime(\"0000-01-01T00:00:00\"))\n",
       " State([0.0, 0.0, 0.0], 0.0, Dates.DateTime(\"0000-01-01T00:00:00\"))"
      ]
     },
     "metadata": {},
     "output_type": "display_data"
    }
   ],
   "source": [
    "\n",
    "# initdist = findpeak1d(22.025e9,n) # initial disc configuration\n",
    "\n",
    "freqs = genFreqs(18.5e9,1500e6; n=50) # optimize on these frequencies\n",
    "freqsplot = genFreqs(18.5e9,2000e6; n=1000) # plot with these frequencies\n",
    "\n",
    "booster = AnalyticalBooster(p1; ϵ=9.0,tand=0*1e-4)  # physical properties of the booster\n",
    "\n",
    "ref0 = getRef1d(booster,freqs)\n",
    "Obj = ObjRef1dSquare(ref0)\n",
    "hist = initHist(booster,10000,freqs,Obj); # stores measurements\n",
    "#                           ^ length, should be at least n"
   ]
  },
  {
   "cell_type": "code",
   "execution_count": 47,
   "metadata": {},
   "outputs": [
    {
     "data": {
      "text/plain": [
       "3-element Vector{Float64}:\n",
       " 6.89\n",
       " 7.549999999999998\n",
       " 7.549999999999998"
      ]
     },
     "metadata": {},
     "output_type": "display_data"
    }
   ],
   "source": [
    "pos2dist(booster.pos)/1e-3"
   ]
  },
  {
   "cell_type": "code",
   "execution_count": 55,
   "metadata": {},
   "outputs": [
    {
     "data": {
      "image/png": "[encoded data removed]",
      "image/svg+xml": [
       "<?xml version=\"1.0\" encoding=\"utf-8\"?>\n",
       "<svg xmlns=\"http://www.w3.org/2000/svg\" xmlns:xlink=\"http://www.w3.org/1999/xlink\" width=\"600\" height=\"400\" viewBox=\"0 0 2400 1600\">\n",
       "<defs>\n",
       "  <clipPath id=\"clip120\">\n",
       "    <rect x=\"0\" y=\"0\" width=\"2400\" height=\"1600\"/>\n",
       "  </clipPath>\n",
       "</defs>\n",
       "<path clip-path=\"url(#clip120)\" d=\"M0 1600 L2400 1600 L2400 0 L0 0  Z\" fill=\"#ffffff\" fill-rule=\"evenodd\" fill-opacity=\"1\"/>\n",
       "<defs>\n",
       "  <clipPath id=\"clip121\">\n",
       "    <rect x=\"480\" y=\"0\" width=\"1681\" height=\"1600\"/>\n",
       "  </clipPath>\n",
       "</defs>\n",
       "<path clip-path=\"url(#clip120)\" d=\"M112.177 1486.45 L2352.76 1486.45 L2352.76 47.2441 L112.177 47.2441  Z\" fill=\"#ffffff\" fill-rule=\"evenodd\" fill-opacity=\"1\"/>\n",
       "<defs>\n",
       "  <clipPath id=\"clip122\">\n",
       "    <rect x=\"112\" y=\"47\" width=\"2242\" height=\"1440\"/>\n",
       "  </clipPath>\n",
       "</defs>\n",
       "<polyline clip-path=\"url(#clip122)\" style=\"stroke:#000000; stroke-linecap:round; stroke-linejoin:round; stroke-width:2; stroke-opacity:0.1; fill:none\" points=\"175.59,1486.45 175.59,47.2441 \"/>\n",
       "<polyline clip-path=\"url(#clip122)\" style=\"stroke:#000000; stroke-linecap:round; stroke-linejoin:round; stroke-width:2; stroke-opacity:0.1; fill:none\" points=\"704.028,1486.45 704.028,47.2441 \"/>\n",
       "<polyline clip-path=\"url(#clip122)\" style=\"stroke:#000000; stroke-linecap:round; stroke-linejoin:round; stroke-width:2; stroke-opacity:0.1; fill:none\" points=\"1232.47,1486.45 1232.47,47.2441 \"/>\n",
       "<polyline clip-path=\"url(#clip122)\" style=\"stroke:#000000; stroke-linecap:round; stroke-linejoin:round; stroke-width:2; stroke-opacity:0.1; fill:none\" points=\"1760.9,1486.45 1760.9,47.2441 \"/>\n",
       "<polyline clip-path=\"url(#clip122)\" style=\"stroke:#000000; stroke-linecap:round; stroke-linejoin:round; stroke-width:2; stroke-opacity:0.1; fill:none\" points=\"2289.34,1486.45 2289.34,47.2441 \"/>\n",
       "<polyline clip-path=\"url(#clip122)\" style=\"stroke:#000000; stroke-linecap:round; stroke-linejoin:round; stroke-width:2; stroke-opacity:0.1; fill:none\" points=\"112.177,1446.66 2352.76,1446.66 \"/>\n",
       "<polyline clip-path=\"url(#clip122)\" style=\"stroke:#000000; stroke-linecap:round; stroke-linejoin:round; stroke-width:2; stroke-opacity:0.1; fill:none\" points=\"112.177,1047.23 2352.76,1047.23 \"/>\n",
       "<polyline clip-path=\"url(#clip122)\" style=\"stroke:#000000; stroke-linecap:round; stroke-linejoin:round; stroke-width:2; stroke-opacity:0.1; fill:none\" points=\"112.177,647.812 2352.76,647.812 \"/>\n",
       "<polyline clip-path=\"url(#clip122)\" style=\"stroke:#000000; stroke-linecap:round; stroke-linejoin:round; stroke-width:2; stroke-opacity:0.1; fill:none\" points=\"112.177,248.389 2352.76,248.389 \"/>\n",
       "<polyline clip-path=\"url(#clip120)\" style=\"stroke:#000000; stroke-linecap:round; stroke-linejoin:round; stroke-width:4; stroke-opacity:1; fill:none\" points=\"112.177,1486.45 2352.76,1486.45 \"/>\n",
       "<polyline clip-path=\"url(#clip120)\" style=\"stroke:#000000; stroke-linecap:round; stroke-linejoin:round; stroke-width:4; stroke-opacity:1; fill:none\" points=\"175.59,1486.45 175.59,1467.55 \"/>\n",
       "<polyline clip-path=\"url(#clip120)\" style=\"stroke:#000000; stroke-linecap:round; stroke-linejoin:round; stroke-width:4; stroke-opacity:1; fill:none\" points=\"704.028,1486.45 704.028,1467.55 \"/>\n",
       "<polyline clip-path=\"url(#clip120)\" style=\"stroke:#000000; stroke-linecap:round; stroke-linejoin:round; stroke-width:4; stroke-opacity:1; fill:none\" points=\"1232.47,1486.45 1232.47,1467.55 \"/>\n",
       "<polyline clip-path=\"url(#clip120)\" style=\"stroke:#000000; stroke-linecap:round; stroke-linejoin:round; stroke-width:4; stroke-opacity:1; fill:none\" points=\"1760.9,1486.45 1760.9,1467.55 \"/>\n",
       "<polyline clip-path=\"url(#clip120)\" style=\"stroke:#000000; stroke-linecap:round; stroke-linejoin:round; stroke-width:4; stroke-opacity:1; fill:none\" points=\"2289.34,1486.45 2289.34,1467.55 \"/>\n",
       "<path clip-path=\"url(#clip120)\" d=\"M128.159 1544.91 L135.798 1544.91 L135.798 1518.55 L127.488 1520.21 L127.488 1515.95 L135.752 1514.29 L140.428 1514.29 L140.428 1544.91 L148.067 1544.91 L148.067 1548.85 L128.159 1548.85 L128.159 1544.91 Z\" fill=\"#000000\" fill-rule=\"nonzero\" fill-opacity=\"1\" /><path clip-path=\"url(#clip120)\" d=\"M156.331 1514.29 L178.553 1514.29 L178.553 1516.28 L166.006 1548.85 L161.122 1548.85 L172.928 1518.22 L156.331 1518.22 L156.331 1514.29 Z\" fill=\"#000000\" fill-rule=\"nonzero\" fill-opacity=\"1\" /><path clip-path=\"url(#clip120)\" d=\"M187.673 1542.97 L192.557 1542.97 L192.557 1548.85 L187.673 1548.85 L187.673 1542.97 Z\" fill=\"#000000\" fill-rule=\"nonzero\" fill-opacity=\"1\" /><path clip-path=\"url(#clip120)\" d=\"M202.789 1514.29 L221.145 1514.29 L221.145 1518.22 L207.071 1518.22 L207.071 1526.7 Q208.09 1526.35 209.108 1526.19 Q210.127 1526 211.145 1526 Q216.932 1526 220.312 1529.17 Q223.691 1532.34 223.691 1537.76 Q223.691 1543.34 220.219 1546.44 Q216.747 1549.52 210.428 1549.52 Q208.252 1549.52 205.983 1549.15 Q203.738 1548.78 201.33 1548.04 L201.33 1543.34 Q203.414 1544.47 205.636 1545.03 Q207.858 1545.58 210.335 1545.58 Q214.34 1545.58 216.678 1543.48 Q219.015 1541.37 219.015 1537.76 Q219.015 1534.15 216.678 1532.04 Q214.34 1529.94 210.335 1529.94 Q208.46 1529.94 206.585 1530.35 Q204.733 1530.77 202.789 1531.65 L202.789 1514.29 Z\" fill=\"#000000\" fill-rule=\"nonzero\" fill-opacity=\"1\" /><path clip-path=\"url(#clip120)\" d=\"M656.1 1544.91 L663.739 1544.91 L663.739 1518.55 L655.429 1520.21 L655.429 1515.95 L663.693 1514.29 L668.369 1514.29 L668.369 1544.91 L676.007 1544.91 L676.007 1548.85 L656.1 1548.85 L656.1 1544.91 Z\" fill=\"#000000\" fill-rule=\"nonzero\" fill-opacity=\"1\" /><path clip-path=\"url(#clip120)\" d=\"M695.452 1532.44 Q692.119 1532.44 690.197 1534.22 Q688.299 1536 688.299 1539.13 Q688.299 1542.25 690.197 1544.03 Q692.119 1545.82 695.452 1545.82 Q698.785 1545.82 700.706 1544.03 Q702.628 1542.23 702.628 1539.13 Q702.628 1536 700.706 1534.22 Q698.808 1532.44 695.452 1532.44 M690.776 1530.45 Q687.767 1529.7 686.077 1527.64 Q684.41 1525.58 684.41 1522.62 Q684.41 1518.48 687.35 1516.07 Q690.313 1513.66 695.452 1513.66 Q700.614 1513.66 703.554 1516.07 Q706.493 1518.48 706.493 1522.62 Q706.493 1525.58 704.804 1527.64 Q703.137 1529.7 700.151 1530.45 Q703.53 1531.23 705.405 1533.52 Q707.304 1535.82 707.304 1539.13 Q707.304 1544.15 704.225 1546.83 Q701.169 1549.52 695.452 1549.52 Q689.734 1549.52 686.656 1546.83 Q683.6 1544.15 683.6 1539.13 Q683.6 1535.82 685.498 1533.52 Q687.396 1531.23 690.776 1530.45 M689.063 1523.06 Q689.063 1525.75 690.73 1527.25 Q692.419 1528.76 695.452 1528.76 Q698.461 1528.76 700.151 1527.25 Q701.864 1525.75 701.864 1523.06 Q701.864 1520.38 700.151 1518.87 Q698.461 1517.37 695.452 1517.37 Q692.419 1517.37 690.73 1518.87 Q689.063 1520.38 689.063 1523.06 Z\" fill=\"#000000\" fill-rule=\"nonzero\" fill-opacity=\"1\" /><path clip-path=\"url(#clip120)\" d=\"M715.614 1542.97 L720.498 1542.97 L720.498 1548.85 L715.614 1548.85 L715.614 1542.97 Z\" fill=\"#000000\" fill-rule=\"nonzero\" fill-opacity=\"1\" /><path clip-path=\"url(#clip120)\" d=\"M740.683 1517.37 Q737.072 1517.37 735.243 1520.93 Q733.438 1524.47 733.438 1531.6 Q733.438 1538.71 735.243 1542.27 Q737.072 1545.82 740.683 1545.82 Q744.317 1545.82 746.123 1542.27 Q747.952 1538.71 747.952 1531.6 Q747.952 1524.47 746.123 1520.93 Q744.317 1517.37 740.683 1517.37 M740.683 1513.66 Q746.493 1513.66 749.549 1518.27 Q752.627 1522.85 752.627 1531.6 Q752.627 1540.33 749.549 1544.94 Q746.493 1549.52 740.683 1549.52 Q734.873 1549.52 731.794 1544.94 Q728.739 1540.33 728.739 1531.6 Q728.739 1522.85 731.794 1518.27 Q734.873 1513.66 740.683 1513.66 Z\" fill=\"#000000\" fill-rule=\"nonzero\" fill-opacity=\"1\" /><path clip-path=\"url(#clip120)\" d=\"M1185.04 1544.91 L1192.68 1544.91 L1192.68 1518.55 L1184.36 1520.21 L1184.36 1515.95 L1192.63 1514.29 L1197.3 1514.29 L1197.3 1544.91 L1204.94 1544.91 L1204.94 1548.85 L1185.04 1548.85 L1185.04 1544.91 Z\" fill=\"#000000\" fill-rule=\"nonzero\" fill-opacity=\"1\" /><path clip-path=\"url(#clip120)\" d=\"M1224.39 1532.44 Q1221.05 1532.44 1219.13 1534.22 Q1217.24 1536 1217.24 1539.13 Q1217.24 1542.25 1219.13 1544.03 Q1221.05 1545.82 1224.39 1545.82 Q1227.72 1545.82 1229.64 1544.03 Q1231.56 1542.23 1231.56 1539.13 Q1231.56 1536 1229.64 1534.22 Q1227.74 1532.44 1224.39 1532.44 M1219.71 1530.45 Q1216.7 1529.7 1215.01 1527.64 Q1213.35 1525.58 1213.35 1522.62 Q1213.35 1518.48 1216.29 1516.07 Q1219.25 1513.66 1224.39 1513.66 Q1229.55 1513.66 1232.49 1516.07 Q1235.43 1518.48 1235.43 1522.62 Q1235.43 1525.58 1233.74 1527.64 Q1232.07 1529.7 1229.09 1530.45 Q1232.47 1531.23 1234.34 1533.52 Q1236.24 1535.82 1236.24 1539.13 Q1236.24 1544.15 1233.16 1546.83 Q1230.11 1549.52 1224.39 1549.52 Q1218.67 1549.52 1215.59 1546.83 Q1212.54 1544.15 1212.54 1539.13 Q1212.54 1535.82 1214.43 1533.52 Q1216.33 1531.23 1219.71 1530.45 M1218 1523.06 Q1218 1525.75 1219.67 1527.25 Q1221.36 1528.76 1224.39 1528.76 Q1227.4 1528.76 1229.09 1527.25 Q1230.8 1525.75 1230.8 1523.06 Q1230.8 1520.38 1229.09 1518.87 Q1227.4 1517.37 1224.39 1517.37 Q1221.36 1517.37 1219.67 1518.87 Q1218 1520.38 1218 1523.06 Z\" fill=\"#000000\" fill-rule=\"nonzero\" fill-opacity=\"1\" /><path clip-path=\"url(#clip120)\" d=\"M1244.55 1542.97 L1249.43 1542.97 L1249.43 1548.85 L1244.55 1548.85 L1244.55 1542.97 Z\" fill=\"#000000\" fill-rule=\"nonzero\" fill-opacity=\"1\" /><path clip-path=\"url(#clip120)\" d=\"M1259.67 1514.29 L1278.02 1514.29 L1278.02 1518.22 L1263.95 1518.22 L1263.95 1526.7 Q1264.97 1526.35 1265.98 1526.19 Q1267 1526 1268.02 1526 Q1273.81 1526 1277.19 1529.17 Q1280.57 1532.34 1280.57 1537.76 Q1280.57 1543.34 1277.1 1546.44 Q1273.62 1549.52 1267.3 1549.52 Q1265.13 1549.52 1262.86 1549.15 Q1260.61 1548.78 1258.21 1548.04 L1258.21 1543.34 Q1260.29 1544.47 1262.51 1545.03 Q1264.73 1545.58 1267.21 1545.58 Q1271.22 1545.58 1273.55 1543.48 Q1275.89 1541.37 1275.89 1537.76 Q1275.89 1534.15 1273.55 1532.04 Q1271.22 1529.94 1267.21 1529.94 Q1265.34 1529.94 1263.46 1530.35 Q1261.61 1530.77 1259.67 1531.65 L1259.67 1514.29 Z\" fill=\"#000000\" fill-rule=\"nonzero\" fill-opacity=\"1\" /><path clip-path=\"url(#clip120)\" d=\"M1712.98 1544.91 L1720.62 1544.91 L1720.62 1518.55 L1712.31 1520.21 L1712.31 1515.95 L1720.57 1514.29 L1725.25 1514.29 L1725.25 1544.91 L1732.88 1544.91 L1732.88 1548.85 L1712.98 1548.85 L1712.98 1544.91 Z\" fill=\"#000000\" fill-rule=\"nonzero\" fill-opacity=\"1\" /><path clip-path=\"url(#clip120)\" d=\"M1742.47 1548.13 L1742.47 1543.87 Q1744.23 1544.7 1746.03 1545.14 Q1747.84 1545.58 1749.57 1545.58 Q1754.2 1545.58 1756.63 1542.48 Q1759.09 1539.36 1759.44 1533.01 Q1758.09 1535.01 1756.03 1536.07 Q1753.97 1537.13 1751.47 1537.13 Q1746.29 1537.13 1743.25 1534.01 Q1740.25 1530.86 1740.25 1525.42 Q1740.25 1520.1 1743.39 1516.88 Q1746.54 1513.66 1751.77 1513.66 Q1757.77 1513.66 1760.92 1518.27 Q1764.09 1522.85 1764.09 1531.6 Q1764.09 1539.77 1760.2 1544.66 Q1756.33 1549.52 1749.78 1549.52 Q1748.02 1549.52 1746.22 1549.17 Q1744.41 1548.82 1742.47 1548.13 M1751.77 1533.48 Q1754.92 1533.48 1756.75 1531.32 Q1758.6 1529.17 1758.6 1525.42 Q1758.6 1521.7 1756.75 1519.54 Q1754.92 1517.37 1751.77 1517.37 Q1748.62 1517.37 1746.77 1519.54 Q1744.94 1521.7 1744.94 1525.42 Q1744.94 1529.17 1746.77 1531.32 Q1748.62 1533.48 1751.77 1533.48 Z\" fill=\"#000000\" fill-rule=\"nonzero\" fill-opacity=\"1\" /><path clip-path=\"url(#clip120)\" d=\"M1772.49 1542.97 L1777.37 1542.97 L1777.37 1548.85 L1772.49 1548.85 L1772.49 1542.97 Z\" fill=\"#000000\" fill-rule=\"nonzero\" fill-opacity=\"1\" /><path clip-path=\"url(#clip120)\" d=\"M1797.56 1517.37 Q1793.95 1517.37 1792.12 1520.93 Q1790.31 1524.47 1790.31 1531.6 Q1790.31 1538.71 1792.12 1542.27 Q1793.95 1545.82 1797.56 1545.82 Q1801.19 1545.82 1803 1542.27 Q1804.83 1538.71 1804.83 1531.6 Q1804.83 1524.47 1803 1520.93 Q1801.19 1517.37 1797.56 1517.37 M1797.56 1513.66 Q1803.37 1513.66 1806.43 1518.27 Q1809.5 1522.85 1809.5 1531.6 Q1809.5 1540.33 1806.43 1544.94 Q1803.37 1549.52 1797.56 1549.52 Q1791.75 1549.52 1788.67 1544.94 Q1785.62 1540.33 1785.62 1531.6 Q1785.62 1522.85 1788.67 1518.27 Q1791.75 1513.66 1797.56 1513.66 Z\" fill=\"#000000\" fill-rule=\"nonzero\" fill-opacity=\"1\" /><path clip-path=\"url(#clip120)\" d=\"M2241.91 1544.91 L2249.55 1544.91 L2249.55 1518.55 L2241.24 1520.21 L2241.24 1515.95 L2249.51 1514.29 L2254.18 1514.29 L2254.18 1544.91 L2261.82 1544.91 L2261.82 1548.85 L2241.91 1548.85 L2241.91 1544.91 Z\" fill=\"#000000\" fill-rule=\"nonzero\" fill-opacity=\"1\" /><path clip-path=\"url(#clip120)\" d=\"M2271.4 1548.13 L2271.4 1543.87 Q2273.16 1544.7 2274.97 1545.14 Q2276.77 1545.58 2278.51 1545.58 Q2283.14 1545.58 2285.57 1542.48 Q2288.02 1539.36 2288.37 1533.01 Q2287.03 1535.01 2284.97 1536.07 Q2282.91 1537.13 2280.41 1537.13 Q2275.22 1537.13 2272.19 1534.01 Q2269.18 1530.86 2269.18 1525.42 Q2269.18 1520.1 2272.33 1516.88 Q2275.48 1513.66 2280.71 1513.66 Q2286.7 1513.66 2289.85 1518.27 Q2293.02 1522.85 2293.02 1531.6 Q2293.02 1539.77 2289.13 1544.66 Q2285.27 1549.52 2278.72 1549.52 Q2276.96 1549.52 2275.15 1549.17 Q2273.35 1548.82 2271.4 1548.13 M2280.71 1533.48 Q2283.86 1533.48 2285.69 1531.32 Q2287.54 1529.17 2287.54 1525.42 Q2287.54 1521.7 2285.69 1519.54 Q2283.86 1517.37 2280.71 1517.37 Q2277.56 1517.37 2275.71 1519.54 Q2273.88 1521.7 2273.88 1525.42 Q2273.88 1529.17 2275.71 1531.32 Q2277.56 1533.48 2280.71 1533.48 Z\" fill=\"#000000\" fill-rule=\"nonzero\" fill-opacity=\"1\" /><path clip-path=\"url(#clip120)\" d=\"M2301.43 1542.97 L2306.31 1542.97 L2306.31 1548.85 L2301.43 1548.85 L2301.43 1542.97 Z\" fill=\"#000000\" fill-rule=\"nonzero\" fill-opacity=\"1\" /><path clip-path=\"url(#clip120)\" d=\"M2316.54 1514.29 L2334.9 1514.29 L2334.9 1518.22 L2320.82 1518.22 L2320.82 1526.7 Q2321.84 1526.35 2322.86 1526.19 Q2323.88 1526 2324.9 1526 Q2330.69 1526 2334.07 1529.17 Q2337.44 1532.34 2337.44 1537.76 Q2337.44 1543.34 2333.97 1546.44 Q2330.5 1549.52 2324.18 1549.52 Q2322.01 1549.52 2319.74 1549.15 Q2317.49 1548.78 2315.08 1548.04 L2315.08 1543.34 Q2317.17 1544.47 2319.39 1545.03 Q2321.61 1545.58 2324.09 1545.58 Q2328.09 1545.58 2330.43 1543.48 Q2332.77 1541.37 2332.77 1537.76 Q2332.77 1534.15 2330.43 1532.04 Q2328.09 1529.94 2324.09 1529.94 Q2322.21 1529.94 2320.34 1530.35 Q2318.49 1530.77 2316.54 1531.65 L2316.54 1514.29 Z\" fill=\"#000000\" fill-rule=\"nonzero\" fill-opacity=\"1\" /><polyline clip-path=\"url(#clip120)\" style=\"stroke:#000000; stroke-linecap:round; stroke-linejoin:round; stroke-width:4; stroke-opacity:1; fill:none\" points=\"112.177,1486.45 112.177,47.2441 \"/>\n",
       "<polyline clip-path=\"url(#clip120)\" style=\"stroke:#000000; stroke-linecap:round; stroke-linejoin:round; stroke-width:4; stroke-opacity:1; fill:none\" points=\"112.177,1446.66 131.075,1446.66 \"/>\n",
       "<polyline clip-path=\"url(#clip120)\" style=\"stroke:#000000; stroke-linecap:round; stroke-linejoin:round; stroke-width:4; stroke-opacity:1; fill:none\" points=\"112.177,1047.23 131.075,1047.23 \"/>\n",
       "<polyline clip-path=\"url(#clip120)\" style=\"stroke:#000000; stroke-linecap:round; stroke-linejoin:round; stroke-width:4; stroke-opacity:1; fill:none\" points=\"112.177,647.812 131.075,647.812 \"/>\n",
       "<polyline clip-path=\"url(#clip120)\" style=\"stroke:#000000; stroke-linecap:round; stroke-linejoin:round; stroke-width:4; stroke-opacity:1; fill:none\" points=\"112.177,248.389 131.075,248.389 \"/>\n",
       "<path clip-path=\"url(#clip120)\" d=\"M64.2328 1432.46 Q60.6217 1432.46 58.793 1436.02 Q56.9875 1439.56 56.9875 1446.69 Q56.9875 1453.8 58.793 1457.36 Q60.6217 1460.9 64.2328 1460.9 Q67.867 1460.9 69.6726 1457.36 Q71.5013 1453.8 71.5013 1446.69 Q71.5013 1439.56 69.6726 1436.02 Q67.867 1432.46 64.2328 1432.46 M64.2328 1428.75 Q70.0429 1428.75 73.0985 1433.36 Q76.1772 1437.94 76.1772 1446.69 Q76.1772 1455.42 73.0985 1460.02 Q70.0429 1464.61 64.2328 1464.61 Q58.4226 1464.61 55.344 1460.02 Q52.2884 1455.42 52.2884 1446.69 Q52.2884 1437.94 55.344 1433.36 Q58.4226 1428.75 64.2328 1428.75 Z\" fill=\"#000000\" fill-rule=\"nonzero\" fill-opacity=\"1\" /><path clip-path=\"url(#clip120)\" d=\"M59.8578 1060.58 L76.1772 1060.58 L76.1772 1064.51 L54.2328 1064.51 L54.2328 1060.58 Q56.8949 1057.82 61.4782 1053.19 Q66.0846 1048.54 67.2652 1047.2 Q69.5105 1044.68 70.3902 1042.94 Q71.2929 1041.18 71.2929 1039.49 Q71.2929 1036.74 69.3485 1035 Q67.4272 1033.26 64.3254 1033.26 Q62.1263 1033.26 59.6726 1034.03 Q57.2421 1034.79 54.4643 1036.34 L54.4643 1031.62 Q57.2884 1030.49 59.7421 1029.91 Q62.1958 1029.33 64.2328 1029.33 Q69.6031 1029.33 72.7976 1032.01 Q75.992 1034.7 75.992 1039.19 Q75.992 1041.32 75.1818 1043.24 Q74.3948 1045.14 72.2883 1047.73 Q71.7096 1048.4 68.6078 1051.62 Q65.5059 1054.82 59.8578 1060.58 Z\" fill=\"#000000\" fill-rule=\"nonzero\" fill-opacity=\"1\" /><path clip-path=\"url(#clip120)\" d=\"M66.5939 634.606 L54.7884 653.055 L66.5939 653.055 L66.5939 634.606 M65.367 630.532 L71.2466 630.532 L71.2466 653.055 L76.1772 653.055 L76.1772 656.944 L71.2466 656.944 L71.2466 665.092 L66.5939 665.092 L66.5939 656.944 L50.9921 656.944 L50.9921 652.43 L65.367 630.532 Z\" fill=\"#000000\" fill-rule=\"nonzero\" fill-opacity=\"1\" /><path clip-path=\"url(#clip120)\" d=\"M64.6495 246.526 Q61.5013 246.526 59.6495 248.678 Q57.8208 250.831 57.8208 254.581 Q57.8208 258.308 59.6495 260.484 Q61.5013 262.637 64.6495 262.637 Q67.7976 262.637 69.6263 260.484 Q71.4781 258.308 71.4781 254.581 Q71.4781 250.831 69.6263 248.678 Q67.7976 246.526 64.6495 246.526 M73.9318 231.873 L73.9318 236.132 Q72.1726 235.299 70.367 234.859 Q68.5846 234.419 66.8254 234.419 Q62.1958 234.419 59.7421 237.544 Q57.3115 240.669 56.9643 246.989 Q58.33 244.975 60.3902 243.91 Q62.4504 242.822 64.9272 242.822 Q70.1355 242.822 73.1448 245.993 Q76.1772 249.141 76.1772 254.581 Q76.1772 259.905 73.029 263.123 Q69.8809 266.34 64.6495 266.34 Q58.6541 266.34 55.4828 261.757 Q52.3116 257.151 52.3116 248.424 Q52.3116 240.229 56.2004 235.368 Q60.0893 230.484 66.6402 230.484 Q68.3994 230.484 70.1818 230.831 Q71.9874 231.178 73.9318 231.873 Z\" fill=\"#000000\" fill-rule=\"nonzero\" fill-opacity=\"1\" /><polyline clip-path=\"url(#clip122)\" style=\"stroke:#009af9; stroke-linecap:round; stroke-linejoin:round; stroke-width:4; stroke-opacity:1; fill:none\" points=\"175.59,1445.72 177.706,1445.69 179.822,1445.66 181.937,1445.63 184.053,1445.6 186.169,1445.57 188.285,1445.54 190.401,1445.51 192.517,1445.48 194.633,1445.44 196.748,1445.41 198.864,1445.38 200.98,1445.34 203.096,1445.31 205.212,1445.28 207.328,1445.24 209.444,1445.2 211.56,1445.17 213.675,1445.13 215.791,1445.09 217.907,1445.05 220.023,1445.01 222.139,1444.98 224.255,1444.94 226.371,1444.89 228.487,1444.85 230.602,1444.81 232.718,1444.77 234.834,1444.73 236.95,1444.68 239.066,1444.64 241.182,1444.59 243.298,1444.55 245.413,1444.5 247.529,1444.45 249.645,1444.41 251.761,1444.36 253.877,1444.31 255.993,1444.26 258.109,1444.21 260.225,1444.16 262.34,1444.11 264.456,1444.05 266.572,1444 268.688,1443.95 270.804,1443.89 272.92,1443.84 275.036,1443.78 277.152,1443.72 279.267,1443.67 281.383,1443.61 283.499,1443.55 285.615,1443.49 287.731,1443.43 289.847,1443.37 291.963,1443.3 294.078,1443.24 296.194,1443.18 298.31,1443.11 300.426,1443.05 302.542,1442.98 304.658,1442.92 306.774,1442.85 308.89,1442.78 311.005,1442.71 313.121,1442.64 315.237,1442.57 317.353,1442.5 319.469,1442.42 321.585,1442.35 323.701,1442.27 325.817,1442.2 327.932,1442.12 330.048,1442.04 332.164,1441.97 334.28,1441.89 336.396,1441.81 338.512,1441.73 340.628,1441.64 342.743,1441.56 344.859,1441.48 346.975,1441.39 349.091,1441.31 351.207,1441.22 353.323,1441.13 355.439,1441.04 357.555,1440.95 359.67,1440.86 361.786,1440.77 363.902,1440.67 366.018,1440.58 368.134,1440.48 370.25,1440.39 372.366,1440.29 374.482,1440.19 376.597,1440.09 378.713,1439.99 380.829,1439.89 382.945,1439.79 385.061,1439.68 387.177,1439.58 389.293,1439.47 391.408,1439.36 393.524,1439.25 395.64,1439.14 397.756,1439.03 399.872,1438.92 401.988,1438.8 404.104,1438.69 406.22,1438.57 408.335,1438.45 410.451,1438.33 412.567,1438.21 414.683,1438.09 416.799,1437.97 418.915,1437.84 421.031,1437.72 423.147,1437.59 425.262,1437.46 427.378,1437.33 429.494,1437.2 431.61,1437.07 433.726,1436.93 435.842,1436.8 437.958,1436.66 440.073,1436.52 442.189,1436.38 444.305,1436.24 446.421,1436.1 448.537,1435.95 450.653,1435.8 452.769,1435.66 454.885,1435.51 457,1435.36 459.116,1435.2 461.232,1435.05 463.348,1434.89 465.464,1434.74 467.58,1434.58 469.696,1434.41 471.811,1434.25 473.927,1434.09 476.043,1433.92 478.159,1433.75 480.275,1433.58 482.391,1433.41 484.507,1433.24 486.623,1433.06 488.738,1432.89 490.854,1432.71 492.97,1432.53 495.086,1432.34 497.202,1432.16 499.318,1431.97 501.434,1431.78 503.55,1431.59 505.665,1431.4 507.781,1431.21 509.897,1431.01 512.013,1430.81 514.129,1430.61 516.245,1430.41 518.361,1430.2 520.476,1429.99 522.592,1429.79 524.708,1429.57 526.824,1429.36 528.94,1429.14 531.056,1428.93 533.172,1428.71 535.288,1428.48 537.403,1428.26 539.519,1428.03 541.635,1427.8 543.751,1427.57 545.867,1427.33 547.983,1427.1 550.099,1426.86 552.215,1426.61 554.33,1426.37 556.446,1426.12 558.562,1425.87 560.678,1425.62 562.794,1425.36 564.91,1425.11 567.026,1424.85 569.141,1424.58 571.257,1424.32 573.373,1424.05 575.489,1423.78 577.605,1423.5 579.721,1423.22 581.837,1422.94 583.953,1422.66 586.068,1422.37 588.184,1422.09 590.3,1421.79 592.416,1421.5 594.532,1421.2 596.648,1420.9 598.764,1420.59 600.88,1420.29 602.995,1419.97 605.111,1419.66 607.227,1419.34 609.343,1419.02 611.459,1418.7 613.575,1418.37 615.691,1418.04 617.806,1417.7 619.922,1417.37 622.038,1417.02 624.154,1416.68 626.27,1416.33 628.386,1415.98 630.502,1415.62 632.618,1415.26 634.733,1414.9 636.849,1414.53 638.965,1414.16 641.081,1413.78 643.197,1413.4 645.313,1413.02 647.429,1412.63 649.545,1412.24 651.66,1411.84 653.776,1411.44 655.892,1411.04 658.008,1410.63 660.124,1410.22 662.24,1409.8 664.356,1409.38 666.471,1408.95 668.587,1408.52 670.703,1408.08 672.819,1407.64 674.935,1407.2 677.051,1406.75 679.167,1406.29 681.283,1405.83 683.398,1405.37 685.514,1404.9 687.63,1404.42 689.746,1403.95 691.862,1403.46 693.978,1402.97 696.094,1402.48 698.21,1401.97 700.325,1401.47 702.441,1400.96 704.557,1400.44 706.673,1399.92 708.789,1399.39 710.905,1398.85 713.021,1398.31 715.136,1397.77 717.252,1397.22 719.368,1396.66 721.484,1396.09 723.6,1395.52 725.716,1394.95 727.832,1394.37 729.948,1393.78 732.063,1393.18 734.179,1392.58 736.295,1391.97 738.411,1391.35 740.527,1390.73 742.643,1390.1 744.759,1389.47 746.875,1388.82 748.99,1388.17 751.106,1387.52 753.222,1386.85 755.338,1386.18 757.454,1385.5 759.57,1384.81 761.686,1384.12 763.801,1383.42 765.917,1382.7 768.033,1381.99 770.149,1381.26 772.265,1380.52 774.381,1379.78 776.497,1379.03 778.613,1378.27 780.728,1377.5 782.844,1376.73 784.96,1375.94 787.076,1375.14 789.192,1374.34 791.308,1373.53 793.424,1372.71 795.54,1371.87 797.655,1371.03 799.771,1370.18 801.887,1369.32 804.003,1368.45 806.119,1367.57 808.235,1366.68 810.351,1365.78 812.466,1364.87 814.582,1363.95 816.698,1363.01 818.814,1362.07 820.93,1361.12 823.046,1360.15 825.162,1359.18 827.278,1358.19 829.393,1357.19 831.509,1356.18 833.625,1355.16 835.741,1354.12 837.857,1353.08 839.973,1352.02 842.089,1350.95 844.205,1349.86 846.32,1348.76 848.436,1347.65 850.552,1346.53 852.668,1345.4 854.784,1344.25 856.9,1343.08 859.016,1341.9 861.131,1340.71 863.247,1339.51 865.363,1338.29 867.479,1337.05 869.595,1335.8 871.711,1334.54 873.827,1333.26 875.943,1331.97 878.058,1330.66 880.174,1329.33 882.29,1327.99 884.406,1326.63 886.522,1325.25 888.638,1323.86 890.754,1322.45 892.87,1321.03 894.985,1319.58 897.101,1318.12 899.217,1316.64 901.333,1315.15 903.449,1313.63 905.565,1312.1 907.681,1310.54 909.796,1308.97 911.912,1307.38 914.028,1305.77 916.144,1304.14 918.26,1302.49 920.376,1300.82 922.492,1299.12 924.608,1297.41 926.723,1295.67 928.839,1293.92 930.955,1292.14 933.071,1290.34 935.187,1288.51 937.303,1286.67 939.419,1284.8 941.535,1282.9 943.65,1280.99 945.766,1279.05 947.882,1277.08 949.998,1275.09 952.114,1273.07 954.23,1271.03 956.346,1268.96 958.461,1266.87 960.577,1264.75 962.693,1262.6 964.809,1260.42 966.925,1258.22 969.041,1255.99 971.157,1253.73 973.273,1251.44 975.388,1249.12 977.504,1246.77 979.62,1244.39 981.736,1241.98 983.852,1239.54 985.968,1237.07 988.084,1234.57 990.199,1232.03 992.315,1229.46 994.431,1226.86 996.547,1224.22 998.663,1221.55 1000.78,1218.85 1002.89,1216.1 1005.01,1213.33 1007.13,1210.51 1009.24,1207.66 1011.36,1204.78 1013.47,1201.85 1015.59,1198.89 1017.71,1195.89 1019.82,1192.85 1021.94,1189.77 1024.05,1186.64 1026.17,1183.48 1028.29,1180.28 1030.4,1177.03 1032.52,1173.74 1034.63,1170.41 1036.75,1167.04 1038.86,1163.62 1040.98,1160.15 1043.1,1156.64 1045.21,1153.08 1047.33,1149.48 1049.44,1145.83 1051.56,1142.13 1053.68,1138.38 1055.79,1134.58 1057.91,1130.74 1060.02,1126.84 1062.14,1122.89 1064.25,1118.89 1066.37,1114.84 1068.49,1110.73 1070.6,1106.57 1072.72,1102.36 1074.83,1098.09 1076.95,1093.77 1079.07,1089.39 1081.18,1084.95 1083.3,1080.45 1085.41,1075.9 1087.53,1071.28 1089.65,1066.61 1091.76,1061.88 1093.88,1057.08 1095.99,1052.23 1098.11,1047.31 1100.22,1042.33 1102.34,1037.28 1104.46,1032.17 1106.57,1027 1108.69,1021.76 1110.8,1016.45 1112.92,1011.08 1115.04,1005.64 1117.15,1000.13 1119.27,994.555 1121.38,988.909 1123.5,983.193 1125.62,977.406 1127.73,971.548 1129.85,965.619 1131.96,959.618 1134.08,953.545 1136.19,947.398 1138.31,941.178 1140.43,934.885 1142.54,928.516 1144.66,922.074 1146.77,915.556 1148.89,908.962 1151.01,902.293 1153.12,895.548 1155.24,888.727 1157.35,881.829 1159.47,874.855 1161.58,867.804 1163.7,860.676 1165.82,853.471 1167.93,846.19 1170.05,838.831 1172.16,831.395 1174.28,823.883 1176.4,816.295 1178.51,808.63 1180.63,800.889 1182.74,793.073 1184.86,785.181 1186.98,777.215 1189.09,769.175 1191.21,761.061 1193.32,752.875 1195.44,744.617 1197.55,736.287 1199.67,727.887 1201.79,719.419 1203.9,710.882 1206.02,702.278 1208.13,693.609 1210.25,684.875 1212.37,676.079 1214.48,667.222 1216.6,658.306 1218.71,649.331 1220.83,640.302 1222.95,631.218 1225.06,622.083 1227.18,612.898 1229.29,603.667 1231.41,594.391 1233.52,585.073 1235.64,575.716 1237.76,566.322 1239.87,556.895 1241.99,547.438 1244.1,537.953 1246.22,528.445 1248.34,518.916 1250.45,509.371 1252.57,499.812 1254.68,490.245 1256.8,480.672 1258.91,471.098 1261.03,461.527 1263.15,451.964 1265.26,442.413 1267.38,432.878 1269.49,423.365 1271.61,413.878 1273.73,404.421 1275.84,395.001 1277.96,385.622 1280.07,376.289 1282.19,367.009 1284.31,357.785 1286.42,348.624 1288.54,339.531 1290.65,330.512 1292.77,321.573 1294.88,312.719 1297,303.956 1299.12,295.29 1301.23,286.727 1303.35,278.273 1305.46,269.934 1307.58,261.714 1309.7,253.622 1311.81,245.661 1313.93,237.839 1316.04,230.16 1318.16,222.631 1320.28,215.257 1322.39,208.045 1324.51,200.998 1326.62,194.124 1328.74,187.427 1330.85,180.912 1332.97,174.584 1335.09,168.449 1337.2,162.511 1339.32,156.775 1341.43,151.245 1343.55,145.925 1345.67,140.82 1347.78,135.934 1349.9,131.269 1352.01,126.83 1354.13,122.62 1356.24,118.641 1358.36,114.897 1360.48,111.39 1362.59,108.123 1364.71,105.096 1366.82,102.313 1368.94,99.7745 1371.06,97.4816 1373.17,95.4354 1375.29,93.6366 1377.4,92.0858 1379.52,90.7829 1381.64,89.728 1383.75,88.9206 1385.87,88.3602 1387.98,88.0458 1390.1,87.9763 1392.21,88.1503 1394.33,88.5661 1396.45,89.2219 1398.56,90.1156 1400.68,91.2448 1402.79,92.6069 1404.91,94.1992 1407.03,96.0187 1409.14,98.0623 1411.26,100.326 1413.37,102.808 1415.49,105.502 1417.61,108.406 1419.72,111.516 1421.84,114.827 1423.95,118.335 1426.07,122.035 1428.18,125.924 1430.3,129.996 1432.42,134.247 1434.53,138.671 1436.65,143.265 1438.76,148.023 1440.88,152.94 1443,158.011 1445.11,163.231 1447.23,168.595 1449.34,174.098 1451.46,179.734 1453.57,185.5 1455.69,191.389 1457.81,197.396 1459.92,203.517 1462.04,209.747 1464.15,216.079 1466.27,222.511 1468.39,229.036 1470.5,235.649 1472.62,242.347 1474.73,249.124 1476.85,255.976 1478.97,262.897 1481.08,269.885 1483.2,276.933 1485.31,284.038 1487.43,291.196 1489.54,298.403 1491.66,305.653 1493.78,312.944 1495.89,320.272 1498.01,327.633 1500.12,335.022 1502.24,342.437 1504.36,349.874 1506.47,357.33 1508.59,364.801 1510.7,372.284 1512.82,379.776 1514.94,387.274 1517.05,394.775 1519.17,402.277 1521.28,409.776 1523.4,417.27 1525.51,424.757 1527.63,432.234 1529.75,439.699 1531.86,447.149 1533.98,454.583 1536.09,461.998 1538.21,469.393 1540.33,476.765 1542.44,484.112 1544.56,491.434 1546.67,498.728 1548.79,505.993 1550.9,513.227 1553.02,520.428 1555.14,527.597 1557.25,534.73 1559.37,541.828 1561.48,548.888 1563.6,555.911 1565.72,562.894 1567.83,569.837 1569.95,576.738 1572.06,583.598 1574.18,590.416 1576.3,597.189 1578.41,603.919 1580.53,610.604 1582.64,617.244 1584.76,623.838 1586.87,630.386 1588.99,636.886 1591.11,643.34 1593.22,649.746 1595.34,656.104 1597.45,662.415 1599.57,668.676 1601.69,674.889 1603.8,681.054 1605.92,687.169 1608.03,693.235 1610.15,699.252 1612.27,705.22 1614.38,711.138 1616.5,717.008 1618.61,722.827 1620.73,728.598 1622.84,734.319 1624.96,739.991 1627.08,745.614 1629.19,751.189 1631.31,756.714 1633.42,762.19 1635.54,767.618 1637.66,772.998 1639.77,778.329 1641.89,783.613 1644,788.849 1646.12,794.037 1648.23,799.178 1650.35,804.272 1652.47,809.319 1654.58,814.319 1656.7,819.274 1658.81,824.182 1660.93,829.045 1663.05,833.862 1665.16,838.634 1667.28,843.362 1669.39,848.045 1671.51,852.684 1673.63,857.28 1675.74,861.832 1677.86,866.34 1679.97,870.806 1682.09,875.23 1684.2,879.612 1686.32,883.952 1688.44,888.25 1690.55,892.508 1692.67,896.725 1694.78,900.902 1696.9,905.038 1699.02,909.136 1701.13,913.194 1703.25,917.213 1705.36,921.193 1707.48,925.136 1709.6,929.041 1711.71,932.908 1713.83,936.739 1715.94,940.532 1718.06,944.29 1720.17,948.011 1722.29,951.697 1724.41,955.348 1726.52,958.963 1728.64,962.544 1730.75,966.091 1732.87,969.604 1734.99,973.084 1737.1,976.53 1739.22,979.944 1741.33,983.325 1743.45,986.674 1745.56,989.992 1747.68,993.277 1749.8,996.532 1751.91,999.756 1754.03,1002.95 1756.14,1006.11 1758.26,1009.25 1760.38,1012.35 1762.49,1015.42 1764.61,1018.47 1766.72,1021.49 1768.84,1024.48 1770.96,1027.44 1773.07,1030.37 1775.19,1033.28 1777.3,1036.16 1779.42,1039.01 1781.53,1041.84 1783.65,1044.64 1785.77,1047.41 1787.88,1050.16 1790,1052.88 1792.11,1055.58 1794.23,1058.25 1796.35,1060.9 1798.46,1063.52 1800.58,1066.13 1802.69,1068.7 1804.81,1071.26 1806.93,1073.79 1809.04,1076.29 1811.16,1078.78 1813.27,1081.24 1815.39,1083.68 1817.5,1086.1 1819.62,1088.49 1821.74,1090.87 1823.85,1093.22 1825.97,1095.56 1828.08,1097.87 1830.2,1100.16 1832.32,1102.43 1834.43,1104.68 1836.55,1106.92 1838.66,1109.13 1840.78,1111.32 1842.89,1113.49 1845.01,1115.65 1847.13,1117.78 1849.24,1119.9 1851.36,1122 1853.47,1124.08 1855.59,1126.14 1857.71,1128.19 1859.82,1130.22 1861.94,1132.23 1864.05,1134.22 1866.17,1136.2 1868.29,1138.16 1870.4,1140.1 1872.52,1142.02 1874.63,1143.93 1876.75,1145.83 1878.86,1147.71 1880.98,1149.57 1883.1,1151.42 1885.21,1153.25 1887.33,1155.06 1889.44,1156.86 1891.56,1158.65 1893.68,1160.42 1895.79,1162.18 1897.91,1163.92 1900.02,1165.65 1902.14,1167.36 1904.26,1169.07 1906.37,1170.75 1908.49,1172.42 1910.6,1174.08 1912.72,1175.73 1914.83,1177.36 1916.95,1178.98 1919.07,1180.59 1921.18,1182.18 1923.3,1183.76 1925.41,1185.33 1927.53,1186.89 1929.65,1188.43 1931.76,1189.97 1933.88,1191.48 1935.99,1192.99 1938.11,1194.49 1940.22,1195.97 1942.34,1197.45 1944.46,1198.91 1946.57,1200.36 1948.69,1201.8 1950.8,1203.23 1952.92,1204.64 1955.04,1206.05 1957.15,1207.45 1959.27,1208.83 1961.38,1210.21 1963.5,1211.57 1965.62,1212.92 1967.73,1214.27 1969.85,1215.6 1971.96,1216.93 1974.08,1218.24 1976.19,1219.54 1978.31,1220.84 1980.43,1222.12 1982.54,1223.4 1984.66,1224.67 1986.77,1225.92 1988.89,1227.17 1991.01,1228.41 1993.12,1229.64 1995.24,1230.86 1997.35,1232.07 1999.47,1233.27 2001.59,1234.47 2003.7,1235.66 2005.82,1236.83 2007.93,1238 2010.05,1239.16 2012.16,1240.32 2014.28,1241.46 2016.4,1242.6 2018.51,1243.72 2020.63,1244.84 2022.74,1245.96 2024.86,1247.06 2026.98,1248.16 2029.09,1249.25 2031.21,1250.33 2033.32,1251.41 2035.44,1252.47 2037.55,1253.53 2039.67,1254.59 2041.79,1255.63 2043.9,1256.67 2046.02,1257.7 2048.13,1258.73 2050.25,1259.74 2052.37,1260.75 2054.48,1261.76 2056.6,1262.76 2058.71,1263.75 2060.83,1264.73 2062.95,1265.71 2065.06,1266.68 2067.18,1267.64 2069.29,1268.6 2071.41,1269.55 2073.52,1270.5 2075.64,1271.44 2077.76,1272.37 2079.87,1273.3 2081.99,1274.22 2084.1,1275.14 2086.22,1276.05 2088.34,1276.95 2090.45,1277.85 2092.57,1278.74 2094.68,1279.63 2096.8,1280.51 2098.92,1281.38 2101.03,1282.25 2103.15,1283.12 2105.26,1283.98 2107.38,1284.83 2109.49,1285.68 2111.61,1286.52 2113.73,1287.36 2115.84,1288.19 2117.96,1289.02 2120.07,1289.84 2122.19,1290.66 2124.31,1291.47 2126.42,1292.28 2128.54,1293.08 2130.65,1293.88 2132.77,1294.67 2134.88,1295.46 2137,1296.24 2139.12,1297.02 2141.23,1297.8 2143.35,1298.56 2145.46,1299.33 2147.58,1300.09 2149.7,1300.84 2151.81,1301.6 2153.93,1302.34 2156.04,1303.09 2158.16,1303.82 2160.28,1304.56 2162.39,1305.29 2164.51,1306.01 2166.62,1306.73 2168.74,1307.45 2170.85,1308.16 2172.97,1308.87 2175.09,1309.58 2177.2,1310.28 2179.32,1310.97 2181.43,1311.67 2183.55,1312.35 2185.67,1313.04 2187.78,1313.72 2189.9,1314.4 2192.01,1315.07 2194.13,1315.74 2196.25,1316.41 2198.36,1317.07 2200.48,1317.73 2202.59,1318.38 2204.71,1319.03 2206.82,1319.68 2208.94,1320.32 2211.06,1320.96 2213.17,1321.6 2215.29,1322.24 2217.4,1322.87 2219.52,1323.49 2221.64,1324.12 2223.75,1324.74 2225.87,1325.35 2227.98,1325.97 2230.1,1326.58 2232.21,1327.18 2234.33,1327.79 2236.45,1328.39 2238.56,1328.98 2240.68,1329.58 2242.79,1330.17 2244.91,1330.76 2247.03,1331.34 2249.14,1331.92 2251.26,1332.5 2253.37,1333.08 2255.49,1333.65 2257.61,1334.22 2259.72,1334.79 2261.84,1335.35 2263.95,1335.91 2266.07,1336.47 2268.18,1337.03 2270.3,1337.58 2272.42,1338.13 2274.53,1338.67 2276.65,1339.22 2278.76,1339.76 2280.88,1340.3 2283,1340.83 2285.11,1341.37 2287.23,1341.9 2289.34,1342.43 \"/>\n",
       "<path clip-path=\"url(#clip120)\" d=\"M2001.58 198.898 L2278.07 198.898 L2278.07 95.2176 L2001.58 95.2176  Z\" fill=\"#ffffff\" fill-rule=\"evenodd\" fill-opacity=\"1\"/>\n",
       "<polyline clip-path=\"url(#clip120)\" style=\"stroke:#000000; stroke-linecap:round; stroke-linejoin:round; stroke-width:4; stroke-opacity:1; fill:none\" points=\"2001.58,198.898 2278.07,198.898 2278.07,95.2176 2001.58,95.2176 2001.58,198.898 \"/>\n",
       "<polyline clip-path=\"url(#clip120)\" style=\"stroke:#009af9; stroke-linecap:round; stroke-linejoin:round; stroke-width:4; stroke-opacity:1; fill:none\" points=\"2026.48,147.058 2175.85,147.058 \"/>\n",
       "<path clip-path=\"url(#clip120)\" d=\"M2214.59 166.745 Q2212.78 171.375 2211.07 172.787 Q2209.36 174.199 2206.49 174.199 L2203.08 174.199 L2203.08 170.634 L2205.58 170.634 Q2207.34 170.634 2208.31 169.8 Q2209.29 168.967 2210.47 165.865 L2211.23 163.921 L2200.74 138.412 L2205.26 138.412 L2213.36 158.689 L2221.46 138.412 L2225.98 138.412 L2214.59 166.745 Z\" fill=\"#000000\" fill-rule=\"nonzero\" fill-opacity=\"1\" /><path clip-path=\"url(#clip120)\" d=\"M2233.27 160.402 L2240.91 160.402 L2240.91 134.037 L2232.6 135.703 L2232.6 131.444 L2240.86 129.778 L2245.54 129.778 L2245.54 160.402 L2253.17 160.402 L2253.17 164.338 L2233.27 164.338 L2233.27 160.402 Z\" fill=\"#000000\" fill-rule=\"nonzero\" fill-opacity=\"1\" /></svg>\n"
      ],
      "text/html": [
       "<img src=\"data:image/png;base64,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\" />"
      ]
     },
     "metadata": {},
     "output_type": "display_data"
    }
   ],
   "source": [
    "plot(freqsplot/1e9,getBoost1d(booster,freqsplot))"
   ]
  },
  {
   "cell_type": "code",
   "execution_count": null,
   "metadata": {},
   "outputs": [],
   "source": [
    "n = 3 # number of discs in the booster\n",
    "\n",
    "initdist = findpeak1d(22.025e9,n) # initial disc configuration\n",
    "\n",
    "freqs = genFreqs(22.025e9,50e6; n=10) # optimize on these frequencies\n",
    "freqsplot = genFreqs(22.025e9,150e6; n=1000) # plot with these frequencies\n",
    "\n",
    "booster = AnalyticalBooster(initdist; ndisk=n)  # physical properties of the booster\n",
    "\n",
    "\n",
    "hist = initHist(booster,10000,freqs,ObjRef1dTest()); # stores measurements\n",
    "#                           ^ length, should be at least n"
   ]
  },
  {
   "attachments": {},
   "cell_type": "markdown",
   "metadata": {},
   "source": [
    "### Optimizer"
   ]
  },
  {
   "cell_type": "code",
   "execution_count": null,
   "metadata": {},
   "outputs": [],
   "source": [
    "trace = nelderMead(booster,hist,freqs,\n",
    "                    1.,1+2/n,0.75-1/2n,1-1/n,1e-9,\n",
    "                    ObjRef1dTest(),\n",
    "                    InitSimplexCoord(1e-4),\n",
    "                    DefaultSimplexSampler,\n",
    "                    UnstuckDont;\n",
    "                    maxiter=Int(1e3),\n",
    "                    showtrace=true,\n",
    "                    showevery=100,\n",
    "                    unstuckisiter=true);"
   ]
  },
  {
   "cell_type": "code",
   "execution_count": 76,
   "metadata": {},
   "outputs": [],
   "source": [
    "D = []\n",
    "\n",
    "for i in 1:1000\n",
    "    n = booster.ndisk\n",
    "    booster.pos = copy(p1)\n",
    "    move(booster,rande(n)*0.1e-3/2; additive=true)\n",
    "    booster.summeddistance = 0\n",
    "\n",
    "    trace = nelderMead(booster,hist,freqs,\n",
    "                    1.,1+2/n,0.75-1/2n,1-1/n,1e-9,1e-9,\n",
    "                    Obj,\n",
    "                    InitSimplexCoord(1e-6),\n",
    "                    DefaultSimplexSampler,\n",
    "                    UnstuckDont;\n",
    "                    maxiter=Int(1e3),\n",
    "                    showtrace=false,\n",
    "                    unstuckisiter=true);\n",
    "\n",
    "    # println(booster.summeddistance)\n",
    "    push!(D,booster.summeddistance)\n",
    "end"
   ]
  },
  {
   "cell_type": "code",
   "execution_count": 78,
   "metadata": {},
   "outputs": [
    {
     "data": {
      "text/plain": [
       "0.0010249828403501881"
      ]
     },
     "metadata": {},
     "output_type": "display_data"
    }
   ],
   "source": [
    "dp = sum(D)/length(D)"
   ]
  },
  {
   "cell_type": "code",
   "execution_count": null,
   "metadata": {},
   "outputs": [],
   "source": [
    "#obtain result, booster is now in optimized position\n",
    "#pos2dist(booster.pos)     #in distance space\n",
    "booster.pos               #in position space"
   ]
  },
  {
   "cell_type": "code",
   "execution_count": null,
   "metadata": {},
   "outputs": [],
   "source": [
    "#get handy output\n",
    "plt = analyse(hist,trace,freqsplot; freqs=freqs,div=10)\n",
    "\n",
    "#savefig(plt[i],\"cool_epic_result_wow.svg\")"
   ]
  }
 ],
 "metadata": {
  "@webio": {
   "lastCommId": null,
   "lastKernelId": null
  },
  "kernelspec": {
   "display_name": "Julia 1.11.3",
   "language": "julia",
   "name": "julia-1.11"
  },
  "language_info": {
   "file_extension": ".jl",
   "mimetype": "application/julia",
   "name": "julia",
   "version": "1.11.3"
  }
 },
 "nbformat": 4,
 "nbformat_minor": 2
}
