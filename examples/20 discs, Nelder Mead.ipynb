{
 "cells": [
  {
   "cell_type": "markdown",
   "metadata": {},
   "source": [
    "### Setup"
   ]
  },
  {
   "cell_type": "code",
   "execution_count": 1,
   "metadata": {},
   "outputs": [],
   "source": [
    "using Dragoon"
   ]
  },
  {
   "cell_type": "code",
   "execution_count": 2,
   "metadata": {},
   "outputs": [
    {
     "name": "stdout",
     "output_type": "stream",
     "text": [
      "Objective Value: -243.3, Timestamp: 2023-06-05T13:10:43.589\n"
     ]
    }
   ],
   "source": [
    "#number of discs in the booster\n",
    "n = 20\n",
    "\n",
    "#initial disc configuration\n",
    "#findpeak tries to find an equidistant configuration with a peak at f\n",
    "initdist = findpeak(22.025e9,n)\n",
    "\n",
    "#generate frequencies for calculation and for plotting\n",
    "freqs = genFreqs(22.025e9,50e6; length=10) #optimize on these frequencies\n",
    "freqsplot = genFreqs(22.025e9,150e6; length=1000)\n",
    "\n",
    "#initialize physical properties of the booster\n",
    "booster = AnalyticalBooster(initdist)\n",
    "#=\n",
    "Booster(\n",
    "    pos,              disc positions\n",
    "    ndisk,            disc number\n",
    "    thickness,        disc thickness\n",
    "    epsilon,          disc epsilon\n",
    "    vmotor,           motor speed\n",
    "    maxlength,        maximum allowed booster length (not implemented yet)\n",
    "    timestamp,        booster operation time\n",
    "    summedtraveltime, summed motor operation time\n",
    "    codetimestamp     code runtime\n",
    ")\n",
    "=#\n",
    "\n",
    "#initialize storage of measurements\n",
    "hist = initHist(booster,10000,freqs,ObjAnalytical)\n",
    "#                           ^ length, should be at least n\n",
    ";"
   ]
  },
  {
   "attachments": {},
   "cell_type": "markdown",
   "metadata": {},
   "source": [
    "### Optimizer"
   ]
  },
  {
   "cell_type": "code",
   "execution_count": null,
   "metadata": {},
   "outputs": [],
   "source": [
    "#=\n",
    "how to use\n",
    "\n",
    "neldermead(                     directly modifies booster.pos\n",
    "    booster,                    \n",
    "    hist,                       \n",
    "    freqs,                      frequency range to optimize on\n",
    "    α,                          reflection parameter, 1 recommended\n",
    "    β,                          expansion parameter, 1+2/n recommended\n",
    "    γ,                          contraction parameter, 0.75-1/2n recommended\n",
    "    δ,                          shrink parameter, 1-1/n recommended\n",
    "    (objective,[options]),      objective function\n",
    "    (initsimplex,[options]),    constructs initial simplex\n",
    "    (simplexobj,[options]),     sweeps all vertices for their objective value\n",
    "    (unstuckinator,[options]);  tries to unstuck system from bad local minima (not yet implemented)\n",
    "    ϵgrad=0,                    terminate if norm(gradient) falls below this value,\n",
    "    maxiter=100,                maximum allowed iterations,\n",
    "    showtrace=false,            wether to print progress,\n",
    "    showevery=1,                only print every i iterations,\n",
    "    unstuckisiter=true,         wether an unstucking iteration counts towards maxiter\n",
    "                                    warning! can run endlessly if false\n",
    "    tracecentroid=false,        wether to write the centroid to trace, increases operation time\n",
    "    traceevery=1,               write only every ith iteration to trace\n",
    ")\n",
    "\n",
    "returns trace, access with\n",
    "trace[iteration].x      simplex disc positions\n",
    "                .obj    simplex objective values\n",
    "                .x_     centroid disc position if traced\n",
    "                .obj_   centroid objective value if traced\n",
    "                .t      timestamp\n",
    "                .T      summed travel time\n",
    "=#"
   ]
  },
  {
   "cell_type": "code",
   "execution_count": 3,
   "metadata": {},
   "outputs": [
    {
     "name": "stdout",
     "output_type": "stream",
     "text": [
      "Iter: 100, timestamp: "
     ]
    },
    {
     "name": "stdout",
     "output_type": "stream",
     "text": [
      "105577 weeks, 2 days, 13 hours, 13 minutes, 7 seconds\n",
      "Iter finished. Objective value: -1417.108\n",
      "\n",
      "Iter: 200, timestamp: 105577 weeks, 2 days, 13 hours, 14 minutes, 12 seconds\n",
      "Iter finished. Objective value: -4613.62\n",
      "\n",
      "Iter: 300, timestamp: 105577 weeks, 2 days, 13 hours, 15 minutes, 15 seconds\n",
      "Iter finished. Objective value: -12760.172\n",
      "\n",
      "Iter: 400, timestamp: 105577 weeks, 2 days, 13 hours, 15 minutes, 54 seconds\n",
      "Iter finished. Objective value: -13733.936\n",
      "\n"
     ]
    },
    {
     "name": "stdout",
     "output_type": "stream",
     "text": [
      "Iter: 500, timestamp: 105577 weeks, 2 days, 13 hours, 16 minutes, 17 seconds\n",
      "Iter finished. Objective value: -13867.682\n",
      "\n",
      "Iter: 600, timestamp: 105577 weeks, 2 days, 13 hours, 16 minutes, 27 seconds\n",
      "Iter finished. Objective value: -14088.231\n",
      "\n",
      "Iter: 700, timestamp: 105577 weeks, 2 days, 13 hours, 16 minutes, 30 seconds\n",
      "Iter finished. Objective value: -14135.984\n",
      "\n",
      "Iter: 800, timestamp: 105577 weeks, 2 days, 13 hours, 16 minutes, 32 seconds\n",
      "Iter finished. Objective value: -14161.093\n"
     ]
    },
    {
     "name": "stdout",
     "output_type": "stream",
     "text": [
      "\n",
      "Iter: 900, timestamp: 105577 weeks, 2 days, 13 hours, 16 minutes, 33 seconds\n",
      "Iter finished. Objective value: -14186.297\n",
      "\n",
      "Iter: 1000, timestamp: 105577 weeks, 2 days, 13 hours, 16 minutes, 34 seconds\n",
      "Iter finished. Objective value: -14211.565\n",
      "\n"
     ]
    },
    {
     "ename": "MethodError",
     "evalue": "MethodError: no method matching *(::Dates.DateTime, ::Bool)\n\nClosest candidates are:\n  *(::Any, ::Any, !Matched::Any, !Matched::Any...)\n   @ Base operators.jl:578\n  *(!Matched::StridedArray{P}, ::Real) where P<:Dates.Period\n   @ Dates C:\\Users\\bergermann\\AppData\\Local\\Programs\\Julia-1.9.0\\share\\julia\\stdlib\\v1.9\\Dates\\src\\deprecated.jl:44\n  *(!Matched::Union{SparseArrays.AbstractCompressedVector{Tv, Ti}, SubArray{Tv, 1, <:SparseArrays.AbstractSparseMatrixCSC{Tv, Ti}, Tuple{Base.Slice{Base.OneTo{Int64}}, Int64}, false}, SubArray{Tv, 1, <:SparseArrays.AbstractSparseVector{Tv, Ti}, Tuple{Base.Slice{Base.OneTo{Int64}}}, false}} where {Tv, Ti}, ::Number)\n   @ SparseArrays C:\\Users\\bergermann\\AppData\\Local\\Programs\\Julia-1.9.0\\share\\julia\\stdlib\\v1.9\\SparseArrays\\src\\sparsevector.jl:1650\n  ...\n",
     "output_type": "error",
     "traceback": [
      "MethodError: no method matching *(::Dates.DateTime, ::Bool)\n",
      "\n",
      "Closest candidates are:\n",
      "  *(::Any, ::Any, !Matched::Any, !Matched::Any...)\n",
      "   @ Base operators.jl:578\n",
      "  *(!Matched::StridedArray{P}, ::Real) where P<:Dates.Period\n",
      "   @ Dates C:\\Users\\bergermann\\AppData\\Local\\Programs\\Julia-1.9.0\\share\\julia\\stdlib\\v1.9\\Dates\\src\\deprecated.jl:44\n",
      "  *(!Matched::Union{SparseArrays.AbstractCompressedVector{Tv, Ti}, SubArray{Tv, 1, <:SparseArrays.AbstractSparseMatrixCSC{Tv, Ti}, Tuple{Base.Slice{Base.OneTo{Int64}}, Int64}, false}, SubArray{Tv, 1, <:SparseArrays.AbstractSparseVector{Tv, Ti}, Tuple{Base.Slice{Base.OneTo{Int64}}}, false}} where {Tv, Ti}, ::Number)\n",
      "   @ SparseArrays C:\\Users\\bergermann\\AppData\\Local\\Programs\\Julia-1.9.0\\share\\julia\\stdlib\\v1.9\\SparseArrays\\src\\sparsevector.jl:1650\n",
      "  ...\n",
      "\n",
      "\n",
      "Stacktrace:\n",
      " [1] nelderMead(booster::AnalyticalBooster, hist::Vector{State}, freqs::Vector{Float64}, α::Float64, β::Float64, γ::Float64, δ::Float64, objFunction::Callback, initSimplex::Callback, simplexObj::Callback, unstuckinator::Callback; maxiter::Int64, showtrace::Bool, showevery::Int64, unstuckisiter::Bool, tracecentroid::Bool, traceevery::Int64, resettimer::Bool)\n",
      "   @ Dragoon \\\\inst3\\data\\Benutzer\\bergermann\\Desktop\\Julia Files\\Dragoon.jl\\src\\optimizers.jl:245\n",
      " [2] top-level scope\n",
      "   @ \\\\inst3\\data\\Benutzer\\bergermann\\Desktop\\Julia Files\\Dragoon.jl\\examples\\20 discs, Nelder Mead.ipynb:1"
     ]
    }
   ],
   "source": [
    "trace = nelderMead(booster,hist,freqs,\n",
    "                    1.,1+2/n,0.75-1/2n,1-1/n,\n",
    "                    ObjAnalytical,\n",
    "                    InitSimplexCoord(1e-4),\n",
    "                    DefaultSimplexSampler,\n",
    "                    UnstuckDont;\n",
    "                    maxiter=Int(1e3),\n",
    "                    showtrace=true,\n",
    "                    showevery=100,\n",
    "                    unstuckisiter=true);"
   ]
  },
  {
   "cell_type": "code",
   "execution_count": null,
   "metadata": {},
   "outputs": [],
   "source": [
    "#obtain result, booster is now in optimized position\n",
    "#pos2dist(booster.pos)     #in distance space\n",
    "booster.pos               #in position space"
   ]
  },
  {
   "cell_type": "code",
   "execution_count": null,
   "metadata": {},
   "outputs": [],
   "source": [
    "#get handy output\n",
    "plt = analyse(hist,trace,freqsplot; freqs=freqs,div=10)\n",
    "\n",
    "#savefig(plt[i],\"cool_epic_result_wow.svg\")"
   ]
  }
 ],
 "metadata": {
  "@webio": {
   "lastCommId": null,
   "lastKernelId": null
  },
  "kernelspec": {
   "display_name": "Julia 1.9.0",
   "language": "julia",
   "name": "julia-1.9"
  },
  "language_info": {
   "file_extension": ".jl",
   "mimetype": "application/julia",
   "name": "julia",
   "version": "1.9.0"
  }
 },
 "nbformat": 4,
 "nbformat_minor": 2
}
