{
 "cells": [
  {
   "cell_type": "markdown",
   "metadata": {},
   "source": [
    "### Setup"
   ]
  },
  {
   "cell_type": "code",
   "execution_count": 1,
   "metadata": {},
   "outputs": [],
   "source": [
    "using Dragoon"
   ]
  },
  {
   "cell_type": "code",
   "execution_count": 2,
   "metadata": {},
   "outputs": [
    {
     "name": "stdout",
     "output_type": "stream",
     "text": [
      "Objective Value: -243.3, Timestamp: 2023-06-05T10:07:43.207\n"
     ]
    }
   ],
   "source": [
    "#number of discs in the booster\n",
    "n = 20\n",
    "\n",
    "#initial disc configuration\n",
    "#findpeak tries to find an equidistant configuration with a peak at f\n",
    "initdist = findpeak(22.025e9,n)\n",
    "\n",
    "#generate frequencies for calculation and for plotting\n",
    "freqs = genFreqs(22.025e9,50e6; length=10) #optimize on these frequencies\n",
    "freqsplot = genFreqs(22.025e9,150e6; length=1000)\n",
    "\n",
    "#initialize physical properties of the booster\n",
    "booster = AnalyticalBooster(initdist)\n",
    "#=\n",
    "Booster(\n",
    "    pos,              disc positions\n",
    "    ndisk,            disc number\n",
    "    thickness,        disc thickness\n",
    "    epsilon,          disc epsilon\n",
    "    vmotor,           motor speed\n",
    "    maxlength,        maximum allowed booster length (not implemented yet)\n",
    "    timestamp,        booster operation time\n",
    "    summedtraveltime, summed motor operation time\n",
    "    codetimestamp     code runtime\n",
    ")\n",
    "=#\n",
    "\n",
    "#initialize storage of measurements\n",
    "hist = initHist(booster,10000,freqs,ObjAnalytical)\n",
    "#                           ^ length, should be at least n\n",
    ";"
   ]
  },
  {
   "attachments": {},
   "cell_type": "markdown",
   "metadata": {},
   "source": [
    "### Optimizer"
   ]
  },
  {
   "cell_type": "code",
   "execution_count": null,
   "metadata": {},
   "outputs": [],
   "source": [
    "#=\n",
    "how to use\n",
    "\n",
    "neldermead(                     directly modifies booster.pos\n",
    "    booster,                    \n",
    "    hist,                       \n",
    "    freqs,                      frequency range to optimize on\n",
    "    α,                          reflection parameter, 1 recommended\n",
    "    β,                          expansion parameter, 1+2/n recommended\n",
    "    γ,                          contraction parameter, 0.75-1/2n recommended\n",
    "    δ,                          shrink parameter, 1-1/n recommended\n",
    "    (objective,[options]),      objective function\n",
    "    (initsimplex,[options]),    constructs initial simplex\n",
    "    (simplexobj,[options]),     sweeps all vertices for their objective value\n",
    "    (unstuckinator,[options]);  tries to unstuck system from bad local minima (not yet implemented)\n",
    "    ϵgrad=0,                    terminate if norm(gradient) falls below this value,\n",
    "    maxiter=100,                maximum allowed iterations,\n",
    "    showtrace=false,            wether to print progress,\n",
    "    showevery=1,                only print every i iterations,\n",
    "    unstuckisiter=true,         wether an unstucking iteration counts towards maxiter\n",
    "                                    warning! can run endlessly if false\n",
    "    tracecentroid=false,        wether to write the centroid to trace, increases operation time\n",
    "    traceevery=1,               write only every ith iteration to trace\n",
    ")\n",
    "\n",
    "returns trace, access with\n",
    "trace[iteration].x      simplex disc positions\n",
    "                .obj    simplex objective values\n",
    "                .x_     centroid disc position if traced\n",
    "                .obj_   centroid objective value if traced\n",
    "                .t      timestamp\n",
    "                .T      summed travel time\n",
    "=#"
   ]
  },
  {
   "cell_type": "code",
   "execution_count": null,
   "metadata": {},
   "outputs": [],
   "source": [
    "trace = nelderMead(booster,hist,freqs,\n",
    "                    1.,1+2/n,0.75-1/2n,1-1/n,\n",
    "                    objAnalytical,\n",
    "                    (initSimplexCoord,[1e-4]),\n",
    "                    (getSimplexObj,[]),\n",
    "                    (unstuckDont,[]);\n",
    "                    maxiter=Int(1e3),\n",
    "                    showtrace=true,\n",
    "                    showevery=100,\n",
    "                    unstuckisiter=true);"
   ]
  },
  {
   "cell_type": "code",
   "execution_count": null,
   "metadata": {},
   "outputs": [],
   "source": [
    "#obtain result, booster is now in optimized position\n",
    "#pos2dist(booster.pos)     #in distance space\n",
    "booster.pos               #in position space"
   ]
  },
  {
   "cell_type": "code",
   "execution_count": null,
   "metadata": {},
   "outputs": [],
   "source": [
    "#get handy output\n",
    "plt = analyse(hist,trace,freqsplot; freqs=freqs,div=10)\n",
    "\n",
    "#savefig(plt[i],\"cool_epic_result_wow.svg\")"
   ]
  }
 ],
 "metadata": {
  "@webio": {
   "lastCommId": null,
   "lastKernelId": null
  },
  "kernelspec": {
   "display_name": "Julia 1.9.0",
   "language": "julia",
   "name": "julia-1.9"
  },
  "language_info": {
   "file_extension": ".jl",
   "mimetype": "application/julia",
   "name": "julia",
   "version": "1.9.0"
  }
 },
 "nbformat": 4,
 "nbformat_minor": 2
}
