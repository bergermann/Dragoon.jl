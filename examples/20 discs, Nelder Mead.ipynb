{
 "cells": [
  {
   "cell_type": "markdown",
   "metadata": {},
   "source": [
    "### Setup"
   ]
  },
  {
   "cell_type": "code",
   "execution_count": null,
   "metadata": {},
   "outputs": [],
   "source": [
    "# install if not yet done\n",
    "using Pkg\n",
    "\n",
    "# Pkg.add(url=\"https://github.com/mppmu/BoostFractor.jl.git\")\n",
    "# Pkg.add(url=\"https://github.com/bergermann/Dragoon.jl.git\")\n",
    "Pkg.update()"
   ]
  },
  {
   "cell_type": "code",
   "execution_count": null,
   "metadata": {},
   "outputs": [],
   "source": [
    "using Dragoon\n",
    "using Plots"
   ]
  },
  {
   "cell_type": "code",
   "execution_count": null,
   "metadata": {},
   "outputs": [],
   "source": [
    "n = 20 # number of discs in the booster\n",
    "\n",
    "initdist = findpeak1d(22.025e9,n) # initial disc configuration\n",
    "\n",
    "freqs = genFreqs(22.025e9,50e6; n=10) # optimize on these frequencies\n",
    "freqsplot = genFreqs(22.025e9,150e6; n=1000) # plot with these frequencies\n",
    "\n",
    "booster = AnalyticalBooster(initdist; ndisk=n)  # physical properties of the booster\n",
    "booster.wavelength = λ(22.025e9)\n",
    "\n",
    "hist = initHist(booster,10000,freqs,ObjAnalytical); # stores measurements\n",
    "#                           ^ length, should be at least n"
   ]
  },
  {
   "attachments": {},
   "cell_type": "markdown",
   "metadata": {},
   "source": [
    "### Optimizer"
   ]
  },
  {
   "cell_type": "code",
   "execution_count": null,
   "metadata": {},
   "outputs": [],
   "source": [
    "trace = nelderMead(booster,hist,freqs,\n",
    "                    1.,1+2/n,0.75-1/2n,1-1/n,1e-9,\n",
    "                    ObjAnalytical,\n",
    "                    InitSimplexRegular(1e-4),\n",
    "                    DefaultSimplexSampler,\n",
    "                    UnstuckDont;\n",
    "                    maxiter=Int(1e5),\n",
    "                    showtrace=true,\n",
    "                    showevery=100,\n",
    "                    unstuckisiter=true,)"
   ]
  },
  {
   "cell_type": "code",
   "execution_count": null,
   "metadata": {},
   "outputs": [],
   "source": [
    "# obtain result, booster is now in optimized position\n",
    "pos2dist(booster.pos)     #in distance space\n",
    "# booster.pos               #in position space"
   ]
  },
  {
   "cell_type": "code",
   "execution_count": null,
   "metadata": {},
   "outputs": [],
   "source": [
    "typeof(trace)"
   ]
  },
  {
   "cell_type": "code",
   "execution_count": null,
   "metadata": {},
   "outputs": [],
   "source": [
    "# get handy output\n",
    "plt = analyse(booster,hist,trace,freqsplot; freqs=freqs,div=10,ylim=[0,100e3])\n",
    "\n",
    "# savefig(plt[i],\"cool_epic_result_wow.svg\")"
   ]
  },
  {
   "cell_type": "code",
   "execution_count": null,
   "metadata": {},
   "outputs": [],
   "source": [
    "booster.timestamp"
   ]
  },
  {
   "cell_type": "code",
   "execution_count": null,
   "metadata": {},
   "outputs": [],
   "source": [
    "analyse()"
   ]
  }
 ],
 "metadata": {
  "@webio": {
   "lastCommId": null,
   "lastKernelId": null
  },
  "kernelspec": {
   "display_name": "Julia 1.9.4",
   "language": "julia",
   "name": "julia-1.9"
  },
  "language_info": {
   "file_extension": ".jl",
   "mimetype": "application/julia",
   "name": "julia",
   "version": "1.9.4"
  }
 },
 "nbformat": 4,
 "nbformat_minor": 2
}
