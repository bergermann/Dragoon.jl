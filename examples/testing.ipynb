{
 "cells": [
  {
   "cell_type": "code",
   "execution_count": 3,
   "metadata": {},
   "outputs": [
    {
     "name": "stderr",
     "output_type": "stream",
     "text": [
      "\u001b[32m\u001b[1m    Updating\u001b[22m\u001b[39m git-repo `https://github.com/bergermann/Dragoon.jl.git`\n"
     ]
    },
    {
     "name": "stderr",
     "output_type": "stream",
     "text": [
      "\u001b[32m\u001b[1m   Resolving\u001b[22m\u001b[39m package versions..."
     ]
    },
    {
     "name": "stderr",
     "output_type": "stream",
     "text": [
      "\n",
      "\u001b[32m\u001b[1m    Updating\u001b[22m\u001b[39m `C:\\Users\\domin\\.julia\\environments\\v1.9\\Project.toml`\n",
      "  \u001b[90m[2528b1d8] \u001b[39m\u001b[93m~ Dragoon v0.0.0 `https://github.com/bergermann/Dragoon.jl.git#main` ⇒ v0.0.0 `https://github.com/bergermann/Dragoon.jl.git#main`\u001b[39m\n",
      "\u001b[32m\u001b[1m    Updating\u001b[22m\u001b[39m `C:\\Users\\domin\\.julia\\environments\\v1.9\\Manifest.toml`\n",
      "  \u001b[90m[2528b1d8] \u001b[39m\u001b[93m~ Dragoon v0.0.0 `https://github.com/bergermann/Dragoon.jl.git#main` ⇒ v0.0.0 `https://github.com/bergermann/Dragoon.jl.git#main`\u001b[39m"
     ]
    },
    {
     "name": "stderr",
     "output_type": "stream",
     "text": [
      "\n"
     ]
    },
    {
     "name": "stderr",
     "output_type": "stream",
     "text": [
      "\u001b[32m\u001b[1mPrecompiling\u001b[22m\u001b[39m project...\n"
     ]
    },
    {
     "name": "stderr",
     "output_type": "stream",
     "text": [
      "\u001b[32m  ✓ \u001b[39mDragoon\n",
      "  1 dependency successfully precompiled in 4 seconds. 153 already precompiled.\n"
     ]
    }
   ],
   "source": [
    "using Pkg\n",
    "\n",
    "# Pkg.add(url=\"https://github.com/mppmu/BoostFractor.jl.git\")\n",
    "Pkg.add(url=\"https://github.com/bergermann/Dragoon.jl.git\")\n",
    "# Pkg.update()"
   ]
  },
  {
   "cell_type": "code",
   "execution_count": 4,
   "metadata": {},
   "outputs": [],
   "source": [
    "using Dragoon\n",
    "using Plots\n",
    "# using Dates"
   ]
  },
  {
   "cell_type": "code",
   "execution_count": 5,
   "metadata": {},
   "outputs": [
    {
     "data": {
      "text/plain": [
       "10-element Vector{ComplexF64}:\n",
       "   0.6037533702979441 - 0.7971711659699691im\n",
       " -0.49152420239804373 - 0.8708639150045079im\n",
       "  -0.9446107215621984 - 0.3281929077687685im\n",
       "  -0.9846694945053195 + 0.1744304634822827im\n",
       "  -0.8136139156426136 + 0.5814055351238824im\n",
       "  -0.4751750303984411 + 0.8798912946982941im\n",
       " 0.007749561940184724 + 0.9999699716940137im\n",
       "   0.5325698378687111 + 0.8463860630896989im\n",
       "   0.9042152260421181 + 0.4270770714913185im\n",
       "   0.9965552817110883 - 0.08293111897068542im"
      ]
     },
     "metadata": {},
     "output_type": "display_data"
    }
   ],
   "source": [
    "ref0 = [\n",
    "      0.6037533702979441 - 0.7971711659699691im,\n",
    "    -0.49152420239804373 - 0.8708639150045079im,\n",
    "     -0.9446107215621984 - 0.3281929077687685im,\n",
    "     -0.9846694945053195 + 0.1744304634822827im,\n",
    "     -0.8136139156426136 + 0.5814055351238824im,\n",
    "     -0.4751750303984411 + 0.8798912946982941im,\n",
    "    0.007749561940184724 + 0.9999699716940137im,\n",
    "      0.5325698378687111 + 0.8463860630896989im,\n",
    "      0.9042152260421181 + 0.4270770714913185im,\n",
    "      0.9965552817110883 - 0.08293111897068542im,\n",
    "]"
   ]
  },
  {
   "cell_type": "code",
   "execution_count": 7,
   "metadata": {},
   "outputs": [
    {
     "name": "stdout",
     "output_type": "stream",
     "text": [
      "Objective Value: -243.3, Timestamp: 0000-01-01T00:00:00\n"
     ]
    }
   ],
   "source": [
    "n = 20\n",
    "\n",
    "initdist = findpeak(22.025e9,n)\n",
    "\n",
    "freqs = genFreqs(22.025e9,50e6; length=10)\n",
    "freqsplot = genFreqs(22.025e9,150e6; length=1000)\n",
    "\n",
    "booster = AnalyticalBooster(initdist)\n",
    "\n",
    "hist = initHist(booster,10000,freqs,ObjRef1d)\n",
    ";"
   ]
  },
  {
   "cell_type": "code",
   "execution_count": 9,
   "metadata": {},
   "outputs": [
    {
     "name": "stdout",
     "output_type": "stream",
     "text": [
      "Iter: 1000, timestamp: 3 minutes, 6 seconds\n",
      "Iter finished. Objective value current:  12.325\n",
      "               Objective value solution: -243.302\n",
      "               Temperature:              90.01\n",
      "\n"
     ]
    },
    {
     "name": "stdout",
     "output_type": "stream",
     "text": [
      "Iter: 2000, timestamp: 6 minutes, 16 seconds\n",
      "Iter finished. Objective value current:  11.266\n",
      "               Objective value solution: -243.302\n",
      "               Temperature:              80.01\n",
      "\n",
      "Iter: 3000, timestamp: 9 minutes, 22 seconds\n",
      "Iter finished. Objective value current:  11.924\n",
      "               Objective value solution: -243.302\n",
      "               Temperature:              70.01\n"
     ]
    },
    {
     "name": "stdout",
     "output_type": "stream",
     "text": [
      "\n",
      "Iter: 4000, timestamp: 12 minutes, 25 seconds\n",
      "Iter finished. Objective value current:  11.672\n",
      "               Objective value solution: -243.302\n",
      "               Temperature:              60.01\n",
      "\n",
      "Iter: 5000, timestamp: 15 minutes, 28 seconds\n",
      "Iter finished. Objective value current:  12.217\n",
      "               Objective value solution: -243.302\n",
      "               Temperature:              50.01\n",
      "\n"
     ]
    },
    {
     "name": "stdout",
     "output_type": "stream",
     "text": [
      "Iter: 6000, timestamp: 18 minutes, 32 seconds\n",
      "Iter finished. Objective value current:  12.114\n",
      "               Objective value solution: -243.302\n",
      "               Temperature:              40.01\n",
      "\n",
      "Iter: 7000, timestamp: 21 minutes, 40 seconds\n",
      "Iter finished. Objective value current:  12.275\n",
      "               Objective value solution: -243.302\n",
      "               Temperature:              30.01\n",
      "\n"
     ]
    },
    {
     "name": "stdout",
     "output_type": "stream",
     "text": [
      "Iter: 8000, timestamp: 24 minutes, 49 seconds\n",
      "Iter finished. Objective value current:  11.187\n",
      "               Objective value solution: -243.302\n",
      "               Temperature:              20.01\n",
      "\n",
      "Iter: 9000, timestamp: 27 minutes, 56 seconds\n",
      "Iter finished. Objective value current:  12.243\n",
      "               Objective value solution: -243.302\n",
      "               Temperature:              10.01\n"
     ]
    },
    {
     "name": "stdout",
     "output_type": "stream",
     "text": [
      "\n",
      "Iter: 10000, timestamp: 31 minutes, 1 second\n",
      "Iter finished. Objective value current:  12.282\n",
      "               Objective value solution: -243.302\n",
      "               Temperature:              0.01\n",
      "\n",
      "Terminated. 10001 Iterations.\n",
      "Final objective value: 12.191\n",
      "Elapsed movement time:  31 minutes, 32 seconds\n",
      "Summed movement time:   5 hours, 27 minutes, 31 seconds\n",
      "Elapsed computing time: 1 second, 210 milliseconds\n"
     ]
    }
   ],
   "source": [
    "T = collect(range(100; length=10001,stop=0))\n",
    "\n",
    "trace = simulatedAnnealing(booster,hist,freqs,\n",
    "            T,100e-6,\n",
    "            Dragoon.ObjRefLin(ref0),\n",
    "            UnstuckDont;\n",
    "            maxiter=Int(1e6),\n",
    "            showtrace=true,\n",
    "            showevery=1000,\n",
    "            unstuckisiter=true,\n",
    "            traceevery=1,\n",
    "            resettimer=true)\n",
    ";"
   ]
  },
  {
   "cell_type": "code",
   "execution_count": null,
   "metadata": {},
   "outputs": [],
   "source": []
  },
  {
   "cell_type": "code",
   "execution_count": null,
   "metadata": {},
   "outputs": [],
   "source": []
  },
  {
   "cell_type": "code",
   "execution_count": null,
   "metadata": {},
   "outputs": [],
   "source": []
  }
 ],
 "metadata": {
  "kernelspec": {
   "display_name": "Julia 1.9.0",
   "language": "julia",
   "name": "julia-1.9"
  },
  "language_info": {
   "file_extension": ".jl",
   "mimetype": "application/julia",
   "name": "julia",
   "version": "1.9.0"
  },
  "orig_nbformat": 4
 },
 "nbformat": 4,
 "nbformat_minor": 2
}
