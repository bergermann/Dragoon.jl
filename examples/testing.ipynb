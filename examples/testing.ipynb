{
 "cells": [
  {
   "cell_type": "code",
   "execution_count": 4,
   "metadata": {},
   "outputs": [],
   "source": [
    "using Pkg\n",
    "\n",
    "# Pkg.add(url=\"https://github.com/mppmu/BoostFractor.jl.git\")\n",
    "Pkg.add(url=\"https://github.com/bergermann/Dragoon.jl.git\")\n",
    "# Pkg.update()"
   ]
  },
  {
   "cell_type": "code",
   "execution_count": null,
   "metadata": {},
   "outputs": [],
   "source": [
    "using Dragoon\n",
    "using Plots\n",
    "# using Dates"
   ]
  },
  {
   "cell_type": "code",
   "execution_count": null,
   "metadata": {},
   "outputs": [],
   "source": [
    "ref0 = [\n",
    "      0.6037533702979441 - 0.7971711659699691im,\n",
    "    -0.49152420239804373 - 0.8708639150045079im,\n",
    "     -0.9446107215621984 - 0.3281929077687685im,\n",
    "     -0.9846694945053195 + 0.1744304634822827im,\n",
    "     -0.8136139156426136 + 0.5814055351238824im,\n",
    "     -0.4751750303984411 + 0.8798912946982941im,\n",
    "    0.007749561940184724 + 0.9999699716940137im,\n",
    "      0.5325698378687111 + 0.8463860630896989im,\n",
    "      0.9042152260421181 + 0.4270770714913185im,\n",
    "      0.9965552817110883 - 0.08293111897068542im,\n",
    "]"
   ]
  },
  {
   "cell_type": "code",
   "execution_count": null,
   "metadata": {},
   "outputs": [],
   "source": [
    "n = 20\n",
    "\n",
    "initdist = findpeak(22.025e9,n)\n",
    "\n",
    "freqs = genFreqs(22.025e9,50e6; length=10)\n",
    "freqsplot = genFreqs(22.025e9,150e6; length=1000)\n",
    "\n",
    "booster = AnalyticalBooster(initdist)\n",
    "\n",
    "hist = initHist(booster,10000,freqs,ObjAnalytical)"
   ]
  },
  {
   "cell_type": "code",
   "execution_count": null,
   "metadata": {},
   "outputs": [],
   "source": [
    "T = collect(range(100; length=10001,stop=0))\n",
    "\n",
    "trace = simulatedAnnealing(booster,hist,freqs,\n",
    "            T,100e-6,\n",
    "            ObjAnalytical,\n",
    "            UnstuckDont;\n",
    "            maxiter=Int(1e6),\n",
    "            showtrace=true,\n",
    "            showevery=1000,\n",
    "            unstuckisiter=true,\n",
    "            traceevery=1,\n",
    "            resettimer=true)\n",
    ";"
   ]
  },
  {
   "cell_type": "code",
   "execution_count": null,
   "metadata": {},
   "outputs": [],
   "source": []
  },
  {
   "cell_type": "code",
   "execution_count": null,
   "metadata": {},
   "outputs": [],
   "source": []
  },
  {
   "cell_type": "code",
   "execution_count": null,
   "metadata": {},
   "outputs": [],
   "source": []
  }
 ],
 "metadata": {
  "kernelspec": {
   "display_name": "Julia 1.9.0",
   "language": "julia",
   "name": "julia-1.9"
  },
  "language_info": {
   "file_extension": ".jl",
   "mimetype": "application/julia",
   "name": "julia",
   "version": "1.9.0"
  },
  "orig_nbformat": 4
 },
 "nbformat": 4,
 "nbformat_minor": 2
}
