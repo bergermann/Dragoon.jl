{
 "cells": [
  {
   "cell_type": "markdown",
   "metadata": {},
   "source": [
    "### Setup"
   ]
  },
  {
   "cell_type": "code",
   "execution_count": 1,
   "metadata": {},
   "outputs": [
    {
     "name": "stderr",
     "output_type": "stream",
     "text": [
      "\u001b[32m\u001b[1m    Updating\u001b[22m\u001b[39m registry at `C:\\Users\\bergermann\\.julia\\registries\\General.toml`\n",
      "\u001b[32m\u001b[1m    Updating\u001b[22m\u001b[39m git-repo `https://github.com/mppmu/BoostFractor.jl.git`\n",
      "\u001b[32m\u001b[1m    Updating\u001b[22m\u001b[39m git-repo `https://github.com/bergermann/Dragoon.jl.git`\n",
      "\u001b[32m\u001b[1m    Updating\u001b[22m\u001b[39m `C:\\Users\\bergermann\\.julia\\environments\\v1.11\\Project.toml`\n",
      "  \u001b[90m[2528b1d8] \u001b[39m\u001b[93m~ Dragoon v0.5.0 `https://github.com/bergermann/Dragoon.jl.git#main` ⇒ v0.5.0 `https://github.com/bergermann/Dragoon.jl.git#main`\u001b[39m\n",
      "\u001b[32m\u001b[1m    Updating\u001b[22m\u001b[39m `C:\\Users\\bergermann\\.julia\\environments\\v1.11\\Manifest.toml`\n",
      "  \u001b[90m[2528b1d8] \u001b[39m\u001b[93m~ Dragoon v0.5.0 `https://github.com/bergermann/Dragoon.jl.git#main` ⇒ v0.5.0 `https://github.com/bergermann/Dragoon.jl.git#main`\u001b[39m\n",
      "\u001b[92m\u001b[1mPrecompiling\u001b[22m\u001b[39m project...\n",
      "  11021.1 ms\u001b[32m  ✓ \u001b[39mDragoon\n",
      "  1 dependency successfully precompiled in 18 seconds. 267 already precompiled.\n"
     ]
    }
   ],
   "source": [
    "# install if not yet done\n",
    "using Pkg\n",
    "\n",
    "# Pkg.add(url=\"https://github.com/mppmu/BoostFractor.jl.git\")\n",
    "# Pkg.add(url=\"https://github.com/bergermann/Dragoon.jl.git\")\n",
    "Pkg.update()"
   ]
  },
  {
   "cell_type": "code",
   "execution_count": 2,
   "metadata": {},
   "outputs": [],
   "source": [
    "using Dragoon\n",
    "using Plots"
   ]
  },
  {
   "cell_type": "code",
   "execution_count": 3,
   "metadata": {},
   "outputs": [
    {
     "data": {
      "text/plain": [
       "10000-element Vector{State}:\n",
       " State([0.007209715011297336, 0.01541943002259467, 0.023629145033892004, 0.03183886004518934, 0.04004857505648668, 0.04825829006778401, 0.05646800507908135, 0.06467772009037868, 0.07288743510167603, 0.08109715011297336, 0.08930686512427068, 0.097516580135568, 0.10572629514686534, 0.11393601015816267, 0.12214572516946, 0.13035544018075734, 0.13856515519205465, 0.14677487020335206, 0.15498458521464936, 0.1631943002259467], -243.30220712543468, Dates.DateTime(\"0000-01-01T00:00:00\"))\n",
       " State([0.0, 0.0, 0.0, 0.0, 0.0, 0.0, 0.0, 0.0, 0.0, 0.0, 0.0, 0.0, 0.0, 0.0, 0.0, 0.0, 0.0, 0.0, 0.0, 0.0], 0.0, Dates.DateTime(\"0000-01-01T00:00:00\"))\n",
       " State([0.0, 0.0, 0.0, 0.0, 0.0, 0.0, 0.0, 0.0, 0.0, 0.0, 0.0, 0.0, 0.0, 0.0, 0.0, 0.0, 0.0, 0.0, 0.0, 0.0], 0.0, Dates.DateTime(\"0000-01-01T00:00:00\"))\n",
       " State([0.0, 0.0, 0.0, 0.0, 0.0, 0.0, 0.0, 0.0, 0.0, 0.0, 0.0, 0.0, 0.0, 0.0, 0.0, 0.0, 0.0, 0.0, 0.0, 0.0], 0.0, Dates.DateTime(\"0000-01-01T00:00:00\"))\n",
       " State([0.0, 0.0, 0.0, 0.0, 0.0, 0.0, 0.0, 0.0, 0.0, 0.0, 0.0, 0.0, 0.0, 0.0, 0.0, 0.0, 0.0, 0.0, 0.0, 0.0], 0.0, Dates.DateTime(\"0000-01-01T00:00:00\"))\n",
       " State([0.0, 0.0, 0.0, 0.0, 0.0, 0.0, 0.0, 0.0, 0.0, 0.0, 0.0, 0.0, 0.0, 0.0, 0.0, 0.0, 0.0, 0.0, 0.0, 0.0], 0.0, Dates.DateTime(\"0000-01-01T00:00:00\"))\n",
       " State([0.0, 0.0, 0.0, 0.0, 0.0, 0.0, 0.0, 0.0, 0.0, 0.0, 0.0, 0.0, 0.0, 0.0, 0.0, 0.0, 0.0, 0.0, 0.0, 0.0], 0.0, Dates.DateTime(\"0000-01-01T00:00:00\"))\n",
       " State([0.0, 0.0, 0.0, 0.0, 0.0, 0.0, 0.0, 0.0, 0.0, 0.0, 0.0, 0.0, 0.0, 0.0, 0.0, 0.0, 0.0, 0.0, 0.0, 0.0], 0.0, Dates.DateTime(\"0000-01-01T00:00:00\"))\n",
       " State([0.0, 0.0, 0.0, 0.0, 0.0, 0.0, 0.0, 0.0, 0.0, 0.0, 0.0, 0.0, 0.0, 0.0, 0.0, 0.0, 0.0, 0.0, 0.0, 0.0], 0.0, Dates.DateTime(\"0000-01-01T00:00:00\"))\n",
       " State([0.0, 0.0, 0.0, 0.0, 0.0, 0.0, 0.0, 0.0, 0.0, 0.0, 0.0, 0.0, 0.0, 0.0, 0.0, 0.0, 0.0, 0.0, 0.0, 0.0], 0.0, Dates.DateTime(\"0000-01-01T00:00:00\"))\n",
       " ⋮\n",
       " State([0.0, 0.0, 0.0, 0.0, 0.0, 0.0, 0.0, 0.0, 0.0, 0.0, 0.0, 0.0, 0.0, 0.0, 0.0, 0.0, 0.0, 0.0, 0.0, 0.0], 0.0, Dates.DateTime(\"0000-01-01T00:00:00\"))\n",
       " State([0.0, 0.0, 0.0, 0.0, 0.0, 0.0, 0.0, 0.0, 0.0, 0.0, 0.0, 0.0, 0.0, 0.0, 0.0, 0.0, 0.0, 0.0, 0.0, 0.0], 0.0, Dates.DateTime(\"0000-01-01T00:00:00\"))\n",
       " State([0.0, 0.0, 0.0, 0.0, 0.0, 0.0, 0.0, 0.0, 0.0, 0.0, 0.0, 0.0, 0.0, 0.0, 0.0, 0.0, 0.0, 0.0, 0.0, 0.0], 0.0, Dates.DateTime(\"0000-01-01T00:00:00\"))\n",
       " State([0.0, 0.0, 0.0, 0.0, 0.0, 0.0, 0.0, 0.0, 0.0, 0.0, 0.0, 0.0, 0.0, 0.0, 0.0, 0.0, 0.0, 0.0, 0.0, 0.0], 0.0, Dates.DateTime(\"0000-01-01T00:00:00\"))\n",
       " State([0.0, 0.0, 0.0, 0.0, 0.0, 0.0, 0.0, 0.0, 0.0, 0.0, 0.0, 0.0, 0.0, 0.0, 0.0, 0.0, 0.0, 0.0, 0.0, 0.0], 0.0, Dates.DateTime(\"0000-01-01T00:00:00\"))\n",
       " State([0.0, 0.0, 0.0, 0.0, 0.0, 0.0, 0.0, 0.0, 0.0, 0.0, 0.0, 0.0, 0.0, 0.0, 0.0, 0.0, 0.0, 0.0, 0.0, 0.0], 0.0, Dates.DateTime(\"0000-01-01T00:00:00\"))\n",
       " State([0.0, 0.0, 0.0, 0.0, 0.0, 0.0, 0.0, 0.0, 0.0, 0.0, 0.0, 0.0, 0.0, 0.0, 0.0, 0.0, 0.0, 0.0, 0.0, 0.0], 0.0, Dates.DateTime(\"0000-01-01T00:00:00\"))\n",
       " State([0.0, 0.0, 0.0, 0.0, 0.0, 0.0, 0.0, 0.0, 0.0, 0.0, 0.0, 0.0, 0.0, 0.0, 0.0, 0.0, 0.0, 0.0, 0.0, 0.0], 0.0, Dates.DateTime(\"0000-01-01T00:00:00\"))\n",
       " State([0.0, 0.0, 0.0, 0.0, 0.0, 0.0, 0.0, 0.0, 0.0, 0.0, 0.0, 0.0, 0.0, 0.0, 0.0, 0.0, 0.0, 0.0, 0.0, 0.0], 0.0, Dates.DateTime(\"0000-01-01T00:00:00\"))"
      ]
     },
     "metadata": {},
     "output_type": "display_data"
    }
   ],
   "source": [
    "n = 20 # number of discs in the booster\n",
    "\n",
    "initdist = findpeak1d(22.025e9,n) # initial disc configuration\n",
    "\n",
    "freqs = genFreqs(22.025e9,50e6; n=10) # optimize on these frequencies\n",
    "freqsplot = genFreqs(22.025e9,150e6; n=1000) # plot with these frequencies\n",
    "\n",
    "booster = AnalyticalBooster(initdist; ndisk=n)  # physical properties of the booster\n",
    "booster.wavelength = λ(22.025e9)\n",
    "\n",
    "hist = initHist(booster,10000,freqs,ObjAnalytical); # stores measurements\n",
    "#                           ^ length, should be at least n"
   ]
  },
  {
   "attachments": {},
   "cell_type": "markdown",
   "metadata": {},
   "source": [
    "### Optimizer"
   ]
  },
  {
   "cell_type": "code",
   "execution_count": 4,
   "metadata": {},
   "outputs": [
    {
     "data": {
      "text/plain": [
       "2-element Vector{Dragoon.ATrace}:\n",
       " Dragoon.ATrace([0.007209715011297336, 0.015419430022594674, 0.023629145033892004, 0.03183886004518934, 0.04004857505648668, 0.048258290067783746, 0.056468005079081084, 0.06467772009037868, 0.07288743510167603, 0.08109715011297336, 0.08930686512427015, 0.09751658013556748, 0.10572629514686481, 0.11393601015816214, 0.12214572516945947, 0.1303554401807573, 0.1385651551920546, 0.146774870203352, 0.1549845852146493, 0.16319430022594564], -244.0697997657407, [1.1727063483884025e6, 1.3634190861337176e6, 1.409322011630053e6, 1.2951703183412775e6, 1.026623668615244e6, 629815.5210535157, 148121.68779029377, -363436.0650809896, -845388.6943496087, -1.241639820919815e6, -1.5068437502005594e6, -1.6123397423775431e6, -1.5498358199635902e6, -1.3323402436933236e6, -992215.3806644616, -576626.2532661557, -141016.97015212267, 258480.8247690802, 572660.3518025115, 765827.7650518812], Dates.DateTime(\"0000-01-01T00:00:00.610\"), 8.000000000362578e-5)\n",
       " Dragoon.ATrace([0.006465578207796478, 0.014675293216286998, 0.022885008227022184, 0.031094723239791146, 0.03930443825584112, 0.047514153281579825, 0.0557238684143815, 0.0654218568491979, 0.07363157189740768, 0.08184128691758827, 0.09005100193222113, 0.09826071694454025, 0.10647043195524898, 0.11468014696406774, 0.12288986196931069, 0.1310995769635151, 0.13930929184875046, 0.14603073347082346, 0.15424044843217422, 0.1624501634331068], -244.0697997657407, [1.1727063483884025e6, 1.3634190861337176e6, 1.409322011630053e6, 1.2951703183412775e6, 1.026623668615244e6, 629815.5210535157, 148121.68779029377, -363436.0650809896, -845388.6943496087, -1.241639820919815e6, -1.5068437502005594e6, -1.6123397423775431e6, -1.5498358199635902e6, -1.3323402436933236e6, -992215.3806644616, -576626.2532661557, -141016.97015212267, 258480.8247690802, 572660.3518025115, 765827.7650518812], Dates.DateTime(\"0000-01-01T00:00:08.051\"), 0.014962735611155903)"
      ]
     },
     "metadata": {},
     "output_type": "display_data"
    }
   ],
   "source": [
    "Dragoon.adam(booster,hist,freqs,\n",
    "        0.001,0.9,0.999,1e-3,\n",
    "        ObjAnalytical,\n",
    "        Derivator1(1e-6,\"double\"),\n",
    "        UnstuckDont;\n",
    "        ϵgrad=0.0,\n",
    "        maxiter=Int(1e2),\n",
    "        showtrace=false,\n",
    "        showevery=1,\n",
    "        unstuckisiter=true,\n",
    "        resettimer=true,\n",
    "        returntimes=false)"
   ]
  },
  {
   "cell_type": "code",
   "execution_count": null,
   "metadata": {},
   "outputs": [],
   "source": [
    "# obtain result, booster is now in optimized position\n",
    "pos2dist(booster.pos)     #in distance space\n",
    "# booster.pos               #in position space"
   ]
  },
  {
   "cell_type": "code",
   "execution_count": null,
   "metadata": {},
   "outputs": [],
   "source": [
    "typeof(trace)"
   ]
  },
  {
   "cell_type": "code",
   "execution_count": null,
   "metadata": {},
   "outputs": [],
   "source": [
    "# get handy output\n",
    "plt = analyse(booster,hist,trace,freqsplot; freqs=freqs,div=10,ylim=[0,100e3])\n",
    "\n",
    "# savefig(plt[i],\"cool_epic_result_wow.svg\")"
   ]
  },
  {
   "cell_type": "code",
   "execution_count": null,
   "metadata": {},
   "outputs": [],
   "source": [
    "booster.timestamp"
   ]
  },
  {
   "cell_type": "code",
   "execution_count": null,
   "metadata": {},
   "outputs": [],
   "source": [
    "analyse()"
   ]
  }
 ],
 "metadata": {
  "@webio": {
   "lastCommId": null,
   "lastKernelId": null
  },
  "kernelspec": {
   "display_name": "Julia 1.11.1",
   "language": "julia",
   "name": "julia-1.11"
  },
  "language_info": {
   "file_extension": ".jl",
   "mimetype": "application/julia",
   "name": "julia",
   "version": "1.11.1"
  }
 },
 "nbformat": 4,
 "nbformat_minor": 2
}
