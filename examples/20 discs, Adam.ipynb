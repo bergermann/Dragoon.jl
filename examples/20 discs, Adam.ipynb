{
 "cells": [
  {
   "cell_type": "markdown",
   "metadata": {},
   "source": [
    "### Setup"
   ]
  },
  {
   "cell_type": "code",
   "execution_count": 3,
   "metadata": {},
   "outputs": [
    {
     "name": "stderr",
     "output_type": "stream",
     "text": [
      "\u001b[32m\u001b[1m    Updating\u001b[22m\u001b[39m git-repo `https://github.com/mppmu/BoostFractor.jl.git`\n",
      "\u001b[32m\u001b[1m   Resolving\u001b[22m\u001b[39m package versions...\n",
      "\u001b[32m\u001b[1m  No Changes\u001b[22m\u001b[39m to `C:\\Users\\bergermann\\.julia\\environments\\v1.11\\Project.toml`\n",
      "\u001b[32m\u001b[1m  No Changes\u001b[22m\u001b[39m to `C:\\Users\\bergermann\\.julia\\environments\\v1.11\\Manifest.toml`\n",
      "\u001b[32m\u001b[1m    Updating\u001b[22m\u001b[39m git-repo `https://github.com/bergermann/Dragoon.jl.git`\n",
      "\u001b[32m\u001b[1m   Resolving\u001b[22m\u001b[39m package versions...\n",
      "\u001b[32m\u001b[1m   Installed\u001b[22m\u001b[39m Distances ─ v0.10.12\n",
      "\u001b[32m\u001b[1m   Installed\u001b[22m\u001b[39m Hwloc_jll ─ v2.11.2+1\n",
      "\u001b[32m\u001b[1m   Installed\u001b[22m\u001b[39m JLD2 ────── v0.5.8\n",
      "\u001b[32m\u001b[1m    Updating\u001b[22m\u001b[39m `C:\\Users\\bergermann\\.julia\\environments\\v1.11\\Project.toml`\n",
      "  \u001b[90m[2528b1d8] \u001b[39m\u001b[92m+ Dragoon v0.5.0 `https://github.com/bergermann/Dragoon.jl.git#main`\u001b[39m\n",
      "\u001b[32m\u001b[1m    Updating\u001b[22m\u001b[39m `C:\\Users\\bergermann\\.julia\\environments\\v1.11\\Manifest.toml`\n",
      "  \u001b[90m[6e4b80f9] \u001b[39m\u001b[92m+ BenchmarkTools v1.5.0\u001b[39m\n",
      "  \u001b[90m[aaaa29a8] \u001b[39m\u001b[92m+ Clustering v0.15.7\u001b[39m\n",
      "  \u001b[90m[a10d1c49] \u001b[39m\u001b[92m+ DBInterface v2.6.1\u001b[39m\n",
      "  \u001b[90m[b4f34e82] \u001b[39m\u001b[92m+ Distances v0.10.12\u001b[39m\n",
      "  \u001b[90m[2528b1d8] \u001b[39m\u001b[92m+ Dragoon v0.5.0 `https://github.com/bergermann/Dragoon.jl.git#main`\u001b[39m\n",
      "  \u001b[90m[5789e2e9] \u001b[39m\u001b[92m+ FileIO v1.16.4\u001b[39m\n",
      "  \u001b[90m[f67ccb44] \u001b[39m\u001b[92m+ HDF5 v0.17.2\u001b[39m\n",
      "  \u001b[90m[033835bb] \u001b[39m\u001b[92m+ JLD2 v0.5.8\u001b[39m\n",
      "  \u001b[90m[3da0fdf6] \u001b[39m\u001b[92m+ MPIPreferences v0.1.11\u001b[39m\n",
      "  \u001b[90m[b8a86587] \u001b[39m\u001b[92m+ NearestNeighbors v0.4.20\u001b[39m\n",
      "  \u001b[90m[fad6cfc8] \u001b[39m\u001b[92m+ ParallelUtilities v0.8.6\u001b[39m\n",
      "  \u001b[90m[0aa819cd] \u001b[39m\u001b[92m+ SQLite v1.6.1\u001b[39m\n",
      "  \u001b[90m[efcf1570] \u001b[39m\u001b[92m+ Setfield v1.1.1\u001b[39m\n",
      "  \u001b[90m[171d559e] \u001b[39m\u001b[92m+ SplittablesBase v0.1.15\u001b[39m\n",
      "  \u001b[90m[ea10d353] \u001b[39m\u001b[92m+ WeakRefStrings v1.4.2\u001b[39m\n",
      "  \u001b[90m[0234f1f7] \u001b[39m\u001b[92m+ HDF5_jll v1.14.3+3\u001b[39m\n",
      "  \u001b[90m[e33a78d0] \u001b[39m\u001b[92m+ Hwloc_jll v2.11.2+1\u001b[39m\n",
      "  \u001b[90m[7cb0a576] \u001b[39m\u001b[92m+ MPICH_jll v4.2.3+0\u001b[39m\n",
      "  \u001b[90m[f1f71cc9] \u001b[39m\u001b[92m+ MPItrampoline_jll v5.5.1+0\u001b[39m\n",
      "  \u001b[90m[9237b28f] \u001b[39m\u001b[92m+ MicrosoftMPI_jll v10.1.4+2\u001b[39m\n",
      "\u001b[33m⌅\u001b[39m \u001b[90m[fe0851c0] \u001b[39m\u001b[92m+ OpenMPI_jll v4.1.6+0\u001b[39m\n",
      "  \u001b[90m[76ed43ae] \u001b[39m\u001b[92m+ SQLite_jll v3.45.3+0\u001b[39m\n",
      "  \u001b[90m[477f73a3] \u001b[39m\u001b[92m+ libaec_jll v1.1.2+0\u001b[39m\n",
      "  \u001b[90m[9abbd945] \u001b[39m\u001b[92m+ Profile v1.11.0\u001b[39m\n",
      "\u001b[36m\u001b[1m        Info\u001b[22m\u001b[39m Packages marked with \u001b[33m⌅\u001b[39m have new versions available but compatibility constraints restrict them from upgrading. To see why use `status --outdated -m`\n",
      "\u001b[92m\u001b[1mPrecompiling\u001b[22m\u001b[39m project...\n",
      "   3159.6 ms\u001b[32m  ✓ \u001b[39m\u001b[90mDBInterface\u001b[39m\n",
      "   3002.5 ms\u001b[32m  ✓ \u001b[39m\u001b[90mlibaec_jll\u001b[39m\n",
      "   3020.1 ms\u001b[32m  ✓ \u001b[39m\u001b[90mHwloc_jll\u001b[39m\n",
      "   2963.6 ms\u001b[32m  ✓ \u001b[39m\u001b[90mSQLite_jll\u001b[39m\n",
      "   3209.3 ms\u001b[32m  ✓ \u001b[39m\u001b[90mMPIPreferences\u001b[39m\n",
      "   3295.4 ms\u001b[32m  ✓ \u001b[39m\u001b[90mDistances\u001b[39m\n",
      "   2599.8 ms\u001b[32m  ✓ \u001b[39m\u001b[90mMicrosoftMPI_jll\u001b[39m\n",
      "   3244.9 ms\u001b[32m  ✓ \u001b[39m\u001b[90mWeakRefStrings\u001b[39m\n",
      "   1743.2 ms\u001b[32m  ✓ \u001b[39m\u001b[90mDistances → DistancesSparseArraysExt\u001b[39m\n",
      "   2807.8 ms\u001b[32m  ✓ \u001b[39m\u001b[90mSetfield\u001b[39m\n",
      "   6726.1 ms\u001b[32m  ✓ \u001b[39m\u001b[90mFileIO\u001b[39m\n",
      "   3374.9 ms\u001b[32m  ✓ \u001b[39m\u001b[90mMPItrampoline_jll\u001b[39m\n",
      "   3378.5 ms\u001b[32m  ✓ \u001b[39m\u001b[90mOpenMPI_jll\u001b[39m\n",
      "   3458.9 ms\u001b[32m  ✓ \u001b[39m\u001b[90mMPICH_jll\u001b[39m\n",
      "   4725.3 ms\u001b[32m  ✓ \u001b[39m\u001b[90mSQLite\u001b[39m\n",
      "   2311.1 ms\u001b[32m  ✓ \u001b[39m\u001b[90mSplittablesBase\u001b[39m\n",
      "   4314.1 ms\u001b[32m  ✓ \u001b[39m\u001b[90mNearestNeighbors\u001b[39m\n",
      "   3909.0 ms\u001b[32m  ✓ \u001b[39m\u001b[90mHDF5_jll\u001b[39m\n",
      "   2441.6 ms\u001b[32m  ✓ \u001b[39m\u001b[90mParallelUtilities\u001b[39m\n",
      "   4137.4 ms\u001b[32m  ✓ \u001b[39m\u001b[90mClustering\u001b[39m\n",
      "   9570.8 ms\u001b[32m  ✓ \u001b[39mPlots → FileIOExt\n",
      "  10066.0 ms\u001b[32m  ✓ \u001b[39m\u001b[90mHDF5\u001b[39m\n",
      "  33511.1 ms\u001b[32m  ✓ \u001b[39m\u001b[90mJLD2\u001b[39m\n",
      "   7106.3 ms\u001b[32m  ✓ \u001b[39mDragoon\n",
      "  24 dependencies successfully precompiled in 52 seconds. 244 already precompiled.\n",
      "\u001b[32m\u001b[1m    Updating\u001b[22m\u001b[39m registry at `C:\\Users\\bergermann\\.julia\\registries\\General.toml`\n",
      "\u001b[32m\u001b[1m    Updating\u001b[22m\u001b[39m git-repo `https://github.com/mppmu/BoostFractor.jl.git`\n",
      "\u001b[32m\u001b[1m    Updating\u001b[22m\u001b[39m git-repo `https://github.com/bergermann/Dragoon.jl.git`\n",
      "\u001b[32m\u001b[1m  No Changes\u001b[22m\u001b[39m to `C:\\Users\\bergermann\\.julia\\environments\\v1.11\\Project.toml`\n",
      "\u001b[32m\u001b[1m  No Changes\u001b[22m\u001b[39m to `C:\\Users\\bergermann\\.julia\\environments\\v1.11\\Manifest.toml`\n"
     ]
    }
   ],
   "source": [
    "# install if not yet done\n",
    "using Pkg\n",
    "\n",
    "Pkg.add(url=\"https://github.com/mppmu/BoostFractor.jl.git\")\n",
    "Pkg.add(url=\"https://github.com/bergermann/Dragoon.jl.git\")\n",
    "Pkg.update()"
   ]
  },
  {
   "cell_type": "code",
   "execution_count": 4,
   "metadata": {},
   "outputs": [],
   "source": [
    "using Dragoon\n",
    "using Plots"
   ]
  },
  {
   "cell_type": "code",
   "execution_count": 5,
   "metadata": {},
   "outputs": [
    {
     "data": {
      "text/plain": [
       "10000-element Vector{State}:\n",
       " State([0.007209715011297336, 0.01541943002259467, 0.023629145033892004, 0.03183886004518934, 0.04004857505648668, 0.04825829006778401, 0.05646800507908135, 0.06467772009037868, 0.07288743510167603, 0.08109715011297336, 0.08930686512427068, 0.097516580135568, 0.10572629514686534, 0.11393601015816267, 0.12214572516946, 0.13035544018075734, 0.13856515519205465, 0.14677487020335206, 0.15498458521464936, 0.1631943002259467], -243.30220712543468, Dates.DateTime(\"0000-01-01T00:00:00\"))\n",
       " State([0.0, 0.0, 0.0, 0.0, 0.0, 0.0, 0.0, 0.0, 0.0, 0.0, 0.0, 0.0, 0.0, 0.0, 0.0, 0.0, 0.0, 0.0, 0.0, 0.0], 0.0, Dates.DateTime(\"0000-01-01T00:00:00\"))\n",
       " State([0.0, 0.0, 0.0, 0.0, 0.0, 0.0, 0.0, 0.0, 0.0, 0.0, 0.0, 0.0, 0.0, 0.0, 0.0, 0.0, 0.0, 0.0, 0.0, 0.0], 0.0, Dates.DateTime(\"0000-01-01T00:00:00\"))\n",
       " State([0.0, 0.0, 0.0, 0.0, 0.0, 0.0, 0.0, 0.0, 0.0, 0.0, 0.0, 0.0, 0.0, 0.0, 0.0, 0.0, 0.0, 0.0, 0.0, 0.0], 0.0, Dates.DateTime(\"0000-01-01T00:00:00\"))\n",
       " State([0.0, 0.0, 0.0, 0.0, 0.0, 0.0, 0.0, 0.0, 0.0, 0.0, 0.0, 0.0, 0.0, 0.0, 0.0, 0.0, 0.0, 0.0, 0.0, 0.0], 0.0, Dates.DateTime(\"0000-01-01T00:00:00\"))\n",
       " State([0.0, 0.0, 0.0, 0.0, 0.0, 0.0, 0.0, 0.0, 0.0, 0.0, 0.0, 0.0, 0.0, 0.0, 0.0, 0.0, 0.0, 0.0, 0.0, 0.0], 0.0, Dates.DateTime(\"0000-01-01T00:00:00\"))\n",
       " State([0.0, 0.0, 0.0, 0.0, 0.0, 0.0, 0.0, 0.0, 0.0, 0.0, 0.0, 0.0, 0.0, 0.0, 0.0, 0.0, 0.0, 0.0, 0.0, 0.0], 0.0, Dates.DateTime(\"0000-01-01T00:00:00\"))\n",
       " State([0.0, 0.0, 0.0, 0.0, 0.0, 0.0, 0.0, 0.0, 0.0, 0.0, 0.0, 0.0, 0.0, 0.0, 0.0, 0.0, 0.0, 0.0, 0.0, 0.0], 0.0, Dates.DateTime(\"0000-01-01T00:00:00\"))\n",
       " State([0.0, 0.0, 0.0, 0.0, 0.0, 0.0, 0.0, 0.0, 0.0, 0.0, 0.0, 0.0, 0.0, 0.0, 0.0, 0.0, 0.0, 0.0, 0.0, 0.0], 0.0, Dates.DateTime(\"0000-01-01T00:00:00\"))\n",
       " State([0.0, 0.0, 0.0, 0.0, 0.0, 0.0, 0.0, 0.0, 0.0, 0.0, 0.0, 0.0, 0.0, 0.0, 0.0, 0.0, 0.0, 0.0, 0.0, 0.0], 0.0, Dates.DateTime(\"0000-01-01T00:00:00\"))\n",
       " ⋮\n",
       " State([0.0, 0.0, 0.0, 0.0, 0.0, 0.0, 0.0, 0.0, 0.0, 0.0, 0.0, 0.0, 0.0, 0.0, 0.0, 0.0, 0.0, 0.0, 0.0, 0.0], 0.0, Dates.DateTime(\"0000-01-01T00:00:00\"))\n",
       " State([0.0, 0.0, 0.0, 0.0, 0.0, 0.0, 0.0, 0.0, 0.0, 0.0, 0.0, 0.0, 0.0, 0.0, 0.0, 0.0, 0.0, 0.0, 0.0, 0.0], 0.0, Dates.DateTime(\"0000-01-01T00:00:00\"))\n",
       " State([0.0, 0.0, 0.0, 0.0, 0.0, 0.0, 0.0, 0.0, 0.0, 0.0, 0.0, 0.0, 0.0, 0.0, 0.0, 0.0, 0.0, 0.0, 0.0, 0.0], 0.0, Dates.DateTime(\"0000-01-01T00:00:00\"))\n",
       " State([0.0, 0.0, 0.0, 0.0, 0.0, 0.0, 0.0, 0.0, 0.0, 0.0, 0.0, 0.0, 0.0, 0.0, 0.0, 0.0, 0.0, 0.0, 0.0, 0.0], 0.0, Dates.DateTime(\"0000-01-01T00:00:00\"))\n",
       " State([0.0, 0.0, 0.0, 0.0, 0.0, 0.0, 0.0, 0.0, 0.0, 0.0, 0.0, 0.0, 0.0, 0.0, 0.0, 0.0, 0.0, 0.0, 0.0, 0.0], 0.0, Dates.DateTime(\"0000-01-01T00:00:00\"))\n",
       " State([0.0, 0.0, 0.0, 0.0, 0.0, 0.0, 0.0, 0.0, 0.0, 0.0, 0.0, 0.0, 0.0, 0.0, 0.0, 0.0, 0.0, 0.0, 0.0, 0.0], 0.0, Dates.DateTime(\"0000-01-01T00:00:00\"))\n",
       " State([0.0, 0.0, 0.0, 0.0, 0.0, 0.0, 0.0, 0.0, 0.0, 0.0, 0.0, 0.0, 0.0, 0.0, 0.0, 0.0, 0.0, 0.0, 0.0, 0.0], 0.0, Dates.DateTime(\"0000-01-01T00:00:00\"))\n",
       " State([0.0, 0.0, 0.0, 0.0, 0.0, 0.0, 0.0, 0.0, 0.0, 0.0, 0.0, 0.0, 0.0, 0.0, 0.0, 0.0, 0.0, 0.0, 0.0, 0.0], 0.0, Dates.DateTime(\"0000-01-01T00:00:00\"))\n",
       " State([0.0, 0.0, 0.0, 0.0, 0.0, 0.0, 0.0, 0.0, 0.0, 0.0, 0.0, 0.0, 0.0, 0.0, 0.0, 0.0, 0.0, 0.0, 0.0, 0.0], 0.0, Dates.DateTime(\"0000-01-01T00:00:00\"))"
      ]
     },
     "metadata": {},
     "output_type": "display_data"
    }
   ],
   "source": [
    "n = 20 # number of discs in the booster\n",
    "\n",
    "initdist = findpeak1d(22.025e9,n) # initial disc configuration\n",
    "\n",
    "freqs = genFreqs(22.025e9,50e6; n=10) # optimize on these frequencies\n",
    "freqsplot = genFreqs(22.025e9,150e6; n=1000) # plot with these frequencies\n",
    "\n",
    "booster = AnalyticalBooster(initdist; ndisk=n)  # physical properties of the booster\n",
    "booster.wavelength = λ(22.025e9)\n",
    "\n",
    "hist = initHist(booster,10000,freqs,ObjAnalytical); # stores measurements\n",
    "#                           ^ length, should be at least n"
   ]
  },
  {
   "attachments": {},
   "cell_type": "markdown",
   "metadata": {},
   "source": [
    "### Optimizer"
   ]
  },
  {
   "cell_type": "code",
   "execution_count": null,
   "metadata": {},
   "outputs": [],
   "source": [
    "trace = nelderMead(booster,hist,freqs,\n",
    "                    1.,1+2/n,0.75-1/2n,1-1/n,1e-9,\n",
    "                    ObjAnalytical,\n",
    "                    InitSimplexRegular(1e-4),\n",
    "                    DefaultSimplexSampler,\n",
    "                    UnstuckDont;\n",
    "                    maxiter=Int(1e5),\n",
    "                    showtrace=true,\n",
    "                    showevery=100,\n",
    "                    unstuckisiter=true,)"
   ]
  },
  {
   "cell_type": "code",
   "execution_count": null,
   "metadata": {},
   "outputs": [],
   "source": [
    "# obtain result, booster is now in optimized position\n",
    "pos2dist(booster.pos)     #in distance space\n",
    "# booster.pos               #in position space"
   ]
  },
  {
   "cell_type": "code",
   "execution_count": null,
   "metadata": {},
   "outputs": [],
   "source": [
    "typeof(trace)"
   ]
  },
  {
   "cell_type": "code",
   "execution_count": null,
   "metadata": {},
   "outputs": [],
   "source": [
    "# get handy output\n",
    "plt = analyse(booster,hist,trace,freqsplot; freqs=freqs,div=10,ylim=[0,100e3])\n",
    "\n",
    "# savefig(plt[i],\"cool_epic_result_wow.svg\")"
   ]
  },
  {
   "cell_type": "code",
   "execution_count": null,
   "metadata": {},
   "outputs": [],
   "source": [
    "booster.timestamp"
   ]
  },
  {
   "cell_type": "code",
   "execution_count": null,
   "metadata": {},
   "outputs": [],
   "source": [
    "analyse()"
   ]
  }
 ],
 "metadata": {
  "@webio": {
   "lastCommId": null,
   "lastKernelId": null
  },
  "kernelspec": {
   "display_name": "Julia 1.11.1",
   "language": "julia",
   "name": "julia-1.11"
  },
  "language_info": {
   "file_extension": ".jl",
   "mimetype": "application/julia",
   "name": "julia",
   "version": "1.11.1"
  }
 },
 "nbformat": 4,
 "nbformat_minor": 2
}
