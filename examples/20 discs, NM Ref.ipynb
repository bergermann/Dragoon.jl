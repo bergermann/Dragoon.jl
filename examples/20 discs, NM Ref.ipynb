{
 "cells": [
  {
   "cell_type": "code",
   "execution_count": null,
   "metadata": {},
   "outputs": [],
   "source": [
    "# install if not yet done\n",
    "using Pkg\n",
    "\n",
    "Pkg.add(url=\"https://github.com/mppmu/BoostFractor.jl.git\")\n",
    "Pkg.add(url=\"https://github.com/bergermann/Dragoon.jl.git\")\n",
    "# Pkg.update()"
   ]
  },
  {
   "cell_type": "code",
   "execution_count": 1,
   "metadata": {},
   "outputs": [],
   "source": [
    "using Dragoon, Plots #, Dates"
   ]
  },
  {
   "cell_type": "code",
   "execution_count": 2,
   "metadata": {},
   "outputs": [],
   "source": [
    "# reference reflectivities of optimized states. booster will attempt to recreate these\n",
    "\n",
    "ref0 = [\n",
    "      0.6037533702979441 - 0.7971711659699691im,\n",
    "    -0.49152420239804373 - 0.8708639150045079im,\n",
    "     -0.9446107215621984 - 0.3281929077687685im,\n",
    "     -0.9846694945053195 + 0.1744304634822827im,\n",
    "     -0.8136139156426136 + 0.5814055351238824im,\n",
    "     -0.4751750303984411 + 0.8798912946982941im,\n",
    "    0.007749561940184724 + 0.9999699716940137im,\n",
    "      0.5325698378687111 + 0.8463860630896989im,\n",
    "      0.9042152260421181 + 0.4270770714913185im,\n",
    "      0.9965552817110883 - 0.08293111897068542im,\n",
    "];\n",
    "\n",
    "ref1 = [\n",
    "  0.9240607675676515 - 0.38224559885263165im,\n",
    "  0.7380980822551304 - 0.674693427395952im,\n",
    "  0.462948064022487 - 0.8863854071552547im,\n",
    "  0.14786245633322903 - 0.9890079342488161im,\n",
    "  -0.15586000240126052 - 0.9877791553031501im,\n",
    "  -0.41490614421034666 - 0.9098642159665684im,\n",
    "  -0.617404400711767 - 0.7866459216074747im,\n",
    "  -0.7658156811116661 - 0.6430601391498648im,\n",
    "  -0.8687939779605591 - 0.49517373098685186im,\n",
    "  -0.9360561794775265 - 0.3518505774642497im,\n",
    "  -0.9761192037376331 - 0.21723558662114203im,\n",
    "  -0.9956895298891584 - 0.09274890872183986im,\n",
    "  -0.9997664170139217 + 0.02161276037728511im,\n",
    "  -0.9919648735330898 + 0.12651359482877816im,\n",
    "  -0.9748503346892108 + 0.2228605504711954im,\n",
    "  -0.9502174864493367 + 0.3115874330679862im,\n",
    "  -0.9193032370696224 + 0.393549943861387im,\n",
    "  -0.8829429833546631 + 0.46948023189991367im,\n",
    "  -0.8416837189379979 + 0.5399708485415708im,\n",
    "  -0.7958656259972035 + 0.6054732903737947im,\n",
    "  -0.7456820601606868 + 0.6663019324259252im,\n",
    "  -0.6912243153190141 + 0.7226402603728616im,\n",
    "  -0.6325172274726643 + 0.7745462910312649im,\n",
    "  -0.5695479277801538 + 0.8219581242139662im,\n",
    "  -0.5022919227600631 + 0.8646981116725166im,\n",
    "  -0.4307376970992456 + 0.9024771666350553im,\n",
    "  -0.35491058222663224 + 0.9349002506275896im,\n",
    "  -0.2748980884521972 + 0.9614733698679944im,\n",
    "  -0.19087567409544032 + 0.9816142200674294im,\n",
    "  -0.10313357313905225 + 0.9946675153495173im,\n",
    "  -0.012103106793501572 + 0.9999267547205412im,\n",
    "  0.08161873838943179 + 0.9966636250730342im,\n",
    "  0.1772493286384882 + 0.9841659796483582im,\n",
    "  0.27380786206107666 + 0.9617844117439002im,\n",
    "  0.3701142439384575 + 0.9289862466333114im,\n",
    "  0.46480279904208954 + 0.8854142296138187im,\n",
    "  0.5563540269667009 + 0.8309453632327204im,\n",
    "  0.6431457015941184 + 0.7657438256499466im,\n",
    "  0.7235225589439993 + 0.6903007364179202im,\n",
    "  0.7958805407946918 + 0.6054536850861058im,\n",
    "  0.8587587180131229 + 0.512380195008022im,\n",
    "  0.9109293743169278 + 0.4125623286323685im,\n",
    "  0.9514758477257652 + 0.307723432962967im,\n",
    "  0.9798484268083656 + 0.1997424854185147im,\n",
    "  0.9958914606454912 + 0.09055494803379414im,\n",
    "  0.9998389086057622 - 0.017948728033846926im,\n",
    "  0.992280221622198 - 0.12401597388001956im,\n",
    "  0.9741024265108893 - 0.2261071928657065im,\n",
    "  0.946416901645635 - 0.32294743888049116im,\n",
    "  0.9104801519376988 - 0.41355276921755146im,\n",
    "]\n",
    ";"
   ]
  },
  {
   "cell_type": "code",
   "execution_count": 4,
   "metadata": {},
   "outputs": [
    {
     "ename": "UndefVarError",
     "evalue": "UndefVarError: `ObjRef1d` not defined",
     "output_type": "error",
     "traceback": [
      "UndefVarError: `ObjRef1d` not defined\n",
      "\n",
      "Stacktrace:\n",
      " [1] top-level scope\n",
      "   @ \\\\inst3\\data\\Benutzer\\bergermann\\Desktop\\Julia Files\\Dragoon.jl\\examples\\20 discs, NM Ref.ipynb:10"
     ]
    }
   ],
   "source": [
    "n = 20 # number of discs in the booster\n",
    "\n",
    "initdist = findpeak1d(22.025e9,n) # initial disc configuration\n",
    "\n",
    "freqs = genFreqs(22.025e9,50e6; n=length(ref1)) # optimize on these frequencies\n",
    "freqsplot = genFreqs(22.025e9,150e6; n=1000) # plot with these frequencies\n",
    "\n",
    "booster = AnalyticalBooster(initdist; ndisk=n)  # physical properties of the booster\n",
    "\n",
    "hist = initHist(booster,10000,freqs,ObjRef1d(ref1,x->x^2)); # stores measurements\n",
    "#                         ^ length, should be at least n"
   ]
  },
  {
   "cell_type": "code",
   "execution_count": null,
   "metadata": {},
   "outputs": [],
   "source": [
    "trace = nelderMead(booster,hist,freqs,\n",
    "                    1.,1+2/n,0.75-1/2n,1-1/n,1e-9,\n",
    "                    ObjRef1d(ref1,x->x^2),\n",
    "                    InitSimplexRegular(1e-4),\n",
    "                    DefaultSimplexSampler,\n",
    "                    UnstuckDont;\n",
    "                    maxiter=Int(1e3),\n",
    "                    showtrace=true,\n",
    "                    showevery=100,\n",
    "                    unstuckisiter=true)"
   ]
  },
  {
   "cell_type": "code",
   "execution_count": null,
   "metadata": {},
   "outputs": [],
   "source": [
    "plot(freqsplot,getBoost1d(booster,freqsplot))"
   ]
  },
  {
   "cell_type": "code",
   "execution_count": null,
   "metadata": {},
   "outputs": [],
   "source": [
    "plot(freqs,real(Dragoon.getRef1d(booster,freqs)))\n",
    "plot!(freqs,imag(Dragoon.getRef1d(booster,freqs)))"
   ]
  },
  {
   "cell_type": "code",
   "execution_count": null,
   "metadata": {},
   "outputs": [],
   "source": [
    "plot(freqs,real(ref1))\n",
    "plot!(freqs,imag(ref1))"
   ]
  },
  {
   "cell_type": "code",
   "execution_count": null,
   "metadata": {},
   "outputs": [],
   "source": [
    "scatter(pos2dist(booster.pos))"
   ]
  },
  {
   "cell_type": "code",
   "execution_count": null,
   "metadata": {},
   "outputs": [],
   "source": [
    "analyse(hist,trace,freqsplot; freqs=freqs,div=20,scale=1e9,ylim=[-0.05e4,3e4])"
   ]
  }
 ],
 "metadata": {
  "kernelspec": {
   "display_name": "Julia 1.9.0",
   "language": "julia",
   "name": "julia-1.9"
  },
  "language_info": {
   "file_extension": ".jl",
   "mimetype": "application/julia",
   "name": "julia",
   "version": "1.9.0"
  },
  "orig_nbformat": 4
 },
 "nbformat": 4,
 "nbformat_minor": 2
}
