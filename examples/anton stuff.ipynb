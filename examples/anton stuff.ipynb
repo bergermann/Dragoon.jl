{
 "cells": [
  {
   "cell_type": "markdown",
   "metadata": {},
   "source": [
    "### Setup"
   ]
  },
  {
   "cell_type": "code",
   "execution_count": null,
   "metadata": {},
   "outputs": [],
   "source": [
    "using Pkg\n",
    "\n",
    "# Pkg.add(url=\"https://github.com/mppmu/BoostFractor.jl.git\")\n",
    "# Pkg.add(url=\"https://github.com/bergermann/Dragoon.jl.git\")\n",
    "Pkg.update()"
   ]
  },
  {
   "cell_type": "code",
   "execution_count": 3,
   "metadata": {},
   "outputs": [],
   "source": [
    "using Dragoon\n",
    "using Plots\n",
    "# using Dates"
   ]
  },
  {
   "cell_type": "code",
   "execution_count": 8,
   "metadata": {},
   "outputs": [
    {
     "ename": "MethodError",
     "evalue": "MethodError: Cannot `convert` an object of type Int64 to an object of type Dates.DateTime\n\nClosest candidates are:\n  convert(::Type{<:Union{Dates.Date, Dates.DateTime}}, !Matched::Union{DateFormats.JD, DateFormats.MJD, DateFormats.UnixTime, DateFormats.YearDecimal})\n   @ DateFormats C:\\Users\\domin\\.julia\\packages\\DateFormats\\QkECK\\src\\DateFormats.jl:45\n  convert(::Type{Dates.DateTime}, !Matched::Dates.Date)\n   @ Dates C:\\Users\\domin\\AppData\\Local\\Programs\\Julia-1.9.4\\share\\julia\\stdlib\\v1.9\\Dates\\src\\conversions.jl:30\n  convert(::Type{Dates.DateTime}, !Matched::Dates.Millisecond)\n   @ Dates C:\\Users\\domin\\AppData\\Local\\Programs\\Julia-1.9.4\\share\\julia\\stdlib\\v1.9\\Dates\\src\\conversions.jl:34\n  ...\n",
     "output_type": "error",
     "traceback": [
      "MethodError: Cannot `convert` an object of type Int64 to an object of type Dates.DateTime\n",
      "\n",
      "Closest candidates are:\n",
      "  convert(::Type{<:Union{Dates.Date, Dates.DateTime}}, !Matched::Union{DateFormats.JD, DateFormats.MJD, DateFormats.UnixTime, DateFormats.YearDecimal})\n",
      "   @ DateFormats C:\\Users\\domin\\.julia\\packages\\DateFormats\\QkECK\\src\\DateFormats.jl:45\n",
      "  convert(::Type{Dates.DateTime}, !Matched::Dates.Date)\n",
      "   @ Dates C:\\Users\\domin\\AppData\\Local\\Programs\\Julia-1.9.4\\share\\julia\\stdlib\\v1.9\\Dates\\src\\conversions.jl:30\n",
      "  convert(::Type{Dates.DateTime}, !Matched::Dates.Millisecond)\n",
      "   @ Dates C:\\Users\\domin\\AppData\\Local\\Programs\\Julia-1.9.4\\share\\julia\\stdlib\\v1.9\\Dates\\src\\conversions.jl:34\n",
      "  ...\n",
      "\n",
      "\n",
      "Stacktrace:\n",
      " [1] AnalyticalBooster(pos::Vector{Float64}, ndisk::Int64, epsilon::Float64, tand::Float64, thickness::Float64, R::Float64, vmotor::Float64, maxlength::Int64, timestamp::Int64, codetimestamp::Int64, summeddistance::Int64)\n",
      "   @ Dragoon c:\\Users\\domin\\OneDrive\\Desktop\\Julia Files\\Dragoon.jl\\src\\types.jl:66\n",
      " [2] top-level scope\n",
      "   @ c:\\Users\\domin\\OneDrive\\Desktop\\Julia Files\\Dragoon.jl\\examples\\anton stuff.ipynb:14"
     ]
    }
   ],
   "source": [
    "d0 = [\n",
    "    0.008378903804735749,\n",
    "    0.012253233150736646,\n",
    "    0.012524097205944074,\n",
    "    0.013025845048859902,\n",
    "    0.009806586762534202,\n",
    "]\n",
    "\n",
    "p0 = dist2pos(d0)\n",
    "\n",
    "freqs = genFreqs(22.025e9,50e6; n=100) # optimize on these frequencies\n",
    "freqsplot = genFreqs(22.025e9,150e6; n=1000) # plot with these frequencies\n",
    "\n",
    "booster = AnalyticalBooster(p0,length(p0),9.35,3e-5,1e-3,0.1,1e-3,2,\n",
    "    DateTime(0),DateTime(0),0)  # physical properties of the booster\n",
    "\n",
    "hist = initHist(booster,10000,freqs,ObjAnalytical); # stores measurements"
   ]
  },
  {
   "cell_type": "markdown",
   "metadata": {},
   "source": [
    "### Optimizer"
   ]
  },
  {
   "cell_type": "code",
   "execution_count": null,
   "metadata": {},
   "outputs": [],
   "source": [
    "trace = linesearch(booster,hist,freqs,booster.vmotor*1e-3,\n",
    "                    ObjAnalytical,\n",
    "                    SolverNewton(\"inv\"),\n",
    "                    Derivator2(1e-5,1e-6,\"double\"),\n",
    "                    StepNorm(\"unit\"),\n",
    "                    SearchExtendedSteps(2000),\n",
    "                    UnstuckDont;\n",
    "                    ϵgrad=0.,maxiter=Int(1e2),showtrace=true);"
   ]
  },
  {
   "cell_type": "code",
   "execution_count": null,
   "metadata": {},
   "outputs": [],
   "source": [
    "#obtain result, booster is now in optimized position\n",
    "#pos2dist(booster.pos)     #in distance space\n",
    "booster.pos               #in position space"
   ]
  },
  {
   "cell_type": "code",
   "execution_count": null,
   "metadata": {},
   "outputs": [],
   "source": [
    "#get handy output\n",
    "plt = analyse(hist,trace,freqsplot; freqs=freqs,div=10)\n",
    "\n",
    "#savefig(plt[i],\"cool_epic_result_wow.svg\")"
   ]
  },
  {
   "cell_type": "code",
   "execution_count": null,
   "metadata": {},
   "outputs": [],
   "source": []
  }
 ],
 "metadata": {
  "@webio": {
   "lastCommId": null,
   "lastKernelId": null
  },
  "kernelspec": {
   "display_name": "Julia 1.9.4",
   "language": "julia",
   "name": "julia-1.9"
  },
  "language_info": {
   "file_extension": ".jl",
   "mimetype": "application/julia",
   "name": "julia",
   "version": "1.9.4"
  }
 },
 "nbformat": 4,
 "nbformat_minor": 2
}
