{
 "cells": [
  {
   "cell_type": "markdown",
   "metadata": {},
   "source": [
    "### Setup"
   ]
  },
  {
   "cell_type": "code",
   "execution_count": 1,
   "metadata": {},
   "outputs": [
    {
     "name": "stderr",
     "output_type": "stream",
     "text": [
      "\u001b[32m\u001b[1m    Updating\u001b[22m\u001b[39m registry at `C:\\Users\\domin\\.julia\\registries\\General`\n",
      "\u001b[32m\u001b[1m    Updating\u001b[22m\u001b[39m git-repo `https://github.com/JuliaRegistries/General.git`\n",
      "\u001b[32m\u001b[1m    Updating\u001b[22m\u001b[39m git-repo `https://github.com/mppmu/BoostFractor.jl.git`\n",
      "\u001b[32m\u001b[1m  No Changes\u001b[22m\u001b[39m to `C:\\Users\\domin\\OneDrive\\Desktop\\Julia Files\\Dragoon.jl\\Project.toml`\n",
      "\u001b[32m\u001b[1m  No Changes\u001b[22m\u001b[39m to `C:\\Users\\domin\\OneDrive\\Desktop\\Julia Files\\Dragoon.jl\\Manifest.toml`\n",
      "\u001b[32m\u001b[1mPrecompiling\u001b[22m\u001b[39m project...\n",
      "\u001b[32m  ✓ \u001b[39mDragoon\n",
      "  1 dependency successfully precompiled in 4 seconds. 196 already precompiled.\n",
      "  \u001b[33m1\u001b[39m dependency had output during precompilation:\u001b[33m\n",
      "┌ \u001b[39mDragoon [2528b1d8-4502-48e3-b632-a5c1e1215533]\u001b[33m\n",
      "│  \u001b[39mWARNING: Method definition (::Type{Dragoon.AnalyticalBooster})(Any) in module Dragoon at c:\\Users\\domin\\OneDrive\\Desktop\\Julia Files\\Dragoon.jl\\src\\types.jl:60 overwritten at c:\\Users\\domin\\OneDrive\\Desktop\\Julia Files\\Dragoon.jl\\src\\types.jl:66.\u001b[33m\n",
      "│  \u001b[39m  ** incremental compilation may be fatally broken for this module **\u001b[33m\n",
      "│  \u001b[39m\u001b[33m\n",
      "│  \u001b[39mWARNING: Method definition kwcall(Any, Type{Dragoon.AnalyticalBooster}, Any) in module Dragoon at c:\\Users\\domin\\OneDrive\\Desktop\\Julia Files\\Dragoon.jl\\src\\types.jl:60 overwritten at c:\\Users\\domin\\OneDrive\\Desktop\\Julia Files\\Dragoon.jl\\src\\types.jl:66.\u001b[33m\n",
      "│  \u001b[39m  ** incremental compilation may be fatally broken for this module **\u001b[33m\n",
      "└  \u001b[39m\n"
     ]
    }
   ],
   "source": [
    "using Pkg\n",
    "\n",
    "# Pkg.add(url=\"https://github.com/mppmu/BoostFractor.jl.git\")\n",
    "# Pkg.add(url=\"https://github.com/bergermann/Dragoon.jl.git\")\n",
    "Pkg.update()"
   ]
  },
  {
   "cell_type": "code",
   "execution_count": 2,
   "metadata": {},
   "outputs": [],
   "source": [
    "using Dragoon\n",
    "using Plots\n",
    "# using Dates"
   ]
  },
  {
   "cell_type": "code",
   "execution_count": 3,
   "metadata": {},
   "outputs": [],
   "source": [
    "d0 = [\n",
    "    0.008378903804735749,\n",
    "    0.012253233150736646,\n",
    "    0.012524097205944074,\n",
    "    0.013025845048859902,\n",
    "    0.009806586762534202,\n",
    "]\n",
    "\n",
    "p0 = dist2pos(d0)\n",
    "\n",
    "freqs = genFreqs(22.025e9,50e6; n=100) # optimize on these frequencies\n",
    "freqsplot = genFreqs(22.025e9,150e6; n=1000) # plot with these frequencies\n",
    "\n",
    "booster = AnalyticalBooster(p0; ϵ=9.35,tand=3e-5,R=0.1)  # physical properties of the booster\n",
    "\n",
    "hist = initHist(booster,10000,freqs,ObjAnalytical); # stores measurements"
   ]
  },
  {
   "cell_type": "code",
   "execution_count": null,
   "metadata": {},
   "outputs": [],
   "source": [
    "plot(freqsplot/1e9,boost1d())"
   ]
  },
  {
   "cell_type": "markdown",
   "metadata": {},
   "source": [
    "### Optimizer"
   ]
  },
  {
   "cell_type": "code",
   "execution_count": null,
   "metadata": {},
   "outputs": [],
   "source": [
    "trace = linesearch(booster,hist,freqs,booster.vmotor*1e-3,\n",
    "                    ObjAnalytical,\n",
    "                    SolverNewton(\"inv\"),\n",
    "                    Derivator2(1e-5,1e-6,\"double\"),\n",
    "                    StepNorm(\"unit\"),\n",
    "                    SearchExtendedSteps(2000),\n",
    "                    UnstuckDont;\n",
    "                    ϵgrad=0.,maxiter=Int(1e2),showtrace=true);"
   ]
  },
  {
   "cell_type": "code",
   "execution_count": null,
   "metadata": {},
   "outputs": [],
   "source": [
    "#obtain result, booster is now in optimized position\n",
    "#pos2dist(booster.pos)     #in distance space\n",
    "booster.pos               #in position space"
   ]
  },
  {
   "cell_type": "code",
   "execution_count": null,
   "metadata": {},
   "outputs": [],
   "source": [
    "#get handy output\n",
    "plt = analyse(hist,trace,freqsplot; freqs=freqs,div=10)\n",
    "\n",
    "#savefig(plt[i],\"cool_epic_result_wow.svg\")"
   ]
  },
  {
   "cell_type": "code",
   "execution_count": null,
   "metadata": {},
   "outputs": [],
   "source": []
  }
 ],
 "metadata": {
  "@webio": {
   "lastCommId": null,
   "lastKernelId": null
  },
  "kernelspec": {
   "display_name": "Julia 1.9.4",
   "language": "julia",
   "name": "julia-1.9"
  },
  "language_info": {
   "file_extension": ".jl",
   "mimetype": "application/julia",
   "name": "julia",
   "version": "1.9.4"
  }
 },
 "nbformat": 4,
 "nbformat_minor": 2
}
