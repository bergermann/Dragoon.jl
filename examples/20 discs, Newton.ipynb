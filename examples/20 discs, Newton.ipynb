{
 "cells": [
  {
   "cell_type": "markdown",
   "metadata": {},
   "source": [
    "### Setup"
   ]
  },
  {
   "cell_type": "code",
   "execution_count": 1,
   "metadata": {},
   "outputs": [
    {
     "name": "stderr",
     "output_type": "stream",
     "text": [
      "\u001b[32m\u001b[1m    Updating\u001b[22m\u001b[39m git-repo `https://github.com/mppmu/BoostFractor.jl.git`\n"
     ]
    },
    {
     "name": "stderr",
     "output_type": "stream",
     "text": [
      "\u001b[32m\u001b[1m   Resolving\u001b[22m\u001b[39m package versions..."
     ]
    },
    {
     "name": "stderr",
     "output_type": "stream",
     "text": [
      "\n",
      "\u001b[32m\u001b[1m  No Changes\u001b[22m\u001b[39m to `C:\\Users\\domin\\.julia\\environments\\v1.9\\Project.toml`\n",
      "\u001b[32m\u001b[1m  No Changes\u001b[22m\u001b[39m to `C:\\Users\\domin\\.julia\\environments\\v1.9\\Manifest.toml`\n"
     ]
    },
    {
     "name": "stderr",
     "output_type": "stream",
     "text": [
      "\u001b[32m\u001b[1m    Updating\u001b[22m\u001b[39m git-repo `https://github.com/bergermann/Dragoon.jl.git`\n"
     ]
    },
    {
     "name": "stderr",
     "output_type": "stream",
     "text": [
      "\u001b[32m\u001b[1m   Resolving\u001b[22m\u001b[39m package versions...\n"
     ]
    },
    {
     "name": "stderr",
     "output_type": "stream",
     "text": [
      "\u001b[32m\u001b[1m    Updating\u001b[22m\u001b[39m `C:\\Users\\domin\\.julia\\environments\\v1.9\\Project.toml`\n",
      "  \u001b[90m[2528b1d8] \u001b[39m\u001b[93m~ Dragoon v0.0.0 `https://github.com/bergermann/Dragoon.jl.git#main` ⇒ v0.0.0 `https://github.com/bergermann/Dragoon.jl.git#main`\u001b[39m\n",
      "\u001b[32m\u001b[1m    Updating\u001b[22m\u001b[39m `C:\\Users\\domin\\.julia\\environments\\v1.9\\Manifest.toml`\n",
      "  \u001b[90m[2528b1d8] \u001b[39m\u001b[93m~ Dragoon v0.0.0 `https://github.com/bergermann/Dragoon.jl.git#main` ⇒ v0.0.0 `https://github.com/bergermann/Dragoon.jl.git#main`\u001b[39m"
     ]
    },
    {
     "name": "stderr",
     "output_type": "stream",
     "text": [
      "\n"
     ]
    },
    {
     "name": "stderr",
     "output_type": "stream",
     "text": [
      "\u001b[32m\u001b[1mPrecompiling\u001b[22m\u001b[39m project...\n"
     ]
    },
    {
     "name": "stderr",
     "output_type": "stream",
     "text": [
      "\u001b[32m  ✓ \u001b[39mDragoon\n",
      "  1 dependency successfully precompiled in 3 seconds. 152 already precompiled.\n"
     ]
    },
    {
     "name": "stderr",
     "output_type": "stream",
     "text": [
      "\u001b[32m\u001b[1m    Updating\u001b[22m\u001b[39m registry at `C:\\Users\\domin\\.julia\\registries\\General.toml`\n",
      "\u001b[32m\u001b[1m    Updating\u001b[22m\u001b[39m git-repo `https://github.com/mppmu/BoostFractor.jl.git`\n"
     ]
    },
    {
     "name": "stderr",
     "output_type": "stream",
     "text": [
      "\u001b[32m\u001b[1m    Updating\u001b[22m\u001b[39m git-repo `https://github.com/bergermann/Dragoon.jl.git`\n"
     ]
    },
    {
     "name": "stderr",
     "output_type": "stream",
     "text": [
      "\u001b[32m\u001b[1m  No Changes\u001b[22m\u001b[39m to `C:\\Users\\domin\\.julia\\environments\\v1.9\\Project.toml`\n",
      "\u001b[32m\u001b[1m  No Changes\u001b[22m\u001b[39m to `C:\\Users\\domin\\.julia\\environments\\v1.9\\Manifest.toml`\n"
     ]
    }
   ],
   "source": [
    "using Pkg\n",
    "\n",
    "Pkg.add(url=\"https://github.com/mppmu/BoostFractor.jl.git\")\n",
    "Pkg.add(url=\"https://github.com/bergermann/Dragoon.jl.git\")\n",
    "Pkg.update()"
   ]
  },
  {
   "cell_type": "code",
   "execution_count": 2,
   "metadata": {},
   "outputs": [],
   "source": [
    "using Dragoon"
   ]
  },
  {
   "cell_type": "code",
   "execution_count": 15,
   "metadata": {},
   "outputs": [
    {
     "name": "stdout",
     "output_type": "stream",
     "text": [
      "Objective Value: -243.3, Timestamp: 2023-06-18T22:30:44.745\n"
     ]
    }
   ],
   "source": [
    "#number of discs in the booster\n",
    "n = 20\n",
    "\n",
    "#initial disc configuration\n",
    "#findpeak tries to find an equidistant configuration with a peak at f\n",
    "initdist = findpeak(22.025e9,n)\n",
    "\n",
    "#generate frequencies for calculation and for plotting\n",
    "freqs = genFreqs(22.025e9,50e6; length=10) #optimize on these frequencies\n",
    "freqsplot = genFreqs(22.025e9,150e6; length=1000)\n",
    "\n",
    "#initialize physical properties of the booster\n",
    "booster = AnalyticalBooster(initdist)\n",
    "#=\n",
    "Booster(\n",
    "    pos,              disc positions\n",
    "    ndisk,            disc number\n",
    "    thickness,        disc thickness\n",
    "    epsilon,          disc epsilon\n",
    "    vmotor,           motor speed\n",
    "    maxlength,        maximum allowed booster length (not implemented yet)\n",
    "    timestamp,        booster operation time\n",
    "    summedtraveltime, summed motor operation time\n",
    "    codetimestamp     code runtime\n",
    ")\n",
    "=#\n",
    "\n",
    "#initialize storage of measurements\n",
    "hist = initHist(booster,10000,freqs,ObjAnalytical)\n",
    "#                           ^ length, should be at least the larger of (n^2, search steps)\n",
    ";"
   ]
  },
  {
   "cell_type": "code",
   "execution_count": 16,
   "metadata": {},
   "outputs": [
    {
     "data": {
      "text/plain": [
       "20×20 Matrix{Float64}:\n",
       " -1.13652e13  -5.17149e9   -6.66812e9   …  -1.53564e9   -3.26113e9\n",
       " -5.17149e9   -4.10286e12  -7.60794e9      -1.87565e9   -3.82256e9\n",
       " -6.66812e9   -7.60794e9   -4.24792e12     -2.05048e9   -3.99158e9\n",
       " -7.43909e9   -8.44713e9   -8.48817e9      -2.01767e9   -3.71884e9\n",
       " -7.35717e9   -8.31262e9   -8.30117e9      -1.76081e9   -3.0116e9\n",
       " -6.40487e9   -7.18964e9   -7.12067e9   …  -1.29232e9   -1.93355e9\n",
       " -4.6775e9    -5.19181e9   -5.06757e9      -6.52286e8   -5.97445e8\n",
       " -2.3722e9    -2.54791e9   -2.37794e9       9.60997e7    8.48651e8\n",
       "  2.3615e8     4.2614e8     6.2603e8        8.74156e8    2.23993e9\n",
       "  2.82979e9    3.36746e9    3.57706e9       1.59736e9    3.41603e9\n",
       "  5.08978e9    5.91385e9    6.11113e9   …   2.18599e9    4.24218e9\n",
       "  6.73923e9    7.75299e9    7.91695e9       2.5754e9     4.62737e9\n",
       "  7.58193e9    8.66594e9    8.7794e9        2.72461e9    4.53673e9\n",
       "  7.53004e9    8.55816e9    8.6099e9        2.62189e9    3.99624e9\n",
       "  6.61633e9    7.47258e9    7.45878e9       2.28637e9    3.08869e9\n",
       "  4.98849e9    5.5824e9     5.50697e9   …   1.76534e9    1.94159e9\n",
       "  2.88667e9    3.16486e9    3.03877e9       1.12752e9    7.08891e8\n",
       "  6.08045e8    5.60457e8    4.00146e8       4.53321e8   -4.50733e8\n",
       " -1.53564e9   -1.87565e9   -2.05048e9      -1.70801e12  -1.39552e9\n",
       " -3.26113e9   -3.82256e9   -3.99158e9      -1.39552e9   -2.28868e12"
      ]
     },
     "metadata": {},
     "output_type": "display_data"
    },
    {
     "name": "stdout",
     "output_type": "stream",
     "text": [
      "[(1, 1.0e-5)]"
     ]
    },
    {
     "name": "stdout",
     "output_type": "stream",
     "text": [
      "\n"
     ]
    }
   ],
   "source": [
    "p = zeros(booster.ndisk)\n",
    "g = zeros(booster.ndisk)\n",
    "h = zeros(booster.ndisk,booster.ndisk)\n",
    "\n",
    "updateHist!(booster,hist,freqs,ObjAnalytical)\n",
    "\n",
    "deriv = Derivator2(1e-5,1e-6,\"double\")\n",
    "\n",
    "deriv.func(g,h,booster,hist,freqs,ObjAnalytical,deriv.args)\n",
    "\n",
    "display(h)"
   ]
  },
  {
   "cell_type": "code",
   "execution_count": 18,
   "metadata": {},
   "outputs": [
    {
     "data": {
      "text/plain": [
       "20×20 Matrix{Float64}:\n",
       " -8.79879e-14   1.10579e-16   1.37861e-16  …   7.95343e-17   1.25626e-16\n",
       "  1.10579e-16  -2.43734e-13   4.36189e-16      2.69294e-16   4.08347e-16\n",
       "  1.37861e-16   4.36189e-16  -2.35411e-13      2.84225e-16   4.11818e-16\n",
       "  1.66828e-16   5.2531e-16    5.09787e-16      3.02947e-16   4.15747e-16\n",
       "  2.06603e-16   6.47304e-16   6.24251e-16      3.30501e-16   4.20994e-16\n",
       "  2.87746e-16   8.95631e-16   8.56573e-16  …   3.86926e-16   4.3103e-16\n",
       "  7.89665e-16   2.43007e-15   2.29007e-15      7.26765e-16   4.89708e-16\n",
       " -2.01459e-16  -5.99379e-16  -5.39375e-16      6.52479e-17   3.75998e-16\n",
       "  1.0343e-17    4.81312e-17   6.55383e-17      2.12422e-16   4.01497e-16\n",
       "  6.89461e-17   2.27299e-16   2.32933e-16      2.58225e-16   4.09698e-16\n",
       "  1.0046e-16    3.23603e-16   3.22856e-16  …   2.87888e-16   4.15396e-16\n",
       "  1.23262e-16   3.93199e-16   3.87732e-16      3.1473e-16    4.21036e-16\n",
       "  1.43524e-16   4.54902e-16   4.45078e-16      3.44747e-16   4.27863e-16\n",
       "  1.65265e-16   5.20884e-16   5.06116e-16      3.84645e-16   4.37429e-16\n",
       "  1.94531e-16   6.09298e-16   5.87397e-16      4.49254e-16   4.53309e-16\n",
       "  2.51635e-16   7.8093e-16    7.44064e-16  …   5.94884e-16   4.8927e-16\n",
       "  5.86298e-16   1.78248e-15   1.65278e-15      1.52914e-15   7.19094e-16\n",
       " -6.84031e-17  -1.74104e-16  -1.18923e-16     -3.42698e-16   2.5947e-16\n",
       "  7.95343e-17   2.69294e-16   2.84225e-16     -5.85474e-13   3.59283e-16\n",
       "  1.25626e-16   4.08347e-16   4.11818e-16      3.59283e-16  -4.36931e-13"
      ]
     },
     "metadata": {},
     "output_type": "display_data"
    }
   ],
   "source": [
    "import LinearAlgebra: cholesky\n",
    "inv(h)"
   ]
  },
  {
   "cell_type": "markdown",
   "metadata": {},
   "source": [
    "### Optimizer"
   ]
  },
  {
   "cell_type": "code",
   "execution_count": null,
   "metadata": {},
   "outputs": [],
   "source": [
    "#=\n",
    "how to use\n",
    "\n",
    "linesearch(                     directly modifies booster.pos\n",
    "    booster,                    \n",
    "    hist,                       \n",
    "    freqs,                      frequency range to optimize on\n",
    "    α,                          base step length e.g. motorspeed*measurementfrequency\n",
    "    (objective,[options]),      objective function\n",
    "    (solver,[options]),         provides step direction p\n",
    "    (derivative,[options]),     provides derivatives for use by solver\n",
    "    (step,[options]),           calculates steplength\n",
    "    (search,[options]),         search mode\n",
    "    (unstuckinator,[options]);  tries to unstuck system from bad local minima\n",
    "    ϵgrad=0,                    terminate if norm(gradient) falls below this value,\n",
    "    maxiter=100,                maximum allowed iterations,\n",
    "    showtrace=false,            wether to print progress,\n",
    "    showevery=1,                only print every i iterations,\n",
    "    unstuckisiter=true          wether an unstucking iteration counts towards maxiter\n",
    "                                    warning! can run endlessly if false\n",
    ")\n",
    "\n",
    "returns trace, access with\n",
    "trace[iteration].x      disc position\n",
    "                .obj    objective value\n",
    "                .g      gradient\n",
    "                .h      hessian\n",
    "                .t      timestamp\n",
    "                .T      summed travel time\n",
    "=#"
   ]
  },
  {
   "cell_type": "code",
   "execution_count": 10,
   "metadata": {},
   "outputs": [
    {
     "data": {
      "text/plain": [
       "20-element Vector{Float64}:\n",
       "       1.172259922511597e6\n",
       "       1.3621222594415839e6\n",
       "       1.4067977735977848e6\n",
       "       1.2913148034140249e6\n",
       "       1.0219178004336256e6\n",
       "  625438.7503142765\n",
       "  145594.43266451807\n",
       " -363011.54934549937\n",
       " -842014.6635360054\n",
       "      -1.236510959426141e6\n",
       "      -1.5017226790724648e6\n",
       "      -1.6086437626539718e6\n",
       "      -1.5480509099341857e6\n",
       "      -1.3320708223026115e6\n",
       " -992674.7903975367\n",
       " -577126.6084924107\n",
       " -141184.30231015678\n",
       "  258717.45742559395\n",
       "  573129.2113975214\n",
       "  766175.3401058959"
      ]
     },
     "metadata": {},
     "output_type": "display_data"
    },
    {
     "data": {
      "text/plain": [
       "20×20 Matrix{Float64}:\n",
       " -1.13652e13  -5.17149e9   -6.66812e9   …  -1.53564e9   -3.26113e9\n",
       " -5.17149e9   -4.10286e12  -7.60794e9      -1.87565e9   -3.82256e9\n",
       " -6.66812e9   -7.60794e9   -4.24792e12     -2.05048e9   -3.99158e9\n",
       " -7.43909e9   -8.44713e9   -8.48817e9      -2.01767e9   -3.71884e9\n",
       " -7.35717e9   -8.31262e9   -8.30117e9      -1.76081e9   -3.0116e9\n",
       " -6.40487e9   -7.18964e9   -7.12067e9   …  -1.29232e9   -1.93355e9\n",
       " -4.6775e9    -5.19181e9   -5.06757e9      -6.52286e8   -5.97445e8\n",
       " -2.3722e9    -2.54791e9   -2.37794e9       9.60997e7    8.48651e8\n",
       "  2.3615e8     4.2614e8     6.2603e8        8.74156e8    2.23993e9\n",
       "  2.82979e9    3.36746e9    3.57706e9       1.59736e9    3.41603e9\n",
       "  5.08978e9    5.91385e9    6.11113e9   …   2.18599e9    4.24218e9\n",
       "  6.73923e9    7.75299e9    7.91695e9       2.5754e9     4.62737e9\n",
       "  7.58193e9    8.66594e9    8.7794e9        2.72461e9    4.53673e9\n",
       "  7.53004e9    8.55816e9    8.6099e9        2.62189e9    3.99624e9\n",
       "  6.61633e9    7.47258e9    7.45878e9       2.28637e9    3.08869e9\n",
       "  4.98849e9    5.5824e9     5.50697e9   …   1.76534e9    1.94159e9\n",
       "  2.88667e9    3.16486e9    3.03877e9       1.12752e9    7.08891e8\n",
       "  6.08045e8    5.60457e8    4.00146e8       4.53321e8   -4.50733e8\n",
       " -1.53564e9   -1.87565e9   -2.05048e9      -1.70801e12  -1.39552e9\n",
       " -3.26113e9   -3.82256e9   -3.99158e9      -1.39552e9   -2.28868e12"
      ]
     },
     "metadata": {},
     "output_type": "display_data"
    },
    {
     "name": "stdout",
     "output_type": "stream",
     "text": [
      "[(1, 1.0e-5)]"
     ]
    },
    {
     "name": "stdout",
     "output_type": "stream",
     "text": [
      "\n"
     ]
    },
    {
     "ename": "LinearAlgebra.PosDefException",
     "evalue": "PosDefException: matrix is not positive definite; Cholesky factorization failed.",
     "output_type": "error",
     "traceback": [
      "PosDefException: matrix is not positive definite; Cholesky factorization failed.\n",
      "\n",
      "Stacktrace:\n",
      "  [1] checkpositivedefinite\n",
      "    @ C:\\Users\\domin\\AppData\\Local\\Programs\\Julia-1.9.0\\share\\julia\\stdlib\\v1.9\\LinearAlgebra\\src\\factorization.jl:18 [inlined]\n",
      "  [2] cholesky!(A::LinearAlgebra.Hermitian{Float64, Matrix{Float64}}, ::LinearAlgebra.NoPivot; check::Bool)\n",
      "    @ LinearAlgebra C:\\Users\\domin\\AppData\\Local\\Programs\\Julia-1.9.0\\share\\julia\\stdlib\\v1.9\\LinearAlgebra\\src\\cholesky.jl:268\n",
      "  [3] cholesky!\n",
      "    @ C:\\Users\\domin\\AppData\\Local\\Programs\\Julia-1.9.0\\share\\julia\\stdlib\\v1.9\\LinearAlgebra\\src\\cholesky.jl:266 [inlined]\n",
      "  [4] cholesky!(A::Matrix{Float64}, ::LinearAlgebra.NoPivot; check::Bool)\n",
      "    @ LinearAlgebra C:\\Users\\domin\\AppData\\Local\\Programs\\Julia-1.9.0\\share\\julia\\stdlib\\v1.9\\LinearAlgebra\\src\\cholesky.jl:300\n",
      "  [5] cholesky! (repeats 2 times)\n",
      "    @ C:\\Users\\domin\\AppData\\Local\\Programs\\Julia-1.9.0\\share\\julia\\stdlib\\v1.9\\LinearAlgebra\\src\\cholesky.jl:294 [inlined]\n",
      "  [6] #cholesky#162\n",
      "    @ C:\\Users\\domin\\AppData\\Local\\Programs\\Julia-1.9.0\\share\\julia\\stdlib\\v1.9\\LinearAlgebra\\src\\cholesky.jl:400 [inlined]\n",
      "  [7] cholesky (repeats 2 times)\n",
      "    @ C:\\Users\\domin\\AppData\\Local\\Programs\\Julia-1.9.0\\share\\julia\\stdlib\\v1.9\\LinearAlgebra\\src\\cholesky.jl:400 [inlined]\n",
      "  [8] solverNewton(p::Vector{Float64}, g::Vector{Float64}, h::Matrix{Float64}, trace::Vector{Dragoon.LSTrace}, i::Int64, args::Tuple{String})\n",
      "    @ Dragoon C:\\Users\\domin\\.julia\\packages\\Dragoon\\M265S\\src\\linesearch\\solvers.jl:21\n",
      "  [9] linesearch(booster::AnalyticalBooster, hist::Vector{State}, freqs::Vector{Float64}, α::Float64, objFunction::Callback, solver::Callback, derivator::Callback, step::Callback, search::Callback, unstuckinator::Callback; ϵgrad::Float64, maxiter::Int64, showtrace::Bool, showevery::Int64, unstuckisiter::Bool, resettimer::Bool)\n",
      "    @ Dragoon C:\\Users\\domin\\.julia\\packages\\Dragoon\\M265S\\src\\optimizers.jl:50\n",
      " [10] top-level scope\n",
      "    @ c:\\Users\\domin\\OneDrive\\Desktop\\Julia Files\\Dragoon.jl\\examples\\20 discs, Newton.ipynb:1"
     ]
    }
   ],
   "source": [
    "trace = linesearch(booster,hist,freqs,booster.vmotor*1e-3,\n",
    "                    ObjAnalytical,\n",
    "                    SolverNewton(\"cholesky\"),\n",
    "                    Derivator2(1e-5,1e-6,\"double\"),\n",
    "                    StepNorm(\"unit\"),\n",
    "                    SearchExtendedSteps(2000),\n",
    "                    UnstuckDont;\n",
    "                    ϵgrad=0.,maxiter=Int(2e1),showtrace=true);"
   ]
  },
  {
   "cell_type": "code",
   "execution_count": null,
   "metadata": {},
   "outputs": [],
   "source": [
    "#obtain result, booster is now in optimized position\n",
    "#pos2dist(booster.pos)     #in distance space\n",
    "booster.pos               #in position space"
   ]
  },
  {
   "cell_type": "code",
   "execution_count": null,
   "metadata": {},
   "outputs": [],
   "source": [
    "#get handy output\n",
    "plt = analyse(hist,trace,freqsplot; freqs=freqs,div=10)\n",
    "\n",
    "#savefig(plt[i],\"cool_epic_result_wow.svg\")"
   ]
  }
 ],
 "metadata": {
  "@webio": {
   "lastCommId": null,
   "lastKernelId": null
  },
  "kernelspec": {
   "display_name": "Julia 1.9.0",
   "language": "julia",
   "name": "julia-1.9"
  },
  "language_info": {
   "file_extension": ".jl",
   "mimetype": "application/julia",
   "name": "julia",
   "version": "1.9.0"
  }
 },
 "nbformat": 4,
 "nbformat_minor": 2
}
