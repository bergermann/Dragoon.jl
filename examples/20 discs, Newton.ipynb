{
 "cells": [
  {
   "cell_type": "markdown",
   "metadata": {},
   "source": [
    "### Setup"
   ]
  },
  {
   "cell_type": "code",
   "execution_count": 1,
   "metadata": {},
   "outputs": [],
   "source": [
    "using Dragoon"
   ]
  },
  {
   "cell_type": "code",
   "execution_count": 2,
   "metadata": {},
   "outputs": [
    {
     "name": "stdout",
     "output_type": "stream",
     "text": [
      "Objective Value: -243.3, Timestamp: 2023-06-05T14:05:39.435\n"
     ]
    }
   ],
   "source": [
    "#number of discs in the booster\n",
    "n = 20\n",
    "\n",
    "#initial disc configuration\n",
    "#findpeak tries to find an equidistant configuration with a peak at f\n",
    "initdist = findpeak(22.025e9,n)\n",
    "\n",
    "#generate frequencies for calculation and for plotting\n",
    "freqs = genFreqs(22.025e9,50e6; length=10) #optimize on these frequencies\n",
    "freqsplot = genFreqs(22.025e9,150e6; length=1000)\n",
    "\n",
    "#initialize physical properties of the booster\n",
    "booster = AnalyticalBooster(initdist)\n",
    "#=\n",
    "Booster(\n",
    "    pos,              disc positions\n",
    "    ndisk,            disc number\n",
    "    thickness,        disc thickness\n",
    "    epsilon,          disc epsilon\n",
    "    vmotor,           motor speed\n",
    "    maxlength,        maximum allowed booster length (not implemented yet)\n",
    "    timestamp,        booster operation time\n",
    "    summedtraveltime, summed motor operation time\n",
    "    codetimestamp     code runtime\n",
    ")\n",
    "=#\n",
    "\n",
    "#initialize storage of measurements\n",
    "hist = initHist(booster,10000,freqs,ObjAnalytical)\n",
    "#                           ^ length, should be at least the larger of n^2, search steps\n",
    ";"
   ]
  },
  {
   "cell_type": "markdown",
   "metadata": {},
   "source": [
    "### Optimizer"
   ]
  },
  {
   "cell_type": "code",
   "execution_count": 3,
   "metadata": {},
   "outputs": [],
   "source": [
    "#=\n",
    "how to use\n",
    "\n",
    "linesearch(                     directly modifies booster.pos\n",
    "    booster,                    \n",
    "    hist,                       \n",
    "    freqs,                      frequency range to optimize on\n",
    "    α,                          base step length e.g. motorspeed*measurementfrequency\n",
    "    (objective,[options]),      objective function\n",
    "    (solver,[options]),         provides step direction p\n",
    "    (derivative,[options]),     provides derivatives for use by solver\n",
    "    (step,[options]),           calculates steplength\n",
    "    (search,[options]),         search mode\n",
    "    (unstuckinator,[options]);  tries to unstuck system from bad local minima\n",
    "    ϵgrad=0,                    terminate if norm(gradient) falls below this value,\n",
    "    maxiter=100,                maximum allowed iterations,\n",
    "    showtrace=false,            wether to print progress,\n",
    "    showevery=1,                only print every i iterations,\n",
    "    unstuckisiter=true          wether an unstucking iteration counts towards maxiter\n",
    "                                    warning! can run endlessly if false\n",
    ")\n",
    "\n",
    "returns trace, access with\n",
    "trace[iteration].x      disc position\n",
    "                .obj    objective value\n",
    "                .g      gradient\n",
    "                .h      hessian\n",
    "                .t      timestamp\n",
    "                .T      summed travel time\n",
    "=#"
   ]
  },
  {
   "cell_type": "code",
   "execution_count": 9,
   "metadata": {},
   "outputs": [
    {
     "ename": "LinearAlgebra.PosDefException",
     "evalue": "PosDefException: matrix is not positive definite; Cholesky factorization failed.",
     "output_type": "error",
     "traceback": [
      "PosDefException: matrix is not positive definite; Cholesky factorization failed.\n",
      "\n",
      "Stacktrace:\n",
      "  [1] checkpositivedefinite\n",
      "    @ C:\\Users\\bergermann\\AppData\\Local\\Programs\\Julia-1.9.0\\share\\julia\\stdlib\\v1.9\\LinearAlgebra\\src\\factorization.jl:18 [inlined]\n",
      "  [2] cholesky!(A::LinearAlgebra.Hermitian{Float64, Matrix{Float64}}, ::LinearAlgebra.NoPivot; check::Bool)\n",
      "    @ LinearAlgebra C:\\Users\\bergermann\\AppData\\Local\\Programs\\Julia-1.9.0\\share\\julia\\stdlib\\v1.9\\LinearAlgebra\\src\\cholesky.jl:268\n",
      "  [3] cholesky!\n",
      "    @ C:\\Users\\bergermann\\AppData\\Local\\Programs\\Julia-1.9.0\\share\\julia\\stdlib\\v1.9\\LinearAlgebra\\src\\cholesky.jl:266 [inlined]\n",
      "  [4] cholesky!(A::Matrix{Float64}, ::LinearAlgebra.NoPivot; check::Bool)\n",
      "    @ LinearAlgebra C:\\Users\\bergermann\\AppData\\Local\\Programs\\Julia-1.9.0\\share\\julia\\stdlib\\v1.9\\LinearAlgebra\\src\\cholesky.jl:300\n",
      "  [5] cholesky! (repeats 2 times)\n",
      "    @ C:\\Users\\bergermann\\AppData\\Local\\Programs\\Julia-1.9.0\\share\\julia\\stdlib\\v1.9\\LinearAlgebra\\src\\cholesky.jl:294 [inlined]\n",
      "  [6] #cholesky#162\n",
      "    @ C:\\Users\\bergermann\\AppData\\Local\\Programs\\Julia-1.9.0\\share\\julia\\stdlib\\v1.9\\LinearAlgebra\\src\\cholesky.jl:400 [inlined]\n",
      "  [7] cholesky (repeats 2 times)\n",
      "    @ C:\\Users\\bergermann\\AppData\\Local\\Programs\\Julia-1.9.0\\share\\julia\\stdlib\\v1.9\\LinearAlgebra\\src\\cholesky.jl:400 [inlined]\n",
      "  [8] solverNewton(p::Vector{Float64}, g::Vector{Float64}, h::Matrix{Float64}, trace::Vector{Dragoon.LSTrace}, i::Int64, args::Tuple{String})\n",
      "    @ Dragoon \\\\inst3\\data\\Benutzer\\bergermann\\Desktop\\Julia Files\\Dragoon.jl\\src\\linesearch\\solvers.jl:21\n",
      "  [9] linesearch(booster::AnalyticalBooster, hist::Vector{State}, freqs::Vector{Float64}, α::Float64, objFunction::Callback, solver::Callback, derivator::Callback, step::Callback, search::Callback, unstuckinator::Callback; ϵgrad::Float64, maxiter::Int64, showtrace::Bool, showevery::Int64, unstuckisiter::Bool, resettimer::Bool)\n",
      "    @ Dragoon \\\\inst3\\data\\Benutzer\\bergermann\\Desktop\\Julia Files\\Dragoon.jl\\src\\optimizers.jl:48\n",
      " [10] top-level scope\n",
      "    @ \\\\inst3\\data\\Benutzer\\bergermann\\Desktop\\Julia Files\\Dragoon.jl\\examples\\20 discs, Newton.ipynb:1"
     ]
    }
   ],
   "source": [
    "trace = linesearch(booster,hist,freqs,booster.vmotor*1e-3,\n",
    "                    ObjAnalytical,\n",
    "                    SolverNewton(\"cholesky\"),\n",
    "                    Derivator2(1e-5,1e-6,\"double\"),\n",
    "                    StepNorm(\"unit\"),\n",
    "                    SearchExtendedSteps(2000),\n",
    "                    UnstuckDont;\n",
    "                    ϵgrad=0.,maxiter=Int(2e1),showtrace=true);"
   ]
  },
  {
   "cell_type": "code",
   "execution_count": 5,
   "metadata": {},
   "outputs": [
    {
     "data": {
      "text/plain": [
       "20-element Vector{Float64}:\n",
       " 0.007209715011297336\n",
       " 0.01541943002259467\n",
       " 0.023629145033892004\n",
       " 0.03183886004518934\n",
       " 0.04004857505648668\n",
       " 0.04825829006778401\n",
       " 0.05646800507908135\n",
       " 0.06467772009037868\n",
       " 0.07288743510167603\n",
       " 0.08109715011297336\n",
       " 0.08930686512427068\n",
       " 0.097516580135568\n",
       " 0.10572629514686534\n",
       " 0.11393601015816267\n",
       " 0.12214572516946\n",
       " 0.13035544018075734\n",
       " 0.13856515519205465\n",
       " 0.14677487020335206\n",
       " 0.15498458521464936\n",
       " 0.1631943002259467"
      ]
     },
     "metadata": {},
     "output_type": "display_data"
    }
   ],
   "source": [
    "#obtain result, booster is now in optimized position\n",
    "#pos2dist(booster.pos)     #in distance space\n",
    "booster.pos               #in position space"
   ]
  },
  {
   "cell_type": "code",
   "execution_count": 6,
   "metadata": {},
   "outputs": [
    {
     "ename": "UndefVarError",
     "evalue": "UndefVarError: `trace` not defined",
     "output_type": "error",
     "traceback": [
      "UndefVarError: `trace` not defined\n",
      "\n",
      "Stacktrace:\n",
      " [1] top-level scope\n",
      "   @ \\\\inst3\\data\\Benutzer\\bergermann\\Desktop\\Julia Files\\Dragoon.jl\\examples\\20 discs, Newton.ipynb:2"
     ]
    }
   ],
   "source": [
    "#get handy output\n",
    "plt = analyse(hist,trace,freqsplot; freqs=freqs,div=10)\n",
    "\n",
    "#savefig(plt[i],\"cool_epic_result_wow.svg\")"
   ]
  }
 ],
 "metadata": {
  "@webio": {
   "lastCommId": null,
   "lastKernelId": null
  },
  "kernelspec": {
   "display_name": "Julia 1.9.0",
   "language": "julia",
   "name": "julia-1.9"
  },
  "language_info": {
   "file_extension": ".jl",
   "mimetype": "application/julia",
   "name": "julia",
   "version": "1.9.0"
  }
 },
 "nbformat": 4,
 "nbformat_minor": 2
}
