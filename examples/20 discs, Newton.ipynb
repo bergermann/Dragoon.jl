{
 "cells": [
  {
   "cell_type": "markdown",
   "metadata": {},
   "source": [
    "### Setup"
   ]
  },
  {
   "cell_type": "code",
   "execution_count": null,
   "metadata": {},
   "outputs": [],
   "source": [
    "using Pkg\n",
    "\n",
    "Pkg.add(url=\"https://github.com/mppmu/BoostFractor.jl.git\")\n",
    "Pkg.add(url=\"https://github.com/bergermann/Dragoon.jl.git\")\n",
    "Pkg.update()"
   ]
  },
  {
   "cell_type": "code",
   "execution_count": null,
   "metadata": {},
   "outputs": [],
   "source": [
    "using Dragoon"
   ]
  },
  {
   "cell_type": "code",
   "execution_count": null,
   "metadata": {},
   "outputs": [],
   "source": [
    "#number of discs in the booster\n",
    "n = 20\n",
    "\n",
    "#initial disc configuration\n",
    "#findpeak tries to find an equidistant configuration with a peak at f\n",
    "initdist = findpeak(22.025e9,n)\n",
    "\n",
    "#generate frequencies for calculation and for plotting\n",
    "freqs = genFreqs(22.025e9,50e6; length=10) #optimize on these frequencies\n",
    "freqsplot = genFreqs(22.025e9,150e6; length=1000)\n",
    "\n",
    "#initialize physical properties of the booster\n",
    "booster = AnalyticalBooster(initdist)\n",
    "#=\n",
    "Booster(\n",
    "    pos,              disc positions\n",
    "    ndisk,            disc number\n",
    "    thickness,        disc thickness\n",
    "    epsilon,          disc epsilon\n",
    "    vmotor,           motor speed\n",
    "    maxlength,        maximum allowed booster length (not implemented yet)\n",
    "    timestamp,        booster operation time\n",
    "    summedtraveltime, summed motor operation time\n",
    "    codetimestamp     code runtime\n",
    ")\n",
    "=#\n",
    "\n",
    "#initialize storage of measurements\n",
    "hist = initHist(booster,10000,freqs,ObjAnalytical)\n",
    "#                           ^ length, should be at least the larger of (n^2, search steps)\n",
    ";"
   ]
  },
  {
   "cell_type": "code",
   "execution_count": null,
   "metadata": {},
   "outputs": [],
   "source": [
    "b1 = copy(booster.pos); display(b1)"
   ]
  },
  {
   "cell_type": "code",
   "execution_count": null,
   "metadata": {},
   "outputs": [],
   "source": [
    "p = zeros(booster.ndisk)\n",
    "g = zeros(booster.ndisk)\n",
    "h = zeros(booster.ndisk,booster.ndisk)\n",
    "\n",
    "updateHist!(booster,hist,freqs,ObjAnalytical)\n",
    "\n",
    "deriv = Derivator2(1e-3,1e-3,\"double\")\n",
    "\n",
    "secondDerivative(g,h,booster,hist,freqs,ObjAnalytical,(1e-3,1e-3,\"double\"))\n",
    "\n",
    "b2 = copy(booster.pos); display(booster.pos)"
   ]
  },
  {
   "cell_type": "code",
   "execution_count": null,
   "metadata": {},
   "outputs": [],
   "source": [
    "updateHist!(booster,hist,freqs,objFunction; force=true)"
   ]
  },
  {
   "cell_type": "code",
   "execution_count": null,
   "metadata": {},
   "outputs": [],
   "source": [
    "booster.pos[1] = 1.\n",
    "hist"
   ]
  },
  {
   "cell_type": "code",
   "execution_count": null,
   "metadata": {},
   "outputs": [],
   "source": [
    "import Dragoon.move\n",
    "args = (1e-3,1e-3,\"double\")\n",
    "objFunction = ObjAnalytical\n",
    "\n",
    "updateHist!(booster,hist,freqs,objFunction)\n",
    "move(booster,[(1,args[1])])\n",
    "\n",
    "if args[3] == \"double\"\n",
    "    for i in 1:booster.ndisk\n",
    "        updateHist!(booster,hist,freqs,objFunction)\n",
    "        move(booster,[(i,-2*args[1])])\n",
    "        updateHist!(booster,hist,freqs,objFunction)\n",
    "\n",
    "        g[i] = (hist[2].objvalue-hist[1].objvalue)/(2*args[1])\n",
    "\n",
    "        if i != booster.ndisk\n",
    "            move(booster,[(i,args[1]),(i+1,args[1])])\n",
    "        else\n",
    "            move(booster,[(i,args[1])])\n",
    "        end\n",
    "    end\n",
    "\n",
    "    for i in 1:booster.ndisk, j in 1:booster.ndisk\n",
    "        move(booster,[(i,args[2]),(j,args[2])])\n",
    "        updateHist!(booster,hist,freqs,objFunction)\n",
    "\n",
    "        move(booster,[(j,-args[2])])\n",
    "        updateHist!(booster,hist,freqs,objFunction)\n",
    "\n",
    "        move(booster,[(i,-args[2]),(j,args[2])])\n",
    "        updateHist!(booster,hist,freqs,objFunction)\n",
    "\n",
    "        move(booster,[(j,-args[2])])\n",
    "        updateHist!(booster,hist,freqs,objFunction)\n",
    "        \n",
    "        h[i,j] = (hist[4].objvalue-hist[3].objvalue-\n",
    "                    hist[2].objvalue+hist[1].objvalue)/(args[2]^2)\n",
    "    end\n",
    "end"
   ]
  },
  {
   "cell_type": "code",
   "execution_count": null,
   "metadata": {},
   "outputs": [],
   "source": [
    "updateHist!(booster,hist,freqs,objFunction; force=true)"
   ]
  },
  {
   "cell_type": "code",
   "execution_count": null,
   "metadata": {},
   "outputs": [],
   "source": [
    "Dragoon.shiftdown!(hist)"
   ]
  },
  {
   "cell_type": "code",
   "execution_count": null,
   "metadata": {},
   "outputs": [],
   "source": [
    "booster.pos[1] = 1.\n",
    "hist"
   ]
  },
  {
   "cell_type": "markdown",
   "metadata": {},
   "source": [
    "### Optimizer"
   ]
  },
  {
   "cell_type": "code",
   "execution_count": null,
   "metadata": {},
   "outputs": [],
   "source": [
    "#=\n",
    "how to use\n",
    "\n",
    "linesearch(                     directly modifies booster.pos\n",
    "    booster,                    \n",
    "    hist,                       \n",
    "    freqs,                      frequency range to optimize on\n",
    "    α,                          base step length e.g. motorspeed*measurementfrequency\n",
    "    (objective,[options]),      objective function\n",
    "    (solver,[options]),         provides step direction p\n",
    "    (derivative,[options]),     provides derivatives for use by solver\n",
    "    (step,[options]),           calculates steplength\n",
    "    (search,[options]),         search mode\n",
    "    (unstuckinator,[options]);  tries to unstuck system from bad local minima\n",
    "    ϵgrad=0,                    terminate if norm(gradient) falls below this value,\n",
    "    maxiter=100,                maximum allowed iterations,\n",
    "    showtrace=false,            wether to print progress,\n",
    "    showevery=1,                only print every i iterations,\n",
    "    unstuckisiter=true          wether an unstucking iteration counts towards maxiter\n",
    "                                    warning! can run endlessly if false\n",
    ")\n",
    "\n",
    "returns trace, access with\n",
    "trace[iteration].x      disc position\n",
    "                .obj    objective value\n",
    "                .g      gradient\n",
    "                .h      hessian\n",
    "                .t      timestamp\n",
    "                .T      summed travel time\n",
    "=#"
   ]
  },
  {
   "cell_type": "code",
   "execution_count": null,
   "metadata": {},
   "outputs": [],
   "source": [
    "trace = linesearch(booster,hist,freqs,booster.vmotor*1e-3,\n",
    "                    ObjAnalytical,\n",
    "                    SolverNewton(\"cholesky\"),\n",
    "                    Derivator2(1e-5,1e-6,\"double\"),\n",
    "                    StepNorm(\"unit\"),\n",
    "                    SearchExtendedSteps(2000),\n",
    "                    UnstuckDont;\n",
    "                    ϵgrad=0.,maxiter=Int(2e1),showtrace=true);"
   ]
  },
  {
   "cell_type": "code",
   "execution_count": null,
   "metadata": {},
   "outputs": [],
   "source": [
    "#obtain result, booster is now in optimized position\n",
    "#pos2dist(booster.pos)     #in distance space\n",
    "booster.pos               #in position space"
   ]
  },
  {
   "cell_type": "code",
   "execution_count": null,
   "metadata": {},
   "outputs": [],
   "source": [
    "#get handy output\n",
    "plt = analyse(hist,trace,freqsplot; freqs=freqs,div=10)\n",
    "\n",
    "#savefig(plt[i],\"cool_epic_result_wow.svg\")"
   ]
  }
 ],
 "metadata": {
  "@webio": {
   "lastCommId": null,
   "lastKernelId": null
  },
  "kernelspec": {
   "display_name": "Julia 1.9.0",
   "language": "julia",
   "name": "julia-1.9"
  },
  "language_info": {
   "file_extension": ".jl",
   "mimetype": "application/julia",
   "name": "julia",
   "version": "1.9.0"
  }
 },
 "nbformat": 4,
 "nbformat_minor": 2
}
