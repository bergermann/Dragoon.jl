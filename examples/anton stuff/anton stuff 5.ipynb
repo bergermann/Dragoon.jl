{
 "cells": [
  {
   "cell_type": "code",
   "execution_count": 1,
   "id": "c79303b0",
   "metadata": {},
   "outputs": [
    {
     "name": "stderr",
     "output_type": "stream",
     "text": [
      "\u001b[32m\u001b[1m    Updating\u001b[22m\u001b[39m registry at `C:\\Users\\domin\\.julia\\registries\\General`\n",
      "┌ Info: The General registry is installed via git. Consider reinstalling it via\n",
      "│ the newer faster direct from tarball format by running:\n",
      "│   pkg> registry rm General; registry add General\n",
      "│ \n",
      "└ @ Pkg.Registry C:\\Users\\domin\\.julia\\juliaup\\julia-1.11.3+0.x64.w64.mingw32\\share\\julia\\stdlib\\v1.11\\Pkg\\src\\Registry\\Registry.jl:478\n",
      "\u001b[32m\u001b[1m    Updating\u001b[22m\u001b[39m git-repo `https://github.com/JuliaRegistries/General.git`\n",
      "\u001b[32m\u001b[1m    Updating\u001b[22m\u001b[39m git-repo `https://github.com/mppmu/BoostFractor.jl.git`\n",
      "\u001b[32m\u001b[1m    Updating\u001b[22m\u001b[39m git-repo `https://github.com/bergermann/Dragoon.jl.git`\n",
      "\u001b[32m\u001b[1m  No Changes\u001b[22m\u001b[39m to `C:\\Users\\domin\\.julia\\environments\\v1.11\\Project.toml`\n",
      "\u001b[32m\u001b[1m  No Changes\u001b[22m\u001b[39m to `C:\\Users\\domin\\.julia\\environments\\v1.11\\Manifest.toml`\n"
     ]
    }
   ],
   "source": [
    "using Pkg\n",
    "\n",
    "# Pkg.add(url=\"https://github.com/mppmu/BoostFractor.jl.git\")\n",
    "# Pkg.add(url=\"https://github.com/bergermann/Dragoon.jl.git\")\n",
    "Pkg.update()"
   ]
  },
  {
   "cell_type": "code",
   "execution_count": 2,
   "id": "edea9f29",
   "metadata": {},
   "outputs": [],
   "source": [
    "using Dragoon\n",
    "using Plots\n",
    "using HDF5\n",
    "# using Dates"
   ]
  },
  {
   "cell_type": "code",
   "execution_count": 3,
   "id": "79b0403c",
   "metadata": {},
   "outputs": [],
   "source": [
    "eps = 9.35\n",
    "tand = 1e-4\n",
    "freqsplot = genFreqs([30,36]*1e9; n=1000);"
   ]
  },
  {
   "cell_type": "code",
   "execution_count": 4,
   "id": "11ff5338",
   "metadata": {},
   "outputs": [
    {
     "ename": "UndefVarError",
     "evalue": "UndefVarError: `transfer_matrix_2port` not defined in `Main`\nSuggestion: check for spelling errors or missing imports.",
     "output_type": "error",
     "traceback": [
      "UndefVarError: `transfer_matrix_2port` not defined in `Main`\n",
      "Suggestion: check for spelling errors or missing imports.\n",
      "\n",
      "Stacktrace:\n",
      " [1] top-level scope\n",
      "   @ c:\\Users\\domin\\OneDrive\\Desktop\\Julia Files\\Dragoon.jl\\examples\\anton stuff\\jl_notebook_cell_df34fa98e69747e1a8f8a730347b8e2f_W3sZmlsZQ==.jl:2"
     ]
    }
   ],
   "source": [
    "d = 5e-3*ones(9);\n",
    "RB1, RB2 = transfer_matrix_2port(freqsplot,d; eps=eps,tand=tand,thickness=1e-3)"
   ]
  },
  {
   "cell_type": "code",
   "execution_count": 5,
   "id": "6463ea77",
   "metadata": {},
   "outputs": [],
   "source": []
  }
 ],
 "metadata": {
  "kernelspec": {
   "display_name": "Julia 1.11.3",
   "language": "julia",
   "name": "julia-1.11"
  },
  "language_info": {
   "file_extension": ".jl",
   "mimetype": "application/julia",
   "name": "julia",
   "version": "1.11.3"
  }
 },
 "nbformat": 4,
 "nbformat_minor": 5
}
