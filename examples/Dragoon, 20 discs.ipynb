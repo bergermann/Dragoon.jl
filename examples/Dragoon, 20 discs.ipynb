{
 "cells": [
  {
   "cell_type": "markdown",
   "metadata": {},
   "source": [
    "### Setup"
   ]
  },
  {
   "cell_type": "code",
   "execution_count": 1,
   "metadata": {},
   "outputs": [
    {
     "name": "stderr",
     "output_type": "stream",
     "text": [
      "\u001b[32m\u001b[1m    Updating\u001b[22m\u001b[39m registry at `C:\\Users\\bergermann\\.julia\\registries\\General.toml`\n",
      "\u001b[32m\u001b[1m    Updating\u001b[22m\u001b[39m git-repo `https://github.com/mppmu/BoostFractor.jl.git`\n",
      "\u001b[32m\u001b[1m    Updating\u001b[22m\u001b[39m git-repo `https://github.com/bergermann/Dragoon.jl.git`\n",
      "\u001b[32m\u001b[1m  No Changes\u001b[22m\u001b[39m to `C:\\Users\\bergermann\\.julia\\environments\\v1.9\\Project.toml`\n",
      "\u001b[32m\u001b[1m  No Changes\u001b[22m\u001b[39m to `C:\\Users\\bergermann\\.julia\\environments\\v1.9\\Manifest.toml`\n"
     ]
    }
   ],
   "source": [
    "# install if not yet done\n",
    "using Pkg\n",
    "\n",
    "# Pkg.add(url=\"https://github.com/mppmu/BoostFractor.jl.git\")\n",
    "# Pkg.add(url=\"https://github.com/bergermann/Dragoon.jl.git\")\n",
    "Pkg.update()"
   ]
  },
  {
   "cell_type": "code",
   "execution_count": 2,
   "metadata": {},
   "outputs": [],
   "source": [
    "using Dragoon\n",
    "using Plots, Plots.Measures\n",
    "using Dates\n",
    "using JLD2\n",
    "\n",
    "include(joinpath(pwd(),\"analysis\\\\tools\\\\tools.jl\"));"
   ]
  },
  {
   "cell_type": "code",
   "execution_count": 3,
   "metadata": {},
   "outputs": [
    {
     "data": {
      "text/plain": [
       "2-element Vector{Symbol}:\n",
       " :P0\n",
       " :O0"
      ]
     },
     "metadata": {},
     "output_type": "display_data"
    }
   ],
   "source": [
    "@load \"full_20_24.0.jld2\""
   ]
  },
  {
   "cell_type": "code",
   "execution_count": 4,
   "metadata": {},
   "outputs": [],
   "source": [
    "n = 20 # number of discs in the booster\n",
    "\n",
    "f = 22\n",
    "\n",
    "freqs = genFreqs(f*1e9+25e6,50e6; n=10) # optimize on these frequencies\n",
    "freqsplot = genFreqs(f*1e9+25e6,150e6; n=1000) # plot with these frequencies\n",
    "\n",
    "booster = AnalyticalBooster(P0[f]; tand=6e-5)  # physical properties of the booster\n",
    "\n",
    "obj = ObjAnalytical\n",
    "\n",
    "hist = initHist(booster,2*(booster.ndisk^2),freqs,obj);"
   ]
  },
  {
   "cell_type": "code",
   "execution_count": 1,
   "metadata": {},
   "outputs": [
    {
     "ename": "UndefVarError",
     "evalue": "UndefVarError: `freqsplot` not defined",
     "output_type": "error",
     "traceback": [
      "UndefVarError: `freqsplot` not defined\n",
      "\n",
      "Stacktrace:\n",
      " [1] top-level scope\n",
      "   @ \\data\\Benutzer\\bergermann\\Desktop\\dragoon\\Dragoon.jl\\examples\\jl_notebook_cell_df34fa98e69747e1a8f8a730347b8e2f_W5sZmlsZQ==.jl:1"
     ]
    }
   ],
   "source": [
    "plot(freqsplot/1e9,getBoost1d(booster,freqsplot))"
   ]
  },
  {
   "cell_type": "code",
   "execution_count": 6,
   "metadata": {},
   "outputs": [
    {
     "data": {
      "text/plain": [
       "11313.978437587324"
      ]
     },
     "metadata": {},
     "output_type": "display_data"
    }
   ],
   "source": [
    "minimum(getBoost1d(booster,freqs))"
   ]
  },
  {
   "cell_type": "code",
   "execution_count": 15,
   "metadata": {},
   "outputs": [],
   "source": [
    "move(booster,P0[10]; additive=false)\n",
    "\n",
    "O1,P1,F1,s1,s_1 = dragoon(booster,hist,50e6,5e6,\n",
    "\n",
    "        obj,UnstuckDont;\n",
    "        fmin=10e9,fmax=20.05e9,nfreqs=10,\n",
    "        scalerange=(1.0,1.3),scalesteps=1000,\n",
    "        preoptimize=false,reverse=false)\n",
    "\n",
    "f1 = [(f[1]+f[end])/2 for f in F1];"
   ]
  },
  {
   "cell_type": "code",
   "execution_count": null,
   "metadata": {},
   "outputs": [],
   "source": [
    "p3 = plot(collect(10:1:100).+0.025,-O0/1e3,label=\"scratch\",seriestype=:scatter,\n",
    "    xlabel=\"Frequency [GHz]\",ylabel=\"Objective Value × 10³\",markersize=2)\n",
    "\n",
    "\n",
    "plot!(p3,f1/1e9,-O1/1e3; label=\"rescaling 1\",c=:blue,lw=2)\n"
   ]
  },
  {
   "cell_type": "code",
   "execution_count": null,
   "metadata": {},
   "outputs": [],
   "source": [
    "plot(s_1)"
   ]
  },
  {
   "cell_type": "code",
   "execution_count": null,
   "metadata": {},
   "outputs": [],
   "source": [
    "move(booster,P0[10]; additive=false)\n",
    "\n",
    "t1 = copy(booster.timestamp)\n",
    "O1,P1,F1,s1,s_1 = dragoon(booster,hist,50e6,5e6,\n",
    "        obj,UnstuckExpand(2,6_000);\n",
    "        fmin=10e9,fmax=10e9,nfreqs=10,\n",
    "        scalerange=(1.0,1.3),scalesteps=1000,\n",
    "        preoptimize=true,reverse=false)\n",
    "\n",
    "t2 = copy(booster.timestamp)\n",
    "println(\"Elapsed movement time: \",canonicalize(t2-t1))\n",
    "\n",
    "f1 = [(f[1]+f[end])/2 for f in F1];"
   ]
  },
  {
   "cell_type": "code",
   "execution_count": null,
   "metadata": {},
   "outputs": [],
   "source": [
    "move(booster,P0[20]; additive=false)\n",
    "\n",
    "t1 = copy(booster.timestamp)\n",
    "O2,P2,F2,s2,s_2 = dragoon(booster,hist,50e6,5e6,\n",
    "        obj,UnstuckExpand(2,6_000);\n",
    "        fmin=20e9,fmax=40.0e9,nfreqs=10,\n",
    "        scalerange=(1.0,1.4),scalesteps=1000,\n",
    "        preoptimize=false,reverse=false)\n",
    "\n",
    "t2 = copy(booster.timestamp)\n",
    "println(\"Elapsed movement time: \",canonicalize(t2-t1))\n",
    "\n",
    "f2 = [(f[1]+f[end])/2 for f in F2];"
   ]
  },
  {
   "cell_type": "code",
   "execution_count": null,
   "metadata": {},
   "outputs": [],
   "source": [
    "move(booster,P0[40]; additive=false)\n",
    "\n",
    "t1 = copy(booster.timestamp)\n",
    "O3,P3,F3,s3,s_3 = dragoon(booster,hist,50e6,5e6,\n",
    "        obj,UnstuckExpand(2,6_000);\n",
    "        fmin=40e9,fmax=60.0e9,nfreqs=10,\n",
    "        scalerange=(1.3,1.4),scalesteps=1000,\n",
    "        preoptimize=false,reverse=false)\n",
    "\n",
    "t2 = copy(booster.timestamp)\n",
    "println(\"Elapsed movement time: \",canonicalize(t2-t1))\n",
    "\n",
    "f3 = [(f[1]+f[end])/2 for f in F3];"
   ]
  },
  {
   "cell_type": "code",
   "execution_count": null,
   "metadata": {},
   "outputs": [],
   "source": [
    "p3 = plot(collect(10:1:100).+0.025,-O0/1e3,label=\"scratch\",seriestype=:scatter,\n",
    "    xlabel=\"Frequency [GHz]\",ylabel=\"Objective Value × 10³\",markersize=2)\n",
    "\n",
    "\n",
    "plot!(p3,f1/1e9,-O1/1e3; label=\"rescaling 1\",c=:blue,lw=2)\n",
    "plot!(p3,f2/1e9,-O2/1e3; label=\"rescaling 2\",c=:red,lw=2)\n",
    "plot!(p3,f3/1e9,-O3/1e3; label=\"rescaling 3\",c=:green,lw=2)\n",
    "\n",
    "# savefig(p3,\"match.svg\")\n",
    "\n",
    "p3"
   ]
  },
  {
   "cell_type": "code",
   "execution_count": null,
   "metadata": {},
   "outputs": [],
   "source": [
    "display(plot(s_1))\n",
    "display(plot(s_2))\n",
    "display(plot(s_3))"
   ]
  },
  {
   "cell_type": "code",
   "execution_count": null,
   "metadata": {},
   "outputs": [],
   "source": []
  },
  {
   "cell_type": "code",
   "execution_count": null,
   "metadata": {},
   "outputs": [],
   "source": [
    "p1 = plot(; xlabel=\"Frequency [GHz]\",ylabel=\"Boostfactor β² × 10³\",#size=(4000,800),\n",
    "    left_margin=[5mm 0mm],bottom_margin=[5mm 0mm])\n",
    "# p2 = plot(; xlabel=\"Frequency [GHz]\",ylabel=\"Boostfactor β² × 10³\",size=(4000,800),\n",
    "#     left_margin=[10mm 0mm],bottom_margin=[10mm 0mm])\n",
    "\n",
    "for i in eachindex(P)\n",
    "    bw = F[i][end]-F[i][1]\n",
    "    f = collect(range(F[i][1]-bw,F[i][end]+bw,100))\n",
    "    b = boost1d(pos2dist(P[i]),f)\n",
    "    plot!(p1,f/1e9,b/1e3,label=\"\")\n",
    "end\n",
    "xlims!(p1,(21-0.1,22+0.1))\n",
    "ylims!(p1,(0,25))\n",
    "\n",
    "plot!(p1,f0/1e9,-O/1e3; c=:red,lw=1,label=\"minimum boost\")\n",
    "\n",
    "# savefig(p1,\"coverage.svg\")\n",
    "\n",
    "p1\n"
   ]
  },
  {
   "cell_type": "code",
   "execution_count": null,
   "metadata": {},
   "outputs": [],
   "source": [
    "move(booster,P0[22]; additive=false)\n",
    "fp = genFreqs(22.025e9,150e6; n=1000)\n",
    "\n",
    "p5 = plot(fp/1e9,getBoost1d(booster,fp)/1e3;\n",
    "    xlabel=\"Frequency [GHz]\",ylabel=\"Boostfactor β² × 10³\",c=:red,label=\"original\",lw=2,\n",
    "    ylims=(-1,30))\n",
    "\n",
    "scale = 22e9/(22e9+25e6)\n",
    "p_ = copy(booster.pos)\n",
    "dd = (scale-1)*pos2dist(p_; disk_thickness=booster.thickness)\n",
    "\n",
    "for i in 10:10:100\n",
    "    move(booster,dist2pos(pos2dist(p_)+dd*50*i/100); additive=false)\n",
    "    \n",
    "    fp = genFreqs(22.025e9+i*11e6,150e6; n=1000)\n",
    "    plot!(p5,fp/1e9,getBoost1d(booster,fp)/1e3; c=:blue,label=(i == 20 ? \"rescaled\" : \"\"))\n",
    "end\n",
    "\n",
    "# savefig(p5,\"rescale.svg\")\n",
    "\n",
    "p5"
   ]
  },
  {
   "cell_type": "code",
   "execution_count": null,
   "metadata": {},
   "outputs": [],
   "source": [
    "dd"
   ]
  }
 ],
 "metadata": {
  "@webio": {
   "lastCommId": null,
   "lastKernelId": null
  },
  "kernelspec": {
   "display_name": "Julia 1.9.0",
   "language": "julia",
   "name": "julia-1.9"
  },
  "language_info": {
   "file_extension": ".jl",
   "mimetype": "application/julia",
   "name": "julia",
   "version": "1.9.0"
  }
 },
 "nbformat": 4,
 "nbformat_minor": 2
}
